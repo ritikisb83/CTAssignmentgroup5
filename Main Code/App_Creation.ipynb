{
 "cells": [
  {
   "cell_type": "code",
   "execution_count": null,
   "id": "9d5ecf3f-5f9d-48bf-85d0-951e271c4cc4",
   "metadata": {},
   "outputs": [],
   "source": [
    "!pip install streamlit"
   ]
  },
  {
   "cell_type": "code",
   "execution_count": 1,
   "id": "6d99807b-3b0c-4105-b01f-20c7098ea172",
   "metadata": {},
   "outputs": [
    {
     "name": "stdout",
     "output_type": "stream",
     "text": [
      "Overwriting app.py\n"
     ]
    }
   ],
   "source": [
    "%%writefile app.py\n",
    "# Importing necessary libraries\n",
    "import streamlit as st\n",
    "import pandas as pd\n",
    "import numpy as np\n",
    "from joblib import load\n",
    "\n",
    "# Loading the pre-trained machine learning model from a .pkl file\n",
    "restaurantrevenue = load('restaurantrevenue.pkl')\n",
    "\n",
    "# Function to predict revenue based on user input\n",
    "def predict_revenue(NumberofCustomer,\n",
    "                  MenuPrice,\n",
    "                  MarketingSpend,\n",
    "                  AverageCustomerSpending,\n",
    "                  CuisineType,\n",
    "                  Promotions,\n",
    "                  Reviews):\n",
    "\n",
    "    # Creating a dictionary of inputs to convert into a DataFrame\n",
    "    inputs_dict = {'Number_of_Customers' : float(NumberofCustomer),\n",
    "                   'Menu_Price': float(MenuPrice),\n",
    "                   'Marketing_Spend': float(MarketingSpend),\n",
    "                   'Cuisine_Type': CuisineType,\n",
    "                   'Average_Customer_Spending':float(AverageCustomerSpending),\n",
    "                   'Promotions': int(Promotions),\n",
    "                   'Reviews': int(Reviews)}\n",
    "\n",
    "    # Converting the input dictionary to a DataFrame for model compatibility\n",
    "    df = pd.DataFrame(inputs_dict, index = [0])\n",
    "\n",
    "    # Using the pre-trained model to predict revenue\n",
    "    revenue = restaurantrevenue.predict(df)[0]\n",
    "    return revenue\n",
    "\n",
    "\n",
    "#function to define the app_layout\n",
    "def app_layout():\n",
    "\n",
    "    # App title and header\n",
    "    st.title('Restaurant Revenue Prediction')\n",
    "    st.header('Enter Restaurant Related Detail:')\n",
    "\n",
    "    ## Creating the user input fields\n",
    "\n",
    "    NumberofCustomer = st.number_input('Number of customer visiting restaurant.:',\n",
    "                               min_value=1.0,\n",
    "                               max_value=950.0,\n",
    "                               value=50.0)\n",
    "\n",
    "    MenuPrice = st.number_input('Average menu prices at the restaurant.:',\n",
    "                               min_value=1.0,\n",
    "                               max_value=950.0,\n",
    "                               value=30.0)\n",
    "    \n",
    "    MarketingSpend = st.number_input('Average marketing spend on the restaurant.:',\n",
    "                               min_value=1.0,\n",
    "                               max_value=950.0,\n",
    "                               value=100.0)\n",
    "\n",
    "    AverageCustomerSpending = st.number_input('Average customer spending at the restaurant.:',\n",
    "                               min_value=1.0,\n",
    "                               max_value=950.0,\n",
    "                               value=100.0)\n",
    "\n",
    "    CuisineType = st.selectbox('Cuisine Type:',\n",
    "                         ['Japanese', 'Italian', 'American', 'Mexican'])\n",
    "    \n",
    "\n",
    "    Promotions = st.number_input('Promotion( 1 yes and 0 No)',\n",
    "                               min_value=0,\n",
    "                               max_value=1,\n",
    "                               value=1)\n",
    "\n",
    "    Reviews = st.number_input('Numbers of Review',\n",
    "                          min_value=1,\n",
    "                          max_value=100,\n",
    "                          value=10)\n",
    "    # Predict revenue button\n",
    "    if st.button('Predict Revenue'):\n",
    "        revenue = predict_revenue(NumberofCustomer,\n",
    "                              MenuPrice,\n",
    "                              MarketingSpend,\n",
    "                              AverageCustomerSpending,\n",
    "                              CuisineType,\n",
    "                              Promotions,\n",
    "                              Reviews)\n",
    "        st.success(f'Expected revenue of the restaurant is : DOLLAR {np.round(revenue, 2)}')\n",
    "\n",
    "# Main function to run the app\n",
    "if __name__=='__main__':\n",
    "  app_layout()"
   ]
  },
  {
   "cell_type": "markdown",
   "id": "78440ecf-af2b-435c-8631-b58dcefb46b2",
   "metadata": {},
   "source": [
    "## Run the UI"
   ]
  },
  {
   "cell_type": "code",
   "execution_count": 3,
   "id": "d16ea927-818e-49b2-8188-d34eb5e1e9cb",
   "metadata": {},
   "outputs": [
    {
     "name": "stdout",
     "output_type": "stream",
     "text": [
      "^C\n"
     ]
    }
   ],
   "source": [
    "!streamlit run app.py"
   ]
  }
 ],
 "metadata": {
  "kernelspec": {
   "display_name": "Python 3 (ipykernel)",
   "language": "python",
   "name": "python3"
  },
  "language_info": {
   "codemirror_mode": {
    "name": "ipython",
    "version": 3
   },
   "file_extension": ".py",
   "mimetype": "text/x-python",
   "name": "python",
   "nbconvert_exporter": "python",
   "pygments_lexer": "ipython3",
   "version": "3.11.7"
  }
 },
 "nbformat": 4,
 "nbformat_minor": 5
}
