{
 "cells": [
  {
   "cell_type": "markdown",
   "metadata": {
    "id": "DvVEcJvKAClm"
   },
   "source": [
    "# Creating Fast API endpoint"
   ]
  },
  {
   "cell_type": "code",
   "execution_count": 1,
   "metadata": {
    "colab": {
     "base_uri": "https://localhost:8080/"
    },
    "executionInfo": {
     "elapsed": 16752,
     "status": "ok",
     "timestamp": 1734024751681,
     "user": {
      "displayName": "ritik ranjan",
      "userId": "01659122567081095208"
     },
     "user_tz": -330
    },
    "id": "P4yq54fipQEY",
    "outputId": "ea48b3cc-7626-4f6b-9afa-db02b1b3f994"
   },
   "outputs": [
    {
     "name": "stdout",
     "output_type": "stream",
     "text": [
      "Collecting fastapi\n",
      "  Downloading fastapi-0.115.6-py3-none-any.whl.metadata (27 kB)\n",
      "Collecting uvicorn\n",
      "  Downloading uvicorn-0.32.1-py3-none-any.whl.metadata (6.6 kB)\n",
      "Requirement already satisfied: wandb in /usr/local/lib/python3.10/dist-packages (0.18.7)\n",
      "Collecting pyngrok\n",
      "  Downloading pyngrok-7.2.1-py3-none-any.whl.metadata (8.3 kB)\n",
      "Collecting starlette<0.42.0,>=0.40.0 (from fastapi)\n",
      "  Downloading starlette-0.41.3-py3-none-any.whl.metadata (6.0 kB)\n",
      "Requirement already satisfied: pydantic!=1.8,!=1.8.1,!=2.0.0,!=2.0.1,!=2.1.0,<3.0.0,>=1.7.4 in /usr/local/lib/python3.10/dist-packages (from fastapi) (2.10.3)\n",
      "Requirement already satisfied: typing-extensions>=4.8.0 in /usr/local/lib/python3.10/dist-packages (from fastapi) (4.12.2)\n",
      "Requirement already satisfied: click>=7.0 in /usr/local/lib/python3.10/dist-packages (from uvicorn) (8.1.7)\n",
      "Requirement already satisfied: h11>=0.8 in /usr/local/lib/python3.10/dist-packages (from uvicorn) (0.14.0)\n",
      "Requirement already satisfied: docker-pycreds>=0.4.0 in /usr/local/lib/python3.10/dist-packages (from wandb) (0.4.0)\n",
      "Requirement already satisfied: gitpython!=3.1.29,>=1.0.0 in /usr/local/lib/python3.10/dist-packages (from wandb) (3.1.43)\n",
      "Requirement already satisfied: platformdirs in /usr/local/lib/python3.10/dist-packages (from wandb) (4.3.6)\n",
      "Requirement already satisfied: protobuf!=4.21.0,!=5.28.0,<6,>=3.19.0 in /usr/local/lib/python3.10/dist-packages (from wandb) (4.25.5)\n",
      "Requirement already satisfied: psutil>=5.0.0 in /usr/local/lib/python3.10/dist-packages (from wandb) (5.9.5)\n",
      "Requirement already satisfied: pyyaml in /usr/local/lib/python3.10/dist-packages (from wandb) (6.0.2)\n",
      "Requirement already satisfied: requests<3,>=2.0.0 in /usr/local/lib/python3.10/dist-packages (from wandb) (2.32.3)\n",
      "Requirement already satisfied: sentry-sdk>=2.0.0 in /usr/local/lib/python3.10/dist-packages (from wandb) (2.19.0)\n",
      "Requirement already satisfied: setproctitle in /usr/local/lib/python3.10/dist-packages (from wandb) (1.3.4)\n",
      "Requirement already satisfied: setuptools in /usr/local/lib/python3.10/dist-packages (from wandb) (75.1.0)\n",
      "Requirement already satisfied: six>=1.4.0 in /usr/local/lib/python3.10/dist-packages (from docker-pycreds>=0.4.0->wandb) (1.16.0)\n",
      "Requirement already satisfied: gitdb<5,>=4.0.1 in /usr/local/lib/python3.10/dist-packages (from gitpython!=3.1.29,>=1.0.0->wandb) (4.0.11)\n",
      "Requirement already satisfied: annotated-types>=0.6.0 in /usr/local/lib/python3.10/dist-packages (from pydantic!=1.8,!=1.8.1,!=2.0.0,!=2.0.1,!=2.1.0,<3.0.0,>=1.7.4->fastapi) (0.7.0)\n",
      "Requirement already satisfied: pydantic-core==2.27.1 in /usr/local/lib/python3.10/dist-packages (from pydantic!=1.8,!=1.8.1,!=2.0.0,!=2.0.1,!=2.1.0,<3.0.0,>=1.7.4->fastapi) (2.27.1)\n",
      "Requirement already satisfied: charset-normalizer<4,>=2 in /usr/local/lib/python3.10/dist-packages (from requests<3,>=2.0.0->wandb) (3.4.0)\n",
      "Requirement already satisfied: idna<4,>=2.5 in /usr/local/lib/python3.10/dist-packages (from requests<3,>=2.0.0->wandb) (3.10)\n",
      "Requirement already satisfied: urllib3<3,>=1.21.1 in /usr/local/lib/python3.10/dist-packages (from requests<3,>=2.0.0->wandb) (2.2.3)\n",
      "Requirement already satisfied: certifi>=2017.4.17 in /usr/local/lib/python3.10/dist-packages (from requests<3,>=2.0.0->wandb) (2024.8.30)\n",
      "Requirement already satisfied: anyio<5,>=3.4.0 in /usr/local/lib/python3.10/dist-packages (from starlette<0.42.0,>=0.40.0->fastapi) (3.7.1)\n",
      "Requirement already satisfied: sniffio>=1.1 in /usr/local/lib/python3.10/dist-packages (from anyio<5,>=3.4.0->starlette<0.42.0,>=0.40.0->fastapi) (1.3.1)\n",
      "Requirement already satisfied: exceptiongroup in /usr/local/lib/python3.10/dist-packages (from anyio<5,>=3.4.0->starlette<0.42.0,>=0.40.0->fastapi) (1.2.2)\n",
      "Requirement already satisfied: smmap<6,>=3.0.1 in /usr/local/lib/python3.10/dist-packages (from gitdb<5,>=4.0.1->gitpython!=3.1.29,>=1.0.0->wandb) (5.0.1)\n",
      "Downloading fastapi-0.115.6-py3-none-any.whl (94 kB)\n",
      "\u001b[2K   \u001b[90m━━━━━━━━━━━━━━━━━━━━━━━━━━━━━━━━━━━━━━━━\u001b[0m \u001b[32m94.8/94.8 kB\u001b[0m \u001b[31m2.4 MB/s\u001b[0m eta \u001b[36m0:00:00\u001b[0m\n",
      "\u001b[?25hDownloading uvicorn-0.32.1-py3-none-any.whl (63 kB)\n",
      "\u001b[2K   \u001b[90m━━━━━━━━━━━━━━━━━━━━━━━━━━━━━━━━━━━━━━━━\u001b[0m \u001b[32m63.8/63.8 kB\u001b[0m \u001b[31m4.1 MB/s\u001b[0m eta \u001b[36m0:00:00\u001b[0m\n",
      "\u001b[?25hDownloading pyngrok-7.2.1-py3-none-any.whl (22 kB)\n",
      "Downloading starlette-0.41.3-py3-none-any.whl (73 kB)\n",
      "\u001b[2K   \u001b[90m━━━━━━━━━━━━━━━━━━━━━━━━━━━━━━━━━━━━━━━━\u001b[0m \u001b[32m73.2/73.2 kB\u001b[0m \u001b[31m2.9 MB/s\u001b[0m eta \u001b[36m0:00:00\u001b[0m\n",
      "\u001b[?25hInstalling collected packages: uvicorn, pyngrok, starlette, fastapi\n",
      "Successfully installed fastapi-0.115.6 pyngrok-7.2.1 starlette-0.41.3 uvicorn-0.32.1\n"
     ]
    }
   ],
   "source": [
    "!pip install fastapi uvicorn wandb pyngrok"
   ]
  },
  {
   "cell_type": "code",
   "execution_count": 2,
   "metadata": {
    "executionInfo": {
     "elapsed": 5,
     "status": "ok",
     "timestamp": 1734024751682,
     "user": {
      "displayName": "ritik ranjan",
      "userId": "01659122567081095208"
     },
     "user_tz": -330
    },
    "id": "YDJKUWarKHvC"
   },
   "outputs": [],
   "source": [
    "#!pip uninstall pyngrok"
   ]
  },
  {
   "cell_type": "code",
   "execution_count": 2,
   "metadata": {
    "colab": {
     "base_uri": "https://localhost:8080/"
    },
    "executionInfo": {
     "elapsed": 1388,
     "status": "ok",
     "timestamp": 1734024753065,
     "user": {
      "displayName": "ritik ranjan",
      "userId": "01659122567081095208"
     },
     "user_tz": -330
    },
    "id": "670gfVasySMm",
    "outputId": "b40032b3-09a7-423a-9fbb-87106a60ddac"
   },
   "outputs": [],
   "source": [
    "!ngrok authtoken \"<use key here>\""
   ]
  },
  {
   "cell_type": "code",
   "execution_count": null,
   "metadata": {
    "executionInfo": {
     "elapsed": 9,
     "status": "ok",
     "timestamp": 1734024753066,
     "user": {
      "displayName": "ritik ranjan",
      "userId": "01659122567081095208"
     },
     "user_tz": -330
    },
    "id": "oI7uvbePySjc"
   },
   "outputs": [],
   "source": [
    "import os\n",
    "\n",
    "os.environ[\"WANDB_API_KEY\"] = \"<Use key here>\""
   ]
  },
  {
   "cell_type": "code",
   "execution_count": 5,
   "metadata": {
    "colab": {
     "base_uri": "https://localhost:8080/"
    },
    "executionInfo": {
     "elapsed": 9,
     "status": "ok",
     "timestamp": 1734024753066,
     "user": {
      "displayName": "ritik ranjan",
      "userId": "01659122567081095208"
     },
     "user_tz": -330
    },
    "id": "u8GJp4i7yjXf",
    "outputId": "ca1e4664-dfce-4b4f-82f1-2d24fb233a02"
   },
   "outputs": [
    {
     "name": "stdout",
     "output_type": "stream",
     "text": [
      "Writing app.py\n"
     ]
    }
   ],
   "source": [
    "%%writefile app.py\n",
    "\n",
    "import os\n",
    "import wandb\n",
    "import sklearn\n",
    "from joblib import load\n",
    "from fastapi import FastAPI, HTTPException\n",
    "from contextlib import asynccontextmanager\n",
    "from pydantic import BaseModel\n",
    "import wandb\n",
    "import joblib\n",
    "import pandas as pd\n",
    "import numpy as np\n",
    "\n",
    "app = FastAPI()\n",
    "\n",
    "# Define input data schema\n",
    "class PredictionRequest(BaseModel):\n",
    "    Number_of_Customers: int\n",
    "    Menu_Price: float\n",
    "    Marketing_Spend: float\n",
    "    Cuisine_Type: str\n",
    "    Average_Customer_Spending: float\n",
    "    Promotions: int\n",
    "    Reviews: int\n",
    "\n",
    "\n",
    "# Load the model from WandB\n",
    "def load_model_from_wandb(project_name: str, artifact_name: str):\n",
    "    try:\n",
    "        # Initialize WandB\n",
    "        run = wandb.init(project=project_name, job_type=\"inference\", reinit=True)\n",
    "        artifact = run.use_artifact(artifact_name)\n",
    "        model_path = artifact.file()  # Assumes a single model file in the artifact\n",
    "        model = joblib.load(model_path)\n",
    "        run.finish()  # End the WandB run\n",
    "        return model\n",
    "    except Exception as e:\n",
    "        raise RuntimeError(f\"Failed to load model: {e}\")\n",
    "\n",
    "project_name = \"mlops_restautant_revenue\"  # loading project name\n",
    "artifact_name = \"Linear_Model_restaurantrevenue:latest\"  # loading artifact name\n",
    "ml_model = load_model_from_wandb(project_name, artifact_name)\n",
    "\n",
    "# Prediction endpoint\n",
    "@app.post(\"/predict\")\n",
    "def predict(input_data: PredictionRequest):\n",
    "    try:\n",
    "        # Convert input data to a dictionary for prediction\n",
    "        input_dict = input_data.dict()\n",
    "\n",
    "        df = pd.DataFrame(input_dict, index = [0])\n",
    "\n",
    "        # Call the model's prediction method\n",
    "        prediction = ml_model.predict(df)\n",
    "\n",
    "        # Return the prediction result\n",
    "        return {f\"Estimated restaurant revenue: DOLLAR {np.round(prediction[0], 2)}\"}\n",
    "\n",
    "    except Exception as e:\n",
    "        raise HTTPException(status_code=500, detail=f\"Prediction error: {e}\")\n"
   ]
  },
  {
   "cell_type": "code",
   "execution_count": 6,
   "metadata": {
    "colab": {
     "base_uri": "https://localhost:8080/"
    },
    "executionInfo": {
     "elapsed": 447,
     "status": "ok",
     "timestamp": 1734024753506,
     "user": {
      "displayName": "ritik ranjan",
      "userId": "01659122567081095208"
     },
     "user_tz": -330
    },
    "id": "9Nokjbniy4z3",
    "outputId": "ddd34375-d276-4da7-ca33-73cfc85345e6"
   },
   "outputs": [
    {
     "name": "stdout",
     "output_type": "stream",
     "text": [
      "nohup: appending output to 'nohup.out'\n"
     ]
    }
   ],
   "source": [
    "!nohup uvicorn app:app --host 0.0.0.0 --port 8000 &"
   ]
  },
  {
   "cell_type": "code",
   "execution_count": 15,
   "metadata": {
    "colab": {
     "base_uri": "https://localhost:8080/"
    },
    "executionInfo": {
     "elapsed": 397,
     "status": "ok",
     "timestamp": 1734024774768,
     "user": {
      "displayName": "ritik ranjan",
      "userId": "01659122567081095208"
     },
     "user_tz": -330
    },
    "id": "vZwIzq01I4Vq",
    "outputId": "cd7a3317-e71b-4a9d-8a21-986f95e2f5f1"
   },
   "outputs": [
    {
     "name": "stdout",
     "output_type": "stream",
     "text": [
      "wandb: Using wandb-core as the SDK backend.  Please refer to https://wandb.me/wandb-core for more information.\n",
      "wandb: Currently logged in as: ritikranjan (ritikranjan-indian-school-of-business). Use `wandb login --relogin` to force relogin\n",
      "wandb: Tracking run with wandb version 0.18.7\n",
      "wandb: Run data is saved locally in /content/wandb/run-20241212_173251-s0mmc6b9\n",
      "wandb: Run `wandb offline` to turn off syncing.\n",
      "wandb: Syncing run confused-night-77\n",
      "wandb: ⭐️ View project at https://wandb.ai/ritikranjan-indian-school-of-business/mlops_restautant_revenue\n",
      "wandb: 🚀 View run at https://wandb.ai/ritikranjan-indian-school-of-business/mlops_restautant_revenue/runs/s0mmc6b9\n"
     ]
    }
   ],
   "source": [
    "!tail nohup.out"
   ]
  },
  {
   "cell_type": "code",
   "execution_count": 22,
   "metadata": {
    "colab": {
     "base_uri": "https://localhost:8080/"
    },
    "executionInfo": {
     "elapsed": 374,
     "status": "ok",
     "timestamp": 1734024887255,
     "user": {
      "displayName": "ritik ranjan",
      "userId": "01659122567081095208"
     },
     "user_tz": -330
    },
    "id": "0dFncE7g9rg8",
    "outputId": "530227b8-2b35-47d3-9adf-a922267510ef"
   },
   "outputs": [
    {
     "name": "stdout",
     "output_type": "stream",
     "text": [
      "    365 ?        Sl     0:08 /usr/bin/python3 /usr/local/bin/uvicorn app:app --host 0.0.0.0 --port 8\n",
      "    983 ?        S      0:00 /bin/bash -c ps -ax | grep uvicorn\n",
      "    985 ?        S      0:00 grep uvicorn\n"
     ]
    }
   ],
   "source": [
    "!ps -ax | grep uvicorn"
   ]
  },
  {
   "cell_type": "code",
   "execution_count": 18,
   "metadata": {
    "colab": {
     "base_uri": "https://localhost:8080/"
    },
    "executionInfo": {
     "elapsed": 379,
     "status": "ok",
     "timestamp": 1734024796843,
     "user": {
      "displayName": "ritik ranjan",
      "userId": "01659122567081095208"
     },
     "user_tz": -330
    },
    "id": "EXXlZsox9uab",
    "outputId": "3a79d4d7-dcc2-4755-dd63-49e74f6469a0"
   },
   "outputs": [
    {
     "name": "stdout",
     "output_type": "stream",
     "text": [
      "Public URL: NgrokTunnel: \"https://a337-35-196-195-142.ngrok-free.app\" -> \"http://localhost:8000\"\n"
     ]
    }
   ],
   "source": [
    "from pyngrok import ngrok\n",
    "\n",
    "# Expose the FastAPI app\n",
    "public_url = ngrok.connect(8000)\n",
    "print(f\"Public URL: {public_url}\")"
   ]
  },
  {
   "cell_type": "markdown",
   "metadata": {
    "id": "Rv7wCuW1AJAb"
   },
   "source": [
    "# Invoking the Prediction Service"
   ]
  },
  {
   "cell_type": "code",
   "execution_count": 19,
   "metadata": {
    "colab": {
     "base_uri": "https://localhost:8080/",
     "height": 53
    },
    "executionInfo": {
     "elapsed": 398,
     "status": "ok",
     "timestamp": 1734024817270,
     "user": {
      "displayName": "ritik ranjan",
      "userId": "01659122567081095208"
     },
     "user_tz": -330
    },
    "id": "ilY3SAI-ARO4",
    "outputId": "7c08f8c1-0552-432e-ea3a-84601cfa4e8f"
   },
   "outputs": [
    {
     "data": {
      "application/vnd.google.colaboratory.intrinsic+json": {
       "type": "string"
      },
      "text/plain": [
       "'{\"Number_of_Customers\":81,\"Menu_Price\":43.11763549,\"Marketing_Spend\":12.66379252,\"Cuisine_Type\":\"Japanese\",\"Average_Customer_Spending\":36.23613252,\"Promotions\":0,\"Reviews\":145}'"
      ]
     },
     "execution_count": 19,
     "metadata": {},
     "output_type": "execute_result"
    }
   ],
   "source": [
    "import requests, json\n",
    "\n",
    "data = \"\"\"{ \"Number_of_Customers\": 81,\n",
    "            \"Menu_Price\": 43.11763549,\n",
    "            \"Marketing_Spend\": 12.66379252,\n",
    "            \"Cuisine_Type\": \"Japanese\",\n",
    "            \"Average_Customer_Spending\": 36.23613252,\n",
    "            \"Promotions\": 0,\n",
    "            \"Reviews\": 145\n",
    "          }\n",
    "         \"\"\"\n",
    "# Remove newline and extra spaces to convert the JSON data into a single-line string\n",
    "json_data = data.replace('\\n', '').replace(' ','')\n",
    "json_data"
   ]
  },
  {
   "cell_type": "code",
   "execution_count": 20,
   "metadata": {
    "executionInfo": {
     "elapsed": 656,
     "status": "ok",
     "timestamp": 1734024820524,
     "user": {
      "displayName": "ritik ranjan",
      "userId": "01659122567081095208"
     },
     "user_tz": -330
    },
    "id": "MBZxieY4BiHE"
   },
   "outputs": [],
   "source": [
    "#\n",
    "response = requests.post('https://a337-35-196-195-142.ngrok-free.app/predict', data=json_data)\n"
   ]
  },
  {
   "cell_type": "code",
   "execution_count": 21,
   "metadata": {
    "colab": {
     "base_uri": "https://localhost:8080/"
    },
    "executionInfo": {
     "elapsed": 373,
     "status": "ok",
     "timestamp": 1734024831988,
     "user": {
      "displayName": "ritik ranjan",
      "userId": "01659122567081095208"
     },
     "user_tz": -330
    },
    "id": "DIJSuJ8XDD5O",
    "outputId": "468ae0e4-1340-4044-c192-799615b08800"
   },
   "outputs": [
    {
     "name": "stdout",
     "output_type": "stream",
     "text": [
      "['Estimated restaurant revenue: DOLLAR 391.96']\n"
     ]
    }
   ],
   "source": [
    "print(response.json())"
   ]
  }
 ],
 "metadata": {
  "colab": {
   "authorship_tag": "ABX9TyOoxt1L3HIITJUHLaG8eaFu",
   "provenance": []
  },
  "kernelspec": {
   "display_name": "Python 3 (ipykernel)",
   "language": "python",
   "name": "python3"
  },
  "language_info": {
   "codemirror_mode": {
    "name": "ipython",
    "version": 3
   },
   "file_extension": ".py",
   "mimetype": "text/x-python",
   "name": "python",
   "nbconvert_exporter": "python",
   "pygments_lexer": "ipython3",
   "version": "3.11.7"
  }
 },
 "nbformat": 4,
 "nbformat_minor": 4
}
