{
 "cells": [
  {
   "cell_type": "markdown",
   "metadata": {
    "id": "LAbevNq8kFEO"
   },
   "source": [
    "### Install alibi_detect library"
   ]
  },
  {
   "cell_type": "code",
   "execution_count": 1,
   "metadata": {
    "colab": {
     "base_uri": "https://localhost:8080/",
     "height": 35
    },
    "executionInfo": {
     "elapsed": 1637,
     "status": "ok",
     "timestamp": 1734018658224,
     "user": {
      "displayName": "ritik ranjan",
      "userId": "01659122567081095208"
     },
     "user_tz": -330
    },
    "id": "qZOB63ZrUOug",
    "outputId": "fdcf47de-cf6c-469d-a03f-f2de8425372f"
   },
   "outputs": [
    {
     "data": {
      "application/vnd.google.colaboratory.intrinsic+json": {
       "type": "string"
      },
      "text/plain": [
       "'1.26.4'"
      ]
     },
     "execution_count": 1,
     "metadata": {},
     "output_type": "execute_result"
    }
   ],
   "source": [
    "import numpy as np\n",
    "np.__version__"
   ]
  },
  {
   "cell_type": "code",
   "execution_count": 2,
   "metadata": {
    "colab": {
     "base_uri": "https://localhost:8080/",
     "height": 1000
    },
    "executionInfo": {
     "elapsed": 22587,
     "status": "ok",
     "timestamp": 1734019248470,
     "user": {
      "displayName": "ritik ranjan",
      "userId": "01659122567081095208"
     },
     "user_tz": -330
    },
    "id": "nZSTDxzbkLDy",
    "outputId": "00d68b9c-1a98-4eb9-b816-b22148387bf6"
   },
   "outputs": [
    {
     "name": "stdout",
     "output_type": "stream",
     "text": [
      "Collecting alibi\n",
      "  Downloading alibi-0.9.6-py3-none-any.whl.metadata (22 kB)\n",
      "Collecting alibi_detect\n",
      "  Downloading alibi_detect-0.12.0-py3-none-any.whl.metadata (28 kB)\n",
      "Requirement already satisfied: numpy<2.0.0,>=1.16.2 in /usr/local/lib/python3.10/dist-packages (from alibi) (1.26.4)\n",
      "Requirement already satisfied: pandas<3.0.0,>=1.0.0 in /usr/local/lib/python3.10/dist-packages (from alibi) (2.2.2)\n",
      "Requirement already satisfied: scikit-learn<2.0.0,>=1.0.0 in /usr/local/lib/python3.10/dist-packages (from alibi) (1.5.2)\n",
      "Requirement already satisfied: spacy<4.0.0,>=2.0.0 in /usr/local/lib/python3.10/dist-packages (from spacy[lookups]<4.0.0,>=2.0.0->alibi) (3.7.5)\n",
      "Requirement already satisfied: blis<0.8.0 in /usr/local/lib/python3.10/dist-packages (from alibi) (0.7.11)\n",
      "Collecting scikit-image<0.23,>=0.17.2 (from alibi)\n",
      "  Downloading scikit_image-0.22.0-cp310-cp310-manylinux_2_17_x86_64.manylinux2014_x86_64.whl.metadata (13 kB)\n",
      "Requirement already satisfied: requests<3.0.0,>=2.21.0 in /usr/local/lib/python3.10/dist-packages (from alibi) (2.32.3)\n",
      "Collecting Pillow<11.0,>=5.4.1 (from alibi)\n",
      "  Downloading pillow-10.4.0-cp310-cp310-manylinux_2_28_x86_64.whl.metadata (9.2 kB)\n",
      "Collecting attrs<24.0.0,>=19.2.0 (from alibi)\n",
      "  Downloading attrs-23.2.0-py3-none-any.whl.metadata (9.5 kB)\n",
      "Requirement already satisfied: scipy<2.0.0,>=1.1.0 in /usr/local/lib/python3.10/dist-packages (from alibi) (1.13.1)\n",
      "Requirement already satisfied: matplotlib<4.0.0,>=3.0.0 in /usr/local/lib/python3.10/dist-packages (from alibi) (3.8.0)\n",
      "Requirement already satisfied: typing-extensions>=3.7.4.3 in /usr/local/lib/python3.10/dist-packages (from alibi) (4.12.2)\n",
      "Collecting dill<0.4.0,>=0.3.0 (from alibi)\n",
      "  Downloading dill-0.3.9-py3-none-any.whl.metadata (10 kB)\n",
      "Requirement already satisfied: transformers<5.0.0,>=4.7.0 in /usr/local/lib/python3.10/dist-packages (from alibi) (4.46.3)\n",
      "Requirement already satisfied: tqdm<5.0.0,>=4.28.1 in /usr/local/lib/python3.10/dist-packages (from alibi) (4.66.6)\n",
      "Requirement already satisfied: opencv-python<5.0.0,>=3.2.0 in /usr/local/lib/python3.10/dist-packages (from alibi_detect) (4.10.0.84)\n",
      "Requirement already satisfied: pydantic<3.0.0,>=1.8.0 in /usr/local/lib/python3.10/dist-packages (from alibi_detect) (2.10.3)\n",
      "Requirement already satisfied: toml<1.0.0,>=0.10.1 in /usr/local/lib/python3.10/dist-packages (from alibi_detect) (0.10.2)\n",
      "Requirement already satisfied: catalogue<3.0.0,>=2.0.0 in /usr/local/lib/python3.10/dist-packages (from alibi_detect) (2.0.10)\n",
      "Collecting numba!=0.54.0,<0.60.0,>=0.50.0 (from alibi_detect)\n",
      "  Downloading numba-0.59.1-cp310-cp310-manylinux2014_x86_64.manylinux_2_17_x86_64.whl.metadata (2.7 kB)\n",
      "Requirement already satisfied: contourpy>=1.0.1 in /usr/local/lib/python3.10/dist-packages (from matplotlib<4.0.0,>=3.0.0->alibi) (1.3.1)\n",
      "Requirement already satisfied: cycler>=0.10 in /usr/local/lib/python3.10/dist-packages (from matplotlib<4.0.0,>=3.0.0->alibi) (0.12.1)\n",
      "Requirement already satisfied: fonttools>=4.22.0 in /usr/local/lib/python3.10/dist-packages (from matplotlib<4.0.0,>=3.0.0->alibi) (4.55.1)\n",
      "Requirement already satisfied: kiwisolver>=1.0.1 in /usr/local/lib/python3.10/dist-packages (from matplotlib<4.0.0,>=3.0.0->alibi) (1.4.7)\n",
      "Requirement already satisfied: packaging>=20.0 in /usr/local/lib/python3.10/dist-packages (from matplotlib<4.0.0,>=3.0.0->alibi) (24.2)\n",
      "Requirement already satisfied: pyparsing>=2.3.1 in /usr/local/lib/python3.10/dist-packages (from matplotlib<4.0.0,>=3.0.0->alibi) (3.2.0)\n",
      "Requirement already satisfied: python-dateutil>=2.7 in /usr/local/lib/python3.10/dist-packages (from matplotlib<4.0.0,>=3.0.0->alibi) (2.8.2)\n",
      "Collecting llvmlite<0.43,>=0.42.0dev0 (from numba!=0.54.0,<0.60.0,>=0.50.0->alibi_detect)\n",
      "  Downloading llvmlite-0.42.0-cp310-cp310-manylinux_2_17_x86_64.manylinux2014_x86_64.whl.metadata (4.8 kB)\n",
      "Requirement already satisfied: pytz>=2020.1 in /usr/local/lib/python3.10/dist-packages (from pandas<3.0.0,>=1.0.0->alibi) (2024.2)\n",
      "Requirement already satisfied: tzdata>=2022.7 in /usr/local/lib/python3.10/dist-packages (from pandas<3.0.0,>=1.0.0->alibi) (2024.2)\n",
      "Requirement already satisfied: annotated-types>=0.6.0 in /usr/local/lib/python3.10/dist-packages (from pydantic<3.0.0,>=1.8.0->alibi_detect) (0.7.0)\n",
      "Requirement already satisfied: pydantic-core==2.27.1 in /usr/local/lib/python3.10/dist-packages (from pydantic<3.0.0,>=1.8.0->alibi_detect) (2.27.1)\n",
      "Requirement already satisfied: charset-normalizer<4,>=2 in /usr/local/lib/python3.10/dist-packages (from requests<3.0.0,>=2.21.0->alibi) (3.4.0)\n",
      "Requirement already satisfied: idna<4,>=2.5 in /usr/local/lib/python3.10/dist-packages (from requests<3.0.0,>=2.21.0->alibi) (3.10)\n",
      "Requirement already satisfied: urllib3<3,>=1.21.1 in /usr/local/lib/python3.10/dist-packages (from requests<3.0.0,>=2.21.0->alibi) (2.2.3)\n",
      "Requirement already satisfied: certifi>=2017.4.17 in /usr/local/lib/python3.10/dist-packages (from requests<3.0.0,>=2.21.0->alibi) (2024.8.30)\n",
      "Requirement already satisfied: networkx>=2.8 in /usr/local/lib/python3.10/dist-packages (from scikit-image<0.23,>=0.17.2->alibi) (3.4.2)\n",
      "Requirement already satisfied: imageio>=2.27 in /usr/local/lib/python3.10/dist-packages (from scikit-image<0.23,>=0.17.2->alibi) (2.36.1)\n",
      "Requirement already satisfied: tifffile>=2022.8.12 in /usr/local/lib/python3.10/dist-packages (from scikit-image<0.23,>=0.17.2->alibi) (2024.9.20)\n",
      "Requirement already satisfied: lazy_loader>=0.3 in /usr/local/lib/python3.10/dist-packages (from scikit-image<0.23,>=0.17.2->alibi) (0.4)\n",
      "Requirement already satisfied: joblib>=1.2.0 in /usr/local/lib/python3.10/dist-packages (from scikit-learn<2.0.0,>=1.0.0->alibi) (1.4.2)\n",
      "Requirement already satisfied: threadpoolctl>=3.1.0 in /usr/local/lib/python3.10/dist-packages (from scikit-learn<2.0.0,>=1.0.0->alibi) (3.5.0)\n",
      "Requirement already satisfied: spacy-legacy<3.1.0,>=3.0.11 in /usr/local/lib/python3.10/dist-packages (from spacy<4.0.0,>=2.0.0->spacy[lookups]<4.0.0,>=2.0.0->alibi) (3.0.12)\n",
      "Requirement already satisfied: spacy-loggers<2.0.0,>=1.0.0 in /usr/local/lib/python3.10/dist-packages (from spacy<4.0.0,>=2.0.0->spacy[lookups]<4.0.0,>=2.0.0->alibi) (1.0.5)\n",
      "Requirement already satisfied: murmurhash<1.1.0,>=0.28.0 in /usr/local/lib/python3.10/dist-packages (from spacy<4.0.0,>=2.0.0->spacy[lookups]<4.0.0,>=2.0.0->alibi) (1.0.11)\n",
      "Requirement already satisfied: cymem<2.1.0,>=2.0.2 in /usr/local/lib/python3.10/dist-packages (from spacy<4.0.0,>=2.0.0->spacy[lookups]<4.0.0,>=2.0.0->alibi) (2.0.10)\n",
      "Requirement already satisfied: preshed<3.1.0,>=3.0.2 in /usr/local/lib/python3.10/dist-packages (from spacy<4.0.0,>=2.0.0->spacy[lookups]<4.0.0,>=2.0.0->alibi) (3.0.9)\n",
      "Requirement already satisfied: thinc<8.3.0,>=8.2.2 in /usr/local/lib/python3.10/dist-packages (from spacy<4.0.0,>=2.0.0->spacy[lookups]<4.0.0,>=2.0.0->alibi) (8.2.5)\n",
      "Requirement already satisfied: wasabi<1.2.0,>=0.9.1 in /usr/local/lib/python3.10/dist-packages (from spacy<4.0.0,>=2.0.0->spacy[lookups]<4.0.0,>=2.0.0->alibi) (1.1.3)\n",
      "Requirement already satisfied: srsly<3.0.0,>=2.4.3 in /usr/local/lib/python3.10/dist-packages (from spacy<4.0.0,>=2.0.0->spacy[lookups]<4.0.0,>=2.0.0->alibi) (2.4.8)\n",
      "Requirement already satisfied: weasel<0.5.0,>=0.1.0 in /usr/local/lib/python3.10/dist-packages (from spacy<4.0.0,>=2.0.0->spacy[lookups]<4.0.0,>=2.0.0->alibi) (0.4.1)\n",
      "Requirement already satisfied: typer<1.0.0,>=0.3.0 in /usr/local/lib/python3.10/dist-packages (from spacy<4.0.0,>=2.0.0->spacy[lookups]<4.0.0,>=2.0.0->alibi) (0.15.0)\n",
      "Requirement already satisfied: jinja2 in /usr/local/lib/python3.10/dist-packages (from spacy<4.0.0,>=2.0.0->spacy[lookups]<4.0.0,>=2.0.0->alibi) (3.1.4)\n",
      "Requirement already satisfied: setuptools in /usr/local/lib/python3.10/dist-packages (from spacy<4.0.0,>=2.0.0->spacy[lookups]<4.0.0,>=2.0.0->alibi) (75.1.0)\n",
      "Requirement already satisfied: langcodes<4.0.0,>=3.2.0 in /usr/local/lib/python3.10/dist-packages (from spacy<4.0.0,>=2.0.0->spacy[lookups]<4.0.0,>=2.0.0->alibi) (3.5.0)\n",
      "Collecting spacy-lookups-data<1.1.0,>=1.0.3 (from spacy[lookups]<4.0.0,>=2.0.0->alibi)\n",
      "  Downloading spacy_lookups_data-1.0.5-py2.py3-none-any.whl.metadata (4.8 kB)\n",
      "Requirement already satisfied: filelock in /usr/local/lib/python3.10/dist-packages (from transformers<5.0.0,>=4.7.0->alibi) (3.16.1)\n",
      "Requirement already satisfied: huggingface-hub<1.0,>=0.23.2 in /usr/local/lib/python3.10/dist-packages (from transformers<5.0.0,>=4.7.0->alibi) (0.26.3)\n",
      "Requirement already satisfied: pyyaml>=5.1 in /usr/local/lib/python3.10/dist-packages (from transformers<5.0.0,>=4.7.0->alibi) (6.0.2)\n",
      "Requirement already satisfied: regex!=2019.12.17 in /usr/local/lib/python3.10/dist-packages (from transformers<5.0.0,>=4.7.0->alibi) (2024.9.11)\n",
      "Requirement already satisfied: tokenizers<0.21,>=0.20 in /usr/local/lib/python3.10/dist-packages (from transformers<5.0.0,>=4.7.0->alibi) (0.20.3)\n",
      "Requirement already satisfied: safetensors>=0.4.1 in /usr/local/lib/python3.10/dist-packages (from transformers<5.0.0,>=4.7.0->alibi) (0.4.5)\n",
      "Requirement already satisfied: fsspec>=2023.5.0 in /usr/local/lib/python3.10/dist-packages (from huggingface-hub<1.0,>=0.23.2->transformers<5.0.0,>=4.7.0->alibi) (2024.10.0)\n",
      "Requirement already satisfied: language-data>=1.2 in /usr/local/lib/python3.10/dist-packages (from langcodes<4.0.0,>=3.2.0->spacy<4.0.0,>=2.0.0->spacy[lookups]<4.0.0,>=2.0.0->alibi) (1.3.0)\n",
      "Requirement already satisfied: six>=1.5 in /usr/local/lib/python3.10/dist-packages (from python-dateutil>=2.7->matplotlib<4.0.0,>=3.0.0->alibi) (1.16.0)\n",
      "Requirement already satisfied: confection<1.0.0,>=0.0.1 in /usr/local/lib/python3.10/dist-packages (from thinc<8.3.0,>=8.2.2->spacy<4.0.0,>=2.0.0->spacy[lookups]<4.0.0,>=2.0.0->alibi) (0.1.5)\n",
      "Requirement already satisfied: click>=8.0.0 in /usr/local/lib/python3.10/dist-packages (from typer<1.0.0,>=0.3.0->spacy<4.0.0,>=2.0.0->spacy[lookups]<4.0.0,>=2.0.0->alibi) (8.1.7)\n",
      "Requirement already satisfied: shellingham>=1.3.0 in /usr/local/lib/python3.10/dist-packages (from typer<1.0.0,>=0.3.0->spacy<4.0.0,>=2.0.0->spacy[lookups]<4.0.0,>=2.0.0->alibi) (1.5.4)\n",
      "Requirement already satisfied: rich>=10.11.0 in /usr/local/lib/python3.10/dist-packages (from typer<1.0.0,>=0.3.0->spacy<4.0.0,>=2.0.0->spacy[lookups]<4.0.0,>=2.0.0->alibi) (13.9.4)\n",
      "Requirement already satisfied: cloudpathlib<1.0.0,>=0.7.0 in /usr/local/lib/python3.10/dist-packages (from weasel<0.5.0,>=0.1.0->spacy<4.0.0,>=2.0.0->spacy[lookups]<4.0.0,>=2.0.0->alibi) (0.20.0)\n",
      "Requirement already satisfied: smart-open<8.0.0,>=5.2.1 in /usr/local/lib/python3.10/dist-packages (from weasel<0.5.0,>=0.1.0->spacy<4.0.0,>=2.0.0->spacy[lookups]<4.0.0,>=2.0.0->alibi) (7.0.5)\n",
      "Requirement already satisfied: MarkupSafe>=2.0 in /usr/local/lib/python3.10/dist-packages (from jinja2->spacy<4.0.0,>=2.0.0->spacy[lookups]<4.0.0,>=2.0.0->alibi) (3.0.2)\n",
      "Requirement already satisfied: marisa-trie>=1.1.0 in /usr/local/lib/python3.10/dist-packages (from language-data>=1.2->langcodes<4.0.0,>=3.2.0->spacy<4.0.0,>=2.0.0->spacy[lookups]<4.0.0,>=2.0.0->alibi) (1.2.1)\n",
      "Requirement already satisfied: markdown-it-py>=2.2.0 in /usr/local/lib/python3.10/dist-packages (from rich>=10.11.0->typer<1.0.0,>=0.3.0->spacy<4.0.0,>=2.0.0->spacy[lookups]<4.0.0,>=2.0.0->alibi) (3.0.0)\n",
      "Requirement already satisfied: pygments<3.0.0,>=2.13.0 in /usr/local/lib/python3.10/dist-packages (from rich>=10.11.0->typer<1.0.0,>=0.3.0->spacy<4.0.0,>=2.0.0->spacy[lookups]<4.0.0,>=2.0.0->alibi) (2.18.0)\n",
      "Requirement already satisfied: wrapt in /usr/local/lib/python3.10/dist-packages (from smart-open<8.0.0,>=5.2.1->weasel<0.5.0,>=0.1.0->spacy<4.0.0,>=2.0.0->spacy[lookups]<4.0.0,>=2.0.0->alibi) (1.17.0)\n",
      "Requirement already satisfied: mdurl~=0.1 in /usr/local/lib/python3.10/dist-packages (from markdown-it-py>=2.2.0->rich>=10.11.0->typer<1.0.0,>=0.3.0->spacy<4.0.0,>=2.0.0->spacy[lookups]<4.0.0,>=2.0.0->alibi) (0.1.2)\n",
      "Downloading alibi-0.9.6-py3-none-any.whl (522 kB)\n",
      "\u001b[2K   \u001b[90m━━━━━━━━━━━━━━━━━━━━━━━━━━━━━━━━━━━━━━━━\u001b[0m \u001b[32m522.1/522.1 kB\u001b[0m \u001b[31m10.2 MB/s\u001b[0m eta \u001b[36m0:00:00\u001b[0m\n",
      "\u001b[?25hDownloading alibi_detect-0.12.0-py3-none-any.whl (381 kB)\n",
      "\u001b[2K   \u001b[90m━━━━━━━━━━━━━━━━━━━━━━━━━━━━━━━━━━━━━━━━\u001b[0m \u001b[32m381.5/381.5 kB\u001b[0m \u001b[31m24.6 MB/s\u001b[0m eta \u001b[36m0:00:00\u001b[0m\n",
      "\u001b[?25hDownloading attrs-23.2.0-py3-none-any.whl (60 kB)\n",
      "\u001b[2K   \u001b[90m━━━━━━━━━━━━━━━━━━━━━━━━━━━━━━━━━━━━━━━━\u001b[0m \u001b[32m60.8/60.8 kB\u001b[0m \u001b[31m4.6 MB/s\u001b[0m eta \u001b[36m0:00:00\u001b[0m\n",
      "\u001b[?25hDownloading dill-0.3.9-py3-none-any.whl (119 kB)\n",
      "\u001b[2K   \u001b[90m━━━━━━━━━━━━━━━━━━━━━━━━━━━━━━━━━━━━━━━━\u001b[0m \u001b[32m119.4/119.4 kB\u001b[0m \u001b[31m9.7 MB/s\u001b[0m eta \u001b[36m0:00:00\u001b[0m\n",
      "\u001b[?25hDownloading numba-0.59.1-cp310-cp310-manylinux2014_x86_64.manylinux_2_17_x86_64.whl (3.7 MB)\n",
      "\u001b[2K   \u001b[90m━━━━━━━━━━━━━━━━━━━━━━━━━━━━━━━━━━━━━━━━\u001b[0m \u001b[32m3.7/3.7 MB\u001b[0m \u001b[31m49.8 MB/s\u001b[0m eta \u001b[36m0:00:00\u001b[0m\n",
      "\u001b[?25hDownloading pillow-10.4.0-cp310-cp310-manylinux_2_28_x86_64.whl (4.5 MB)\n",
      "\u001b[2K   \u001b[90m━━━━━━━━━━━━━━━━━━━━━━━━━━━━━━━━━━━━━━━━\u001b[0m \u001b[32m4.5/4.5 MB\u001b[0m \u001b[31m52.8 MB/s\u001b[0m eta \u001b[36m0:00:00\u001b[0m\n",
      "\u001b[?25hDownloading scikit_image-0.22.0-cp310-cp310-manylinux_2_17_x86_64.manylinux2014_x86_64.whl (14.7 MB)\n",
      "\u001b[2K   \u001b[90m━━━━━━━━━━━━━━━━━━━━━━━━━━━━━━━━━━━━━━━━\u001b[0m \u001b[32m14.7/14.7 MB\u001b[0m \u001b[31m56.3 MB/s\u001b[0m eta \u001b[36m0:00:00\u001b[0m\n",
      "\u001b[?25hDownloading llvmlite-0.42.0-cp310-cp310-manylinux_2_17_x86_64.manylinux2014_x86_64.whl (43.8 MB)\n",
      "\u001b[2K   \u001b[90m━━━━━━━━━━━━━━━━━━━━━━━━━━━━━━━━━━━━━━━━\u001b[0m \u001b[32m43.8/43.8 MB\u001b[0m \u001b[31m13.5 MB/s\u001b[0m eta \u001b[36m0:00:00\u001b[0m\n",
      "\u001b[?25hDownloading spacy_lookups_data-1.0.5-py2.py3-none-any.whl (98.5 MB)\n",
      "\u001b[2K   \u001b[90m━━━━━━━━━━━━━━━━━━━━━━━━━━━━━━━━━━━━━━━━\u001b[0m \u001b[32m98.5/98.5 MB\u001b[0m \u001b[31m8.0 MB/s\u001b[0m eta \u001b[36m0:00:00\u001b[0m\n",
      "\u001b[?25hInstalling collected packages: spacy-lookups-data, Pillow, llvmlite, dill, attrs, numba, scikit-image, alibi_detect, alibi\n",
      "  Attempting uninstall: Pillow\n",
      "    Found existing installation: pillow 11.0.0\n",
      "    Uninstalling pillow-11.0.0:\n",
      "      Successfully uninstalled pillow-11.0.0\n",
      "  Attempting uninstall: llvmlite\n",
      "    Found existing installation: llvmlite 0.43.0\n",
      "    Uninstalling llvmlite-0.43.0:\n",
      "      Successfully uninstalled llvmlite-0.43.0\n",
      "  Attempting uninstall: attrs\n",
      "    Found existing installation: attrs 24.2.0\n",
      "    Uninstalling attrs-24.2.0:\n",
      "      Successfully uninstalled attrs-24.2.0\n",
      "  Attempting uninstall: numba\n",
      "    Found existing installation: numba 0.60.0\n",
      "    Uninstalling numba-0.60.0:\n",
      "      Successfully uninstalled numba-0.60.0\n",
      "  Attempting uninstall: scikit-image\n",
      "    Found existing installation: scikit-image 0.24.0\n",
      "    Uninstalling scikit-image-0.24.0:\n",
      "      Successfully uninstalled scikit-image-0.24.0\n",
      "Successfully installed Pillow-10.4.0 alibi-0.9.6 alibi_detect-0.12.0 attrs-23.2.0 dill-0.3.9 llvmlite-0.42.0 numba-0.59.1 scikit-image-0.22.0 spacy-lookups-data-1.0.5\n"
     ]
    },
    {
     "data": {
      "application/vnd.colab-display-data+json": {
       "id": "54be05b8d9da485d8d770027e0fc5009",
       "pip_warning": {
        "packages": [
         "PIL"
        ]
       }
      }
     },
     "metadata": {},
     "output_type": "display_data"
    }
   ],
   "source": [
    "!pip install alibi alibi_detect\n"
   ]
  },
  {
   "cell_type": "code",
   "execution_count": 1,
   "metadata": {
    "executionInfo": {
     "elapsed": 28818,
     "status": "ok",
     "timestamp": 1734019297223,
     "user": {
      "displayName": "ritik ranjan",
      "userId": "01659122567081095208"
     },
     "user_tz": -330
    },
    "id": "PvQK8x40midf"
   },
   "outputs": [],
   "source": [
    "# importing all necessary libraries\n",
    "import alibi\n",
    "from alibi_detect.cd import ChiSquareDrift, TabularDrift\n",
    "from alibi_detect.saving import save_detector, load_detector\n",
    "import pandas as pd\n",
    "import numpy as np\n",
    "import matplotlib.pyplot as plt\n",
    "import seaborn as sn"
   ]
  },
  {
   "cell_type": "code",
   "execution_count": 3,
   "metadata": {
    "executionInfo": {
     "elapsed": 786,
     "status": "ok",
     "timestamp": 1734019540857,
     "user": {
      "displayName": "ritik ranjan",
      "userId": "01659122567081095208"
     },
     "user_tz": -330
    },
    "id": "W8JLtjUknatQ"
   },
   "outputs": [],
   "source": [
    "# loading train and production data from the github\n",
    "# this is splitted in first notebook\n",
    "train_url = \"https://raw.githubusercontent.com/ritikisb83/CTAssignmentgroup5/refs/heads/main/Datasets/restaurant_train_df.parquet\"\n",
    "train_df = pd.read_parquet(train_url, engine=\"pyarrow\")\n",
    "prod_url = \"https://raw.githubusercontent.com/ritikisb83/CTAssignmentgroup5/refs/heads/main/Datasets/restaurant_prod_df.parquet\"\n",
    "prod_df = pd.read_parquet(prod_url, engine=\"pyarrow\")"
   ]
  },
  {
   "cell_type": "code",
   "execution_count": 4,
   "metadata": {
    "executionInfo": {
     "elapsed": 413,
     "status": "ok",
     "timestamp": 1734019573064,
     "user": {
      "displayName": "ritik ranjan",
      "userId": "01659122567081095208"
     },
     "user_tz": -330
    },
    "id": "UNhCXmkOntVV"
   },
   "outputs": [],
   "source": [
    "# creating features set\n",
    "features_set = ['Number_of_Customers', 'Menu_Price', 'Marketing_Spend', 'Cuisine_Type',\n",
    "       'Average_Customer_Spending', 'Promotions', 'Reviews',\n",
    "       'Monthly_Revenue']"
   ]
  },
  {
   "cell_type": "code",
   "execution_count": 5,
   "metadata": {
    "executionInfo": {
     "elapsed": 400,
     "status": "ok",
     "timestamp": 1734019606640,
     "user": {
      "displayName": "ritik ranjan",
      "userId": "01659122567081095208"
     },
     "user_tz": -330
    },
    "id": "dkB_BLkpny-y"
   },
   "outputs": [],
   "source": [
    "# Creating X features\n",
    "x_columns = ['Number_of_Customers', 'Menu_Price', 'Marketing_Spend', 'Cuisine_Type',\n",
    "       'Average_Customer_Spending', 'Promotions', 'Reviews']"
   ]
  },
  {
   "cell_type": "code",
   "execution_count": 6,
   "metadata": {
    "executionInfo": {
     "elapsed": 2,
     "status": "ok",
     "timestamp": 1734019607149,
     "user": {
      "displayName": "ritik ranjan",
      "userId": "01659122567081095208"
     },
     "user_tz": -330
    },
    "id": "BKicwx_9n1eP"
   },
   "outputs": [],
   "source": [
    "# creating categorical features\n",
    "cat_vars = ['Cuisine_Type']"
   ]
  },
  {
   "cell_type": "code",
   "execution_count": 7,
   "metadata": {
    "executionInfo": {
     "elapsed": 399,
     "status": "ok",
     "timestamp": 1734019624689,
     "user": {
      "displayName": "ritik ranjan",
      "userId": "01659122567081095208"
     },
     "user_tz": -330
    },
    "id": "MiDC1qFLn6C9"
   },
   "outputs": [],
   "source": [
    "# Creating numerical features\n",
    "num_vars = list(set(x_columns) - set(cat_vars))"
   ]
  },
  {
   "cell_type": "code",
   "execution_count": 8,
   "metadata": {
    "executionInfo": {
     "elapsed": 676,
     "status": "ok",
     "timestamp": 1734019678783,
     "user": {
      "displayName": "ritik ranjan",
      "userId": "01659122567081095208"
     },
     "user_tz": -330
    },
    "id": "3Xdk8rn5n-Ej"
   },
   "outputs": [],
   "source": [
    "# Splitting train & prod dataset into X & y\n",
    "x_train = train_df[x_columns]\n",
    "y_train = train_df['Monthly_Revenue']\n",
    "x_prod = prod_df[x_columns]\n",
    "y_prod = prod_df['Monthly_Revenue']"
   ]
  },
  {
   "cell_type": "markdown",
   "metadata": {
    "id": "ly5Y_bxpreC6"
   },
   "source": [
    "### Measure the drift"
   ]
  },
  {
   "cell_type": "code",
   "execution_count": 11,
   "metadata": {
    "colab": {
     "base_uri": "https://localhost:8080/"
    },
    "executionInfo": {
     "elapsed": 376,
     "status": "ok",
     "timestamp": 1734020567009,
     "user": {
      "displayName": "ritik ranjan",
      "userId": "01659122567081095208"
     },
     "user_tz": -330
    },
    "id": "ulV5hju1q4qv",
    "outputId": "4c839249-ff63-4f31-a00e-137fd7643682"
   },
   "outputs": [
    {
     "data": {
      "text/plain": [
       "{3: None}"
      ]
     },
     "execution_count": 11,
     "metadata": {},
     "output_type": "execute_result"
    }
   ],
   "source": [
    "cat_vars = [3]\n",
    "categories_per_feature = {f: None for f in cat_vars}\n",
    "categories_per_feature"
   ]
  },
  {
   "cell_type": "code",
   "execution_count": 12,
   "metadata": {
    "executionInfo": {
     "elapsed": 382,
     "status": "ok",
     "timestamp": 1734020568890,
     "user": {
      "displayName": "ritik ranjan",
      "userId": "01659122567081095208"
     },
     "user_tz": -330
    },
    "id": "nVmlDmrzq1ZT"
   },
   "outputs": [],
   "source": [
    "cd = TabularDrift(x_train.values,\n",
    "                  p_val=.05,\n",
    "                  categories_per_feature=categories_per_feature)"
   ]
  },
  {
   "cell_type": "code",
   "execution_count": 13,
   "metadata": {
    "colab": {
     "base_uri": "https://localhost:8080/"
    },
    "executionInfo": {
     "elapsed": 658,
     "status": "ok",
     "timestamp": 1734020596817,
     "user": {
      "displayName": "ritik ranjan",
      "userId": "01659122567081095208"
     },
     "user_tz": -330
    },
    "id": "MJt2ojB-rkYr",
    "outputId": "2d0d2c04-696c-44aa-f19b-f2a0945d62d3"
   },
   "outputs": [
    {
     "name": "stderr",
     "output_type": "stream",
     "text": [
      "WARNING:alibi_detect.saving.saving:Directory restaurantdrift does not exist and is now created.\n"
     ]
    }
   ],
   "source": [
    "filepath = 'restaurantdrift'  # change to directory where detector is saved\n",
    "save_detector(cd, filepath, legacy = True)"
   ]
  },
  {
   "cell_type": "code",
   "execution_count": 14,
   "metadata": {
    "colab": {
     "base_uri": "https://localhost:8080/"
    },
    "executionInfo": {
     "elapsed": 406,
     "status": "ok",
     "timestamp": 1734020609388,
     "user": {
      "displayName": "ritik ranjan",
      "userId": "01659122567081095208"
     },
     "user_tz": -330
    },
    "id": "31xSD4oHrqVk",
    "outputId": "ca0d0ac2-b8c2-4720-ecc0-d6ef965d76b2"
   },
   "outputs": [
    {
     "name": "stderr",
     "output_type": "stream",
     "text": [
      "WARNING:alibi_detect.saving._tensorflow.loading:No model found in restaurantdrift/model, setting `model` to `None`.\n"
     ]
    }
   ],
   "source": [
    "cd = load_detector(filepath)"
   ]
  },
  {
   "cell_type": "code",
   "execution_count": 15,
   "metadata": {
    "executionInfo": {
     "elapsed": 408,
     "status": "ok",
     "timestamp": 1734020627036,
     "user": {
      "displayName": "ritik ranjan",
      "userId": "01659122567081095208"
     },
     "user_tz": -330
    },
    "id": "dZ7p9XULrtoE"
   },
   "outputs": [],
   "source": [
    "preds = cd.predict(x_prod.to_numpy())"
   ]
  },
  {
   "cell_type": "markdown",
   "metadata": {
    "id": "2yJA0wWhr3qa"
   },
   "source": [
    "### Printing the test results\n",
    "\n",
    "- KS test for the numerical features\n",
    "- chi-squared test for the categorical features"
   ]
  },
  {
   "cell_type": "code",
   "execution_count": 16,
   "metadata": {
    "colab": {
     "base_uri": "https://localhost:8080/"
    },
    "executionInfo": {
     "elapsed": 392,
     "status": "ok",
     "timestamp": 1734020724000,
     "user": {
      "displayName": "ritik ranjan",
      "userId": "01659122567081095208"
     },
     "user_tz": -330
    },
    "id": "ibPxjVT5r2BQ",
    "outputId": "4dc5c562-fbef-4f99-c864-f0f7697718d3"
   },
   "outputs": [
    {
     "name": "stdout",
     "output_type": "stream",
     "text": [
      "Number_of_Customers -- K-S 0.045 -- p-value 0.908\n",
      "Menu_Price -- K-S 0.058 -- p-value 0.665\n",
      "Marketing_Spend -- K-S 0.085 -- p-value 0.216\n",
      "Cuisine_Type -- Chi2 0.743 -- p-value 0.863\n",
      "Average_Customer_Spending -- K-S 0.068 -- p-value 0.465\n",
      "Promotions -- K-S 0.015 -- p-value 1.000\n",
      "Reviews -- K-S 0.107 -- p-value 0.061\n"
     ]
    }
   ],
   "source": [
    "# Iterate through the range of features\n",
    "for f in range(cd.n_features):\n",
    "    stat = 'Chi2' if f in list(categories_per_feature.keys()) else 'K-S'\n",
    "    fname = x_columns[f] # Get the feature name\n",
    "    stat_val, p_val = preds['data']['distance'][f], preds['data']['p_val'][f]\n",
    "    print(f'{fname} -- {stat} {stat_val:.3f} -- p-value {p_val:.3f}')  # Print the feature name, statistical test, statistic value, and p-value"
   ]
  }
 ],
 "metadata": {
  "colab": {
   "authorship_tag": "ABX9TyOLvCOW2oYH6HdGrabs7CJO",
   "provenance": []
  },
  "kernelspec": {
   "display_name": "Python 3 (ipykernel)",
   "language": "python",
   "name": "python3"
  },
  "language_info": {
   "codemirror_mode": {
    "name": "ipython",
    "version": 3
   },
   "file_extension": ".py",
   "mimetype": "text/x-python",
   "name": "python",
   "nbconvert_exporter": "python",
   "pygments_lexer": "ipython3",
   "version": "3.11.7"
  }
 },
 "nbformat": 4,
 "nbformat_minor": 4
}
