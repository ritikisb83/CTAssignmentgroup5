{
 "cells": [
  {
   "cell_type": "markdown",
   "metadata": {
    "id": "6xrUWjC32P7N"
   },
   "source": [
    "# Restaurant Revenue Model\n",
    "\n",
    "### Dataset\n",
    "It is a comma separated file and there are 8 columns in the dataset.\n",
    "\n",
    "* Number_of_Customers - The count of customers visiting the restaurant.\n",
    "* Menu_Price - Average menu prices at the restaurant.\n",
    "* Marketing_Spend - Amount Spend in Marketing.\n",
    "* Cuisine_Type - The type of cuisine offered (Italian, Mexican, Japanese,American).\n",
    "* Average_Customer_Spending - Average spending per customer.\n",
    "* Promotions - Binary indicator (0 or 1) denoting whether promotions were conducted.\n",
    "* Reviews - Number of reviews received by the restaurant.\n",
    "* Monthly_Revenue - Simulated monthly revenue, the target variable for prediction.\n"
   ]
  },
  {
   "cell_type": "code",
   "execution_count": 10,
   "metadata": {
    "colab": {
     "base_uri": "https://localhost:8080/"
    },
    "executionInfo": {
     "elapsed": 621,
     "status": "ok",
     "timestamp": 1734023958160,
     "user": {
      "displayName": "ritik ranjan",
      "userId": "01659122567081095208"
     },
     "user_tz": -330
    },
    "id": "VOKdI_6kC-15",
    "outputId": "6442d649-391f-437c-e280-28dfb3cc1b8d"
   },
   "outputs": [
    {
     "name": "stdout",
     "output_type": "stream",
     "text": [
      "mkdir: cannot create directory ‘datasets’: File exists\n"
     ]
    }
   ],
   "source": [
    "# making directory for the datasets\n",
    "!mkdir datasets"
   ]
  },
  {
   "cell_type": "code",
   "execution_count": 11,
   "metadata": {
    "executionInfo": {
     "elapsed": 4,
     "status": "ok",
     "timestamp": 1734023958160,
     "user": {
      "displayName": "ritik ranjan",
      "userId": "01659122567081095208"
     },
     "user_tz": -330
    },
    "id": "6jBE3wAt2hjk"
   },
   "outputs": [],
   "source": [
    "import pandas as pd\n",
    "import numpy as np\n",
    "import matplotlib.pyplot as plt\n",
    "import seaborn as sn"
   ]
  },
  {
   "cell_type": "code",
   "execution_count": 12,
   "metadata": {
    "executionInfo": {
     "elapsed": 4,
     "status": "ok",
     "timestamp": 1734023958161,
     "user": {
      "displayName": "ritik ranjan",
      "userId": "01659122567081095208"
     },
     "user_tz": -330
    },
    "id": "BM-VT37nCCKS"
   },
   "outputs": [],
   "source": [
    "# Defining the data type for the loading file\n",
    "dtypes = {\n",
    "    \"Number_of_Customers\": \"int16\",\n",
    "    \"Menu_Price\": \"float32\",\n",
    "    \"Marketing_Spend\": \"float32\",\n",
    "    \"Cuisine_Type\": \"str\",\n",
    "    \"Average_Customer_Spending\": \"float32\",\n",
    "    \"Promotions\":\"int16\",\n",
    "    \"Reviews\": \"int16\",\n",
    "    \"Monthly_Revenue\": \"float32\",\n",
    "}"
   ]
  },
  {
   "cell_type": "code",
   "execution_count": 13,
   "metadata": {
    "executionInfo": {
     "elapsed": 352,
     "status": "ok",
     "timestamp": 1734023958509,
     "user": {
      "displayName": "ritik ranjan",
      "userId": "01659122567081095208"
     },
     "user_tz": -330
    },
    "id": "Z_lzHcN04g_w"
   },
   "outputs": [],
   "source": [
    "# reading the orginal file from the git hub\n",
    "restaurant_df = pd.read_csv( \"https://raw.githubusercontent.com/ritikisb83/CTAssignmentgroup5/refs/heads/main/Datasets/Restaurant%20Revenue%20Model.csv\" , dtype = dtypes)"
   ]
  },
  {
   "cell_type": "code",
   "execution_count": 14,
   "metadata": {
    "executionInfo": {
     "elapsed": 6,
     "status": "ok",
     "timestamp": 1734023958509,
     "user": {
      "displayName": "ritik ranjan",
      "userId": "01659122567081095208"
     },
     "user_tz": -330
    },
    "id": "QMofugsI6rHr"
   },
   "outputs": [],
   "source": [
    "# Saving the original file in parquet format\n",
    "restaurant_df.to_parquet(\"./datasets/restaurant_df.parquet\")"
   ]
  },
  {
   "cell_type": "code",
   "execution_count": 15,
   "metadata": {
    "executionInfo": {
     "elapsed": 368,
     "status": "ok",
     "timestamp": 1734023958872,
     "user": {
      "displayName": "ritik ranjan",
      "userId": "01659122567081095208"
     },
     "user_tz": -330
    },
    "id": "G8HXr5-DgPHe"
   },
   "outputs": [],
   "source": [
    "# reading the parquet file from github\n",
    "url = \"https://raw.githubusercontent.com/ritikisb83/CTAssignmentgroup5/refs/heads/main/Datasets/restaurant_df.parquet\"\n",
    "restaurant_df = pd.read_parquet(url, engine=\"pyarrow\")"
   ]
  },
  {
   "cell_type": "code",
   "execution_count": 16,
   "metadata": {
    "colab": {
     "base_uri": "https://localhost:8080/"
    },
    "executionInfo": {
     "elapsed": 4,
     "status": "ok",
     "timestamp": 1734023958872,
     "user": {
      "displayName": "ritik ranjan",
      "userId": "01659122567081095208"
     },
     "user_tz": -330
    },
    "id": "flDGuQTEh5LX",
    "outputId": "be834f38-08a0-4f07-c08e-acfe65729993"
   },
   "outputs": [
    {
     "data": {
      "text/plain": [
       "(1000, 8)"
      ]
     },
     "execution_count": 16,
     "metadata": {},
     "output_type": "execute_result"
    }
   ],
   "source": [
    "# column  and row size of restaurant_df\n",
    "\n",
    "restaurant_df.shape"
   ]
  },
  {
   "cell_type": "markdown",
   "metadata": {
    "id": "oTxyHKRSfjQc"
   },
   "source": [
    "# Data Profiling"
   ]
  },
  {
   "cell_type": "code",
   "execution_count": 17,
   "metadata": {
    "colab": {
     "base_uri": "https://localhost:8080/"
    },
    "executionInfo": {
     "elapsed": 3748,
     "status": "ok",
     "timestamp": 1734023962617,
     "user": {
      "displayName": "ritik ranjan",
      "userId": "01659122567081095208"
     },
     "user_tz": -330
    },
    "id": "tq5rKFskbqKp",
    "outputId": "09fc3763-71f8-47df-81ae-f6a23bf1cd2f"
   },
   "outputs": [
    {
     "name": "stdout",
     "output_type": "stream",
     "text": [
      "Requirement already satisfied: ydata_profiling in /usr/local/lib/python3.10/dist-packages (4.12.1)\n",
      "Requirement already satisfied: scipy<1.14,>=1.4.1 in /usr/local/lib/python3.10/dist-packages (from ydata_profiling) (1.13.1)\n",
      "Requirement already satisfied: pandas!=1.4.0,<3,>1.1 in /usr/local/lib/python3.10/dist-packages (from ydata_profiling) (2.2.2)\n",
      "Requirement already satisfied: matplotlib<3.10,>=3.5 in /usr/local/lib/python3.10/dist-packages (from ydata_profiling) (3.8.0)\n",
      "Requirement already satisfied: pydantic>=2 in /usr/local/lib/python3.10/dist-packages (from ydata_profiling) (2.10.3)\n",
      "Requirement already satisfied: PyYAML<6.1,>=5.0.0 in /usr/local/lib/python3.10/dist-packages (from ydata_profiling) (6.0.2)\n",
      "Requirement already satisfied: jinja2<3.2,>=2.11.1 in /usr/local/lib/python3.10/dist-packages (from ydata_profiling) (3.1.4)\n",
      "Requirement already satisfied: visions<0.7.7,>=0.7.5 in /usr/local/lib/python3.10/dist-packages (from visions[type_image_path]<0.7.7,>=0.7.5->ydata_profiling) (0.7.6)\n",
      "Requirement already satisfied: numpy<2.2,>=1.16.0 in /usr/local/lib/python3.10/dist-packages (from ydata_profiling) (1.26.4)\n",
      "Requirement already satisfied: htmlmin==0.1.12 in /usr/local/lib/python3.10/dist-packages (from ydata_profiling) (0.1.12)\n",
      "Requirement already satisfied: phik<0.13,>=0.11.1 in /usr/local/lib/python3.10/dist-packages (from ydata_profiling) (0.12.4)\n",
      "Requirement already satisfied: requests<3,>=2.24.0 in /usr/local/lib/python3.10/dist-packages (from ydata_profiling) (2.32.3)\n",
      "Requirement already satisfied: tqdm<5,>=4.48.2 in /usr/local/lib/python3.10/dist-packages (from ydata_profiling) (4.66.6)\n",
      "Requirement already satisfied: seaborn<0.14,>=0.10.1 in /usr/local/lib/python3.10/dist-packages (from ydata_profiling) (0.13.2)\n",
      "Requirement already satisfied: multimethod<2,>=1.4 in /usr/local/lib/python3.10/dist-packages (from ydata_profiling) (1.12)\n",
      "Requirement already satisfied: statsmodels<1,>=0.13.2 in /usr/local/lib/python3.10/dist-packages (from ydata_profiling) (0.14.4)\n",
      "Requirement already satisfied: typeguard<5,>=3 in /usr/local/lib/python3.10/dist-packages (from ydata_profiling) (4.4.1)\n",
      "Requirement already satisfied: imagehash==4.3.1 in /usr/local/lib/python3.10/dist-packages (from ydata_profiling) (4.3.1)\n",
      "Requirement already satisfied: wordcloud>=1.9.3 in /usr/local/lib/python3.10/dist-packages (from ydata_profiling) (1.9.4)\n",
      "Requirement already satisfied: dacite>=1.8 in /usr/local/lib/python3.10/dist-packages (from ydata_profiling) (1.8.1)\n",
      "Requirement already satisfied: numba<1,>=0.56.0 in /usr/local/lib/python3.10/dist-packages (from ydata_profiling) (0.60.0)\n",
      "Requirement already satisfied: PyWavelets in /usr/local/lib/python3.10/dist-packages (from imagehash==4.3.1->ydata_profiling) (1.8.0)\n",
      "Requirement already satisfied: pillow in /usr/local/lib/python3.10/dist-packages (from imagehash==4.3.1->ydata_profiling) (11.0.0)\n",
      "Requirement already satisfied: MarkupSafe>=2.0 in /usr/local/lib/python3.10/dist-packages (from jinja2<3.2,>=2.11.1->ydata_profiling) (3.0.2)\n",
      "Requirement already satisfied: contourpy>=1.0.1 in /usr/local/lib/python3.10/dist-packages (from matplotlib<3.10,>=3.5->ydata_profiling) (1.3.1)\n",
      "Requirement already satisfied: cycler>=0.10 in /usr/local/lib/python3.10/dist-packages (from matplotlib<3.10,>=3.5->ydata_profiling) (0.12.1)\n",
      "Requirement already satisfied: fonttools>=4.22.0 in /usr/local/lib/python3.10/dist-packages (from matplotlib<3.10,>=3.5->ydata_profiling) (4.55.1)\n",
      "Requirement already satisfied: kiwisolver>=1.0.1 in /usr/local/lib/python3.10/dist-packages (from matplotlib<3.10,>=3.5->ydata_profiling) (1.4.7)\n",
      "Requirement already satisfied: packaging>=20.0 in /usr/local/lib/python3.10/dist-packages (from matplotlib<3.10,>=3.5->ydata_profiling) (24.2)\n",
      "Requirement already satisfied: pyparsing>=2.3.1 in /usr/local/lib/python3.10/dist-packages (from matplotlib<3.10,>=3.5->ydata_profiling) (3.2.0)\n",
      "Requirement already satisfied: python-dateutil>=2.7 in /usr/local/lib/python3.10/dist-packages (from matplotlib<3.10,>=3.5->ydata_profiling) (2.8.2)\n",
      "Requirement already satisfied: llvmlite<0.44,>=0.43.0dev0 in /usr/local/lib/python3.10/dist-packages (from numba<1,>=0.56.0->ydata_profiling) (0.43.0)\n",
      "Requirement already satisfied: pytz>=2020.1 in /usr/local/lib/python3.10/dist-packages (from pandas!=1.4.0,<3,>1.1->ydata_profiling) (2024.2)\n",
      "Requirement already satisfied: tzdata>=2022.7 in /usr/local/lib/python3.10/dist-packages (from pandas!=1.4.0,<3,>1.1->ydata_profiling) (2024.2)\n",
      "Requirement already satisfied: joblib>=0.14.1 in /usr/local/lib/python3.10/dist-packages (from phik<0.13,>=0.11.1->ydata_profiling) (1.4.2)\n",
      "Requirement already satisfied: annotated-types>=0.6.0 in /usr/local/lib/python3.10/dist-packages (from pydantic>=2->ydata_profiling) (0.7.0)\n",
      "Requirement already satisfied: pydantic-core==2.27.1 in /usr/local/lib/python3.10/dist-packages (from pydantic>=2->ydata_profiling) (2.27.1)\n",
      "Requirement already satisfied: typing-extensions>=4.12.2 in /usr/local/lib/python3.10/dist-packages (from pydantic>=2->ydata_profiling) (4.12.2)\n",
      "Requirement already satisfied: charset-normalizer<4,>=2 in /usr/local/lib/python3.10/dist-packages (from requests<3,>=2.24.0->ydata_profiling) (3.4.0)\n",
      "Requirement already satisfied: idna<4,>=2.5 in /usr/local/lib/python3.10/dist-packages (from requests<3,>=2.24.0->ydata_profiling) (3.10)\n",
      "Requirement already satisfied: urllib3<3,>=1.21.1 in /usr/local/lib/python3.10/dist-packages (from requests<3,>=2.24.0->ydata_profiling) (2.2.3)\n",
      "Requirement already satisfied: certifi>=2017.4.17 in /usr/local/lib/python3.10/dist-packages (from requests<3,>=2.24.0->ydata_profiling) (2024.8.30)\n",
      "Requirement already satisfied: patsy>=0.5.6 in /usr/local/lib/python3.10/dist-packages (from statsmodels<1,>=0.13.2->ydata_profiling) (1.0.1)\n",
      "Requirement already satisfied: attrs>=19.3.0 in /usr/local/lib/python3.10/dist-packages (from visions<0.7.7,>=0.7.5->visions[type_image_path]<0.7.7,>=0.7.5->ydata_profiling) (24.2.0)\n",
      "Requirement already satisfied: networkx>=2.4 in /usr/local/lib/python3.10/dist-packages (from visions<0.7.7,>=0.7.5->visions[type_image_path]<0.7.7,>=0.7.5->ydata_profiling) (3.4.2)\n",
      "Requirement already satisfied: six>=1.5 in /usr/local/lib/python3.10/dist-packages (from python-dateutil>=2.7->matplotlib<3.10,>=3.5->ydata_profiling) (1.16.0)\n"
     ]
    }
   ],
   "source": [
    "# installing the ydata\n",
    "!pip install ydata_profiling"
   ]
  },
  {
   "cell_type": "code",
   "execution_count": 18,
   "metadata": {
    "executionInfo": {
     "elapsed": 10951,
     "status": "ok",
     "timestamp": 1734023973561,
     "user": {
      "displayName": "ritik ranjan",
      "userId": "01659122567081095208"
     },
     "user_tz": -330
    },
    "id": "wY0YobkTbq-b"
   },
   "outputs": [],
   "source": [
    "# importing the the ydata_profiling\n",
    "from ydata_profiling import ProfileReport"
   ]
  },
  {
   "cell_type": "markdown",
   "metadata": {
    "id": "kx1KiglPgGLa"
   },
   "source": [
    "## Creating Data Profile"
   ]
  },
  {
   "cell_type": "code",
   "execution_count": 19,
   "metadata": {
    "executionInfo": {
     "elapsed": 5,
     "status": "ok",
     "timestamp": 1734023973563,
     "user": {
      "displayName": "ritik ranjan",
      "userId": "01659122567081095208"
     },
     "user_tz": -330
    },
    "id": "ohEj70vkgIZu"
   },
   "outputs": [],
   "source": [
    "#Generating the Pandas profiling report\n",
    "profile = ProfileReport(restaurant_df, title=\"Pandas Profiling Report\")\n"
   ]
  },
  {
   "cell_type": "code",
   "execution_count": 20,
   "metadata": {
    "colab": {
     "base_uri": "https://localhost:8080/",
     "height": 917,
     "output_embedded_package_id": "1WE-dwUqDvvY58Mx5ALAxt024YvqmLeV8",
     "referenced_widgets": [
      "7fe231569afa4e7690d5a59a93ccc871",
      "11a530d8dba84de388cd209bea6f3ed0",
      "e58010d3b4fe43b59712837559112d15",
      "d347b136009844feb535ff92c3f6562a",
      "557a45003b1d4467bf535d379211fbf9",
      "ca0fc77495f442fa888f54b781f735de",
      "3554df53ab8643b2b09ca2417934ff1c",
      "1dadc9a996c540149a82c4d151ca1223",
      "f102deea4df745058c28db58cc54961c",
      "528ab3b68c00446191b14d4e831812c2",
      "840e951a592c49ddaf28d5353591592e",
      "976e0bea81f5499992d62d7ee035af2d",
      "35bf47951154476c8fee4d3deaa02416",
      "ba0169390ac24dc58e4d6b9e82fe15fa",
      "55385a38416246dba331df393279aecc",
      "48179fc5fd4047bfab7800f34c6c9870",
      "0edff34939304c21b9c51a30dfe97c64",
      "c349e7ba3e7043c8b53483ef27979870",
      "cb388cf87e3749b78fb3284dc8c4d957",
      "94d15a8522804ba586ed04ca07af62d3",
      "adb8343103f942fab9ca12ff06b01f66",
      "9351954dc84f4195bb4f7a545c203e2c",
      "d558c002cb98434ab0d6d03c8a67a5dd",
      "b468c9a7301f4ce1b3654b4e3754c72b",
      "11cc5c262c1c4acf965faf817cb2e953",
      "ba0da16763614e91a980c7096afd98d2",
      "0342bd9f249c463886bbea95928af041",
      "e66e2c8e96a44449be5e1001b85b75bb",
      "320b97f5373448d78629c2990011f84d",
      "eab067f9087344b7ba01631b791488e6",
      "e15aff5aa6ae486dad1f9c9455f9ddb9",
      "1bd7d91649534f7d9c5a73723e5cc517",
      "b1ec9c8c965443aa9dc2c14f956e3fd8"
     ]
    },
    "executionInfo": {
     "elapsed": 42080,
     "status": "ok",
     "timestamp": 1734024015639,
     "user": {
      "displayName": "ritik ranjan",
      "userId": "01659122567081095208"
     },
     "user_tz": -330
    },
    "id": "aET3R2iDim-z",
    "outputId": "ab5aa3a9-14d8-451d-cc4a-c060713ffc12"
   },
   "outputs": [
    {
     "data": {
      "text/plain": [
       "Output hidden; open in https://colab.research.google.com to view."
      ]
     },
     "metadata": {},
     "output_type": "display_data"
    }
   ],
   "source": [
    "profile.to_notebook_iframe()"
   ]
  },
  {
   "cell_type": "code",
   "execution_count": 21,
   "metadata": {
    "colab": {
     "base_uri": "https://localhost:8080/",
     "height": 49,
     "referenced_widgets": [
      "190e3317ddb741e79fb3a48db0b9d0e5",
      "66bf0b1b515e4e56ba41729739384136",
      "12fea60eb4a34b30ae3f9a8ce7697248",
      "be94a42d760c4e78b195f5b9142a6717",
      "b3282ef41c0344cfbac2c66120536faa",
      "e1070b1246cc47cf8a92df0b791305a7",
      "dfa2f85c804640fb93eff948d62a08ab",
      "a88bebeadff447579eaf67189d415f03",
      "ad383d71f4d64536826f1f3d68707e8e",
      "1f2179f021d24094843c8aa856afc350",
      "910b8e9ed7b4441c8bcbd5eeb3249010"
     ]
    },
    "executionInfo": {
     "elapsed": 32,
     "status": "ok",
     "timestamp": 1734024015639,
     "user": {
      "displayName": "ritik ranjan",
      "userId": "01659122567081095208"
     },
     "user_tz": -330
    },
    "id": "bqgKIV0TjAhL",
    "outputId": "43bb0fbc-df47-4e09-fe33-f2ac6887af77"
   },
   "outputs": [
    {
     "data": {
      "application/vnd.jupyter.widget-view+json": {
       "model_id": "190e3317ddb741e79fb3a48db0b9d0e5",
       "version_major": 2,
       "version_minor": 0
      },
      "text/plain": [
       "Export report to file:   0%|          | 0/1 [00:00<?, ?it/s]"
      ]
     },
     "metadata": {},
     "output_type": "display_data"
    }
   ],
   "source": [
    "## Exporting the report to a file\n",
    "profile.to_file(\"Restaurant_revenue_profiling.html\")"
   ]
  },
  {
   "cell_type": "markdown",
   "metadata": {
    "id": "rge7iAZ6kLp9"
   },
   "source": [
    "# Train,Test and production split by 60-20-20"
   ]
  },
  {
   "cell_type": "code",
   "execution_count": 22,
   "metadata": {
    "executionInfo": {
     "elapsed": 17,
     "status": "ok",
     "timestamp": 1734024015639,
     "user": {
      "displayName": "ritik ranjan",
      "userId": "01659122567081095208"
     },
     "user_tz": -330
    },
    "id": "avMQyQjYkEQP"
   },
   "outputs": [],
   "source": [
    "from sklearn.model_selection import train_test_split\n",
    "\n",
    "# split into train and temporary sets\n",
    "train_data, temp_data = train_test_split(restaurant_df, test_size=0.4,  random_state=30)\n",
    "\n",
    "# split into test and production sets\n",
    "test_data, prod_data = train_test_split(temp_data, test_size=0.5,  random_state=30)"
   ]
  },
  {
   "cell_type": "code",
   "execution_count": 23,
   "metadata": {
    "colab": {
     "base_uri": "https://localhost:8080/"
    },
    "executionInfo": {
     "elapsed": 16,
     "status": "ok",
     "timestamp": 1734024015639,
     "user": {
      "displayName": "ritik ranjan",
      "userId": "01659122567081095208"
     },
     "user_tz": -330
    },
    "id": "TLXVHWxipfJF",
    "outputId": "55b4b935-fe99-4da4-f585-a43910fcad04"
   },
   "outputs": [
    {
     "data": {
      "text/plain": [
       "((600, 8), (200, 8), (200, 8))"
      ]
     },
     "execution_count": 23,
     "metadata": {},
     "output_type": "execute_result"
    }
   ],
   "source": [
    "# Checking the shape of the train, test and production data\n",
    "train_data.shape, test_data.shape, prod_data.shape"
   ]
  },
  {
   "cell_type": "markdown",
   "metadata": {
    "id": "L5DyVGZ9py1l"
   },
   "source": [
    "### Creating parquet file type for train,test and production data"
   ]
  },
  {
   "cell_type": "code",
   "execution_count": 24,
   "metadata": {
    "executionInfo": {
     "elapsed": 13,
     "status": "ok",
     "timestamp": 1734024015639,
     "user": {
      "displayName": "ritik ranjan",
      "userId": "01659122567081095208"
     },
     "user_tz": -330
    },
    "id": "oqa46Ophp9wA"
   },
   "outputs": [],
   "source": [
    "# Saving the main file in parquet format\n",
    "\n",
    "train_data.to_parquet(\"./datasets/restaurant_train_df.parquet\")\n",
    "test_data.to_parquet(\"./datasets/restaurant_test_df.parquet\")\n",
    "prod_data.to_parquet(\"./datasets/restaurant_prod_df.parquet\")\n"
   ]
  },
  {
   "cell_type": "code",
   "execution_count": 25,
   "metadata": {
    "executionInfo": {
     "elapsed": 13,
     "status": "ok",
     "timestamp": 1734024015639,
     "user": {
      "displayName": "ritik ranjan",
      "userId": "01659122567081095208"
     },
     "user_tz": -330
    },
    "id": "y4TA5Gwe799-"
   },
   "outputs": [],
   "source": [
    "# Reading the file from github and saving them into the dataframe\n",
    "\n",
    "train_url = \"https://raw.githubusercontent.com/ritikisb83/CTAssignmentgroup5/refs/heads/main/Datasets/restaurant_train_df.parquet\"\n",
    "train_df = pd.read_parquet(train_url, engine=\"pyarrow\")\n",
    "test_url = \"https://raw.githubusercontent.com/ritikisb83/CTAssignmentgroup5/refs/heads/main/Datasets/restaurant_test_df.parquet\"\n",
    "test_df = pd.read_parquet(test_url, engine=\"pyarrow\")\n",
    "prod_url = \"https://raw.githubusercontent.com/ritikisb83/CTAssignmentgroup5/refs/heads/main/Datasets/restaurant_prod_df.parquet\"\n",
    "prod_df = pd.read_parquet(prod_url, engine=\"pyarrow\")"
   ]
  },
  {
   "cell_type": "markdown",
   "metadata": {
    "id": "o80HSBHhrkWI"
   },
   "source": [
    "# ML Pipeline with Scikit-Learn"
   ]
  },
  {
   "cell_type": "markdown",
   "metadata": {
    "id": "X6x4auw7rDJO"
   },
   "source": [
    "### Need for Data Transformation\n",
    "\n",
    "1. Categorical Encoding for categorical columns\n",
    "    - OHE Encoding\n",
    "2. Data scaling\n",
    "    - Standard scaling"
   ]
  },
  {
   "cell_type": "markdown",
   "metadata": {
    "id": "eBYqr4GerMO-"
   },
   "source": [
    "##### Feature Set Selection & ML pipeline"
   ]
  },
  {
   "cell_type": "code",
   "execution_count": 26,
   "metadata": {
    "executionInfo": {
     "elapsed": 13,
     "status": "ok",
     "timestamp": 1734024015639,
     "user": {
      "displayName": "ritik ranjan",
      "userId": "01659122567081095208"
     },
     "user_tz": -330
    },
    "id": "WecqbZa9-1R_"
   },
   "outputs": [],
   "source": [
    "# creating features set\n",
    "features_set = ['Number_of_Customers', 'Menu_Price', 'Marketing_Spend', 'Cuisine_Type',\n",
    "       'Average_Customer_Spending', 'Promotions', 'Reviews',\n",
    "       'Monthly_Revenue']"
   ]
  },
  {
   "cell_type": "code",
   "execution_count": 27,
   "metadata": {
    "colab": {
     "base_uri": "https://localhost:8080/"
    },
    "executionInfo": {
     "elapsed": 13,
     "status": "ok",
     "timestamp": 1734024015639,
     "user": {
      "displayName": "ritik ranjan",
      "userId": "01659122567081095208"
     },
     "user_tz": -330
    },
    "id": "8pyFxBHh9x7c",
    "outputId": "219c4cae-7c0a-43d3-872d-9ced5d7fa65f"
   },
   "outputs": [
    {
     "name": "stdout",
     "output_type": "stream",
     "text": [
      "<class 'pandas.core.frame.DataFrame'>\n",
      "RangeIndex: 1000 entries, 0 to 999\n",
      "Data columns (total 8 columns):\n",
      " #   Column                     Non-Null Count  Dtype  \n",
      "---  ------                     --------------  -----  \n",
      " 0   Number_of_Customers        1000 non-null   int16  \n",
      " 1   Menu_Price                 1000 non-null   float32\n",
      " 2   Marketing_Spend            1000 non-null   float32\n",
      " 3   Cuisine_Type               1000 non-null   object \n",
      " 4   Average_Customer_Spending  1000 non-null   float32\n",
      " 5   Promotions                 1000 non-null   int16  \n",
      " 6   Reviews                    1000 non-null   int16  \n",
      " 7   Monthly_Revenue            1000 non-null   float32\n",
      "dtypes: float32(4), int16(3), object(1)\n",
      "memory usage: 29.4+ KB\n"
     ]
    }
   ],
   "source": [
    "# checking the columns name and null info\n",
    "\n",
    "restaurant_df[features_set].info()"
   ]
  },
  {
   "cell_type": "markdown",
   "metadata": {
    "id": "_Bwk-z5k-fD6"
   },
   "source": [
    "* There is no null values in the dataset\n",
    "* One column is object type and others are quantitative, so we will use scaling and OHE to columns\n",
    "\n"
   ]
  },
  {
   "cell_type": "code",
   "execution_count": 28,
   "metadata": {
    "executionInfo": {
     "elapsed": 11,
     "status": "ok",
     "timestamp": 1734024015639,
     "user": {
      "displayName": "ritik ranjan",
      "userId": "01659122567081095208"
     },
     "user_tz": -330
    },
    "id": "n7Nri4KQAGGk"
   },
   "outputs": [],
   "source": [
    "# Creating X features\n",
    "x_columns = ['Number_of_Customers', 'Menu_Price', 'Marketing_Spend', 'Cuisine_Type',\n",
    "       'Average_Customer_Spending', 'Promotions', 'Reviews']"
   ]
  },
  {
   "cell_type": "code",
   "execution_count": 29,
   "metadata": {
    "executionInfo": {
     "elapsed": 11,
     "status": "ok",
     "timestamp": 1734024015639,
     "user": {
      "displayName": "ritik ranjan",
      "userId": "01659122567081095208"
     },
     "user_tz": -330
    },
    "id": "xLJDU4-L9wC8"
   },
   "outputs": [],
   "source": [
    "# creating categorical features\n",
    "\n",
    "cat_vars = ['Cuisine_Type']"
   ]
  },
  {
   "cell_type": "code",
   "execution_count": 30,
   "metadata": {
    "executionInfo": {
     "elapsed": 12,
     "status": "ok",
     "timestamp": 1734024015640,
     "user": {
      "displayName": "ritik ranjan",
      "userId": "01659122567081095208"
     },
     "user_tz": -330
    },
    "id": "VjDqxPRu_MSD"
   },
   "outputs": [],
   "source": [
    "# Creating numerical features\n",
    "num_vars = list(set(x_columns) - set(cat_vars))"
   ]
  },
  {
   "cell_type": "code",
   "execution_count": 31,
   "metadata": {
    "executionInfo": {
     "elapsed": 11,
     "status": "ok",
     "timestamp": 1734024015640,
     "user": {
      "displayName": "ritik ranjan",
      "userId": "01659122567081095208"
     },
     "user_tz": -330
    },
    "id": "Iq6GyCy__tfe"
   },
   "outputs": [],
   "source": [
    "# Splitting train dataset into X & y\n",
    "x_train = train_df[x_columns]\n",
    "y_train = train_df['Monthly_Revenue']\n",
    "x_test = test_df[x_columns]\n",
    "y_test = test_df['Monthly_Revenue']"
   ]
  },
  {
   "cell_type": "code",
   "execution_count": 32,
   "metadata": {
    "executionInfo": {
     "elapsed": 11,
     "status": "ok",
     "timestamp": 1734024015640,
     "user": {
      "displayName": "ritik ranjan",
      "userId": "01659122567081095208"
     },
     "user_tz": -330
    },
    "id": "Gjob9R0urrB2"
   },
   "outputs": [],
   "source": [
    "# importing all the necessary library for the Mlpipeline\n",
    "\n",
    "from sklearn.preprocessing import OneHotEncoder\n",
    "from sklearn.preprocessing import StandardScaler\n",
    "from sklearn.preprocessing import MinMaxScaler\n",
    "from sklearn.compose import ColumnTransformer\n",
    "from sklearn.pipeline import Pipeline\n",
    "import wandb\n",
    "import os"
   ]
  },
  {
   "cell_type": "code",
   "execution_count": 33,
   "metadata": {
    "executionInfo": {
     "elapsed": 11,
     "status": "ok",
     "timestamp": 1734024015640,
     "user": {
      "displayName": "ritik ranjan",
      "userId": "01659122567081095208"
     },
     "user_tz": -330
    },
    "id": "ahiZR4Tc7lL9"
   },
   "outputs": [],
   "source": [
    "ohe_encoder = OneHotEncoder(handle_unknown='ignore')\n",
    "scaler = StandardScaler()\n",
    "\n",
    "## Pipeline for the applying scaling\n",
    "num_transformer = Pipeline(steps=[('scaler', scaler)])\n",
    "\n",
    "## Pipeline for the applying OHE\n",
    "cat_transformer = Pipeline(steps=[('ohe', ohe_encoder)])\n",
    "\n",
    "## The complete pipeline for applying the required transformatinons to the respective columns\n",
    "preprocessor = ColumnTransformer(transformers=[('num', num_transformer, num_vars),\n",
    "                                               ('cat', cat_transformer, cat_vars)])"
   ]
  },
  {
   "cell_type": "code",
   "execution_count": 39,
   "metadata": {
    "colab": {
     "base_uri": "https://localhost:8080/",
     "height": 342
    },
    "executionInfo": {
     "elapsed": 372,
     "status": "ok",
     "timestamp": 1734026368647,
     "user": {
      "displayName": "ritik ranjan",
      "userId": "01659122567081095208"
     },
     "user_tz": -330
    },
    "id": "JA1pQxqZBobO",
    "outputId": "911e33b4-18c5-4326-95a0-d12d13b31643"
   },
   "outputs": [
    {
     "data": {
      "text/html": [
       "<style>#sk-container-id-1 {\n",
       "  /* Definition of color scheme common for light and dark mode */\n",
       "  --sklearn-color-text: black;\n",
       "  --sklearn-color-line: gray;\n",
       "  /* Definition of color scheme for unfitted estimators */\n",
       "  --sklearn-color-unfitted-level-0: #fff5e6;\n",
       "  --sklearn-color-unfitted-level-1: #f6e4d2;\n",
       "  --sklearn-color-unfitted-level-2: #ffe0b3;\n",
       "  --sklearn-color-unfitted-level-3: chocolate;\n",
       "  /* Definition of color scheme for fitted estimators */\n",
       "  --sklearn-color-fitted-level-0: #f0f8ff;\n",
       "  --sklearn-color-fitted-level-1: #d4ebff;\n",
       "  --sklearn-color-fitted-level-2: #b3dbfd;\n",
       "  --sklearn-color-fitted-level-3: cornflowerblue;\n",
       "\n",
       "  /* Specific color for light theme */\n",
       "  --sklearn-color-text-on-default-background: var(--sg-text-color, var(--theme-code-foreground, var(--jp-content-font-color1, black)));\n",
       "  --sklearn-color-background: var(--sg-background-color, var(--theme-background, var(--jp-layout-color0, white)));\n",
       "  --sklearn-color-border-box: var(--sg-text-color, var(--theme-code-foreground, var(--jp-content-font-color1, black)));\n",
       "  --sklearn-color-icon: #696969;\n",
       "\n",
       "  @media (prefers-color-scheme: dark) {\n",
       "    /* Redefinition of color scheme for dark theme */\n",
       "    --sklearn-color-text-on-default-background: var(--sg-text-color, var(--theme-code-foreground, var(--jp-content-font-color1, white)));\n",
       "    --sklearn-color-background: var(--sg-background-color, var(--theme-background, var(--jp-layout-color0, #111)));\n",
       "    --sklearn-color-border-box: var(--sg-text-color, var(--theme-code-foreground, var(--jp-content-font-color1, white)));\n",
       "    --sklearn-color-icon: #878787;\n",
       "  }\n",
       "}\n",
       "\n",
       "#sk-container-id-1 {\n",
       "  color: var(--sklearn-color-text);\n",
       "}\n",
       "\n",
       "#sk-container-id-1 pre {\n",
       "  padding: 0;\n",
       "}\n",
       "\n",
       "#sk-container-id-1 input.sk-hidden--visually {\n",
       "  border: 0;\n",
       "  clip: rect(1px 1px 1px 1px);\n",
       "  clip: rect(1px, 1px, 1px, 1px);\n",
       "  height: 1px;\n",
       "  margin: -1px;\n",
       "  overflow: hidden;\n",
       "  padding: 0;\n",
       "  position: absolute;\n",
       "  width: 1px;\n",
       "}\n",
       "\n",
       "#sk-container-id-1 div.sk-dashed-wrapped {\n",
       "  border: 1px dashed var(--sklearn-color-line);\n",
       "  margin: 0 0.4em 0.5em 0.4em;\n",
       "  box-sizing: border-box;\n",
       "  padding-bottom: 0.4em;\n",
       "  background-color: var(--sklearn-color-background);\n",
       "}\n",
       "\n",
       "#sk-container-id-1 div.sk-container {\n",
       "  /* jupyter's `normalize.less` sets `[hidden] { display: none; }`\n",
       "     but bootstrap.min.css set `[hidden] { display: none !important; }`\n",
       "     so we also need the `!important` here to be able to override the\n",
       "     default hidden behavior on the sphinx rendered scikit-learn.org.\n",
       "     See: https://github.com/scikit-learn/scikit-learn/issues/21755 */\n",
       "  display: inline-block !important;\n",
       "  position: relative;\n",
       "}\n",
       "\n",
       "#sk-container-id-1 div.sk-text-repr-fallback {\n",
       "  display: none;\n",
       "}\n",
       "\n",
       "div.sk-parallel-item,\n",
       "div.sk-serial,\n",
       "div.sk-item {\n",
       "  /* draw centered vertical line to link estimators */\n",
       "  background-image: linear-gradient(var(--sklearn-color-text-on-default-background), var(--sklearn-color-text-on-default-background));\n",
       "  background-size: 2px 100%;\n",
       "  background-repeat: no-repeat;\n",
       "  background-position: center center;\n",
       "}\n",
       "\n",
       "/* Parallel-specific style estimator block */\n",
       "\n",
       "#sk-container-id-1 div.sk-parallel-item::after {\n",
       "  content: \"\";\n",
       "  width: 100%;\n",
       "  border-bottom: 2px solid var(--sklearn-color-text-on-default-background);\n",
       "  flex-grow: 1;\n",
       "}\n",
       "\n",
       "#sk-container-id-1 div.sk-parallel {\n",
       "  display: flex;\n",
       "  align-items: stretch;\n",
       "  justify-content: center;\n",
       "  background-color: var(--sklearn-color-background);\n",
       "  position: relative;\n",
       "}\n",
       "\n",
       "#sk-container-id-1 div.sk-parallel-item {\n",
       "  display: flex;\n",
       "  flex-direction: column;\n",
       "}\n",
       "\n",
       "#sk-container-id-1 div.sk-parallel-item:first-child::after {\n",
       "  align-self: flex-end;\n",
       "  width: 50%;\n",
       "}\n",
       "\n",
       "#sk-container-id-1 div.sk-parallel-item:last-child::after {\n",
       "  align-self: flex-start;\n",
       "  width: 50%;\n",
       "}\n",
       "\n",
       "#sk-container-id-1 div.sk-parallel-item:only-child::after {\n",
       "  width: 0;\n",
       "}\n",
       "\n",
       "/* Serial-specific style estimator block */\n",
       "\n",
       "#sk-container-id-1 div.sk-serial {\n",
       "  display: flex;\n",
       "  flex-direction: column;\n",
       "  align-items: center;\n",
       "  background-color: var(--sklearn-color-background);\n",
       "  padding-right: 1em;\n",
       "  padding-left: 1em;\n",
       "}\n",
       "\n",
       "\n",
       "/* Toggleable style: style used for estimator/Pipeline/ColumnTransformer box that is\n",
       "clickable and can be expanded/collapsed.\n",
       "- Pipeline and ColumnTransformer use this feature and define the default style\n",
       "- Estimators will overwrite some part of the style using the `sk-estimator` class\n",
       "*/\n",
       "\n",
       "/* Pipeline and ColumnTransformer style (default) */\n",
       "\n",
       "#sk-container-id-1 div.sk-toggleable {\n",
       "  /* Default theme specific background. It is overwritten whether we have a\n",
       "  specific estimator or a Pipeline/ColumnTransformer */\n",
       "  background-color: var(--sklearn-color-background);\n",
       "}\n",
       "\n",
       "/* Toggleable label */\n",
       "#sk-container-id-1 label.sk-toggleable__label {\n",
       "  cursor: pointer;\n",
       "  display: block;\n",
       "  width: 100%;\n",
       "  margin-bottom: 0;\n",
       "  padding: 0.5em;\n",
       "  box-sizing: border-box;\n",
       "  text-align: center;\n",
       "}\n",
       "\n",
       "#sk-container-id-1 label.sk-toggleable__label-arrow:before {\n",
       "  /* Arrow on the left of the label */\n",
       "  content: \"▸\";\n",
       "  float: left;\n",
       "  margin-right: 0.25em;\n",
       "  color: var(--sklearn-color-icon);\n",
       "}\n",
       "\n",
       "#sk-container-id-1 label.sk-toggleable__label-arrow:hover:before {\n",
       "  color: var(--sklearn-color-text);\n",
       "}\n",
       "\n",
       "/* Toggleable content - dropdown */\n",
       "\n",
       "#sk-container-id-1 div.sk-toggleable__content {\n",
       "  max-height: 0;\n",
       "  max-width: 0;\n",
       "  overflow: hidden;\n",
       "  text-align: left;\n",
       "  /* unfitted */\n",
       "  background-color: var(--sklearn-color-unfitted-level-0);\n",
       "}\n",
       "\n",
       "#sk-container-id-1 div.sk-toggleable__content.fitted {\n",
       "  /* fitted */\n",
       "  background-color: var(--sklearn-color-fitted-level-0);\n",
       "}\n",
       "\n",
       "#sk-container-id-1 div.sk-toggleable__content pre {\n",
       "  margin: 0.2em;\n",
       "  border-radius: 0.25em;\n",
       "  color: var(--sklearn-color-text);\n",
       "  /* unfitted */\n",
       "  background-color: var(--sklearn-color-unfitted-level-0);\n",
       "}\n",
       "\n",
       "#sk-container-id-1 div.sk-toggleable__content.fitted pre {\n",
       "  /* unfitted */\n",
       "  background-color: var(--sklearn-color-fitted-level-0);\n",
       "}\n",
       "\n",
       "#sk-container-id-1 input.sk-toggleable__control:checked~div.sk-toggleable__content {\n",
       "  /* Expand drop-down */\n",
       "  max-height: 200px;\n",
       "  max-width: 100%;\n",
       "  overflow: auto;\n",
       "}\n",
       "\n",
       "#sk-container-id-1 input.sk-toggleable__control:checked~label.sk-toggleable__label-arrow:before {\n",
       "  content: \"▾\";\n",
       "}\n",
       "\n",
       "/* Pipeline/ColumnTransformer-specific style */\n",
       "\n",
       "#sk-container-id-1 div.sk-label input.sk-toggleable__control:checked~label.sk-toggleable__label {\n",
       "  color: var(--sklearn-color-text);\n",
       "  background-color: var(--sklearn-color-unfitted-level-2);\n",
       "}\n",
       "\n",
       "#sk-container-id-1 div.sk-label.fitted input.sk-toggleable__control:checked~label.sk-toggleable__label {\n",
       "  background-color: var(--sklearn-color-fitted-level-2);\n",
       "}\n",
       "\n",
       "/* Estimator-specific style */\n",
       "\n",
       "/* Colorize estimator box */\n",
       "#sk-container-id-1 div.sk-estimator input.sk-toggleable__control:checked~label.sk-toggleable__label {\n",
       "  /* unfitted */\n",
       "  background-color: var(--sklearn-color-unfitted-level-2);\n",
       "}\n",
       "\n",
       "#sk-container-id-1 div.sk-estimator.fitted input.sk-toggleable__control:checked~label.sk-toggleable__label {\n",
       "  /* fitted */\n",
       "  background-color: var(--sklearn-color-fitted-level-2);\n",
       "}\n",
       "\n",
       "#sk-container-id-1 div.sk-label label.sk-toggleable__label,\n",
       "#sk-container-id-1 div.sk-label label {\n",
       "  /* The background is the default theme color */\n",
       "  color: var(--sklearn-color-text-on-default-background);\n",
       "}\n",
       "\n",
       "/* On hover, darken the color of the background */\n",
       "#sk-container-id-1 div.sk-label:hover label.sk-toggleable__label {\n",
       "  color: var(--sklearn-color-text);\n",
       "  background-color: var(--sklearn-color-unfitted-level-2);\n",
       "}\n",
       "\n",
       "/* Label box, darken color on hover, fitted */\n",
       "#sk-container-id-1 div.sk-label.fitted:hover label.sk-toggleable__label.fitted {\n",
       "  color: var(--sklearn-color-text);\n",
       "  background-color: var(--sklearn-color-fitted-level-2);\n",
       "}\n",
       "\n",
       "/* Estimator label */\n",
       "\n",
       "#sk-container-id-1 div.sk-label label {\n",
       "  font-family: monospace;\n",
       "  font-weight: bold;\n",
       "  display: inline-block;\n",
       "  line-height: 1.2em;\n",
       "}\n",
       "\n",
       "#sk-container-id-1 div.sk-label-container {\n",
       "  text-align: center;\n",
       "}\n",
       "\n",
       "/* Estimator-specific */\n",
       "#sk-container-id-1 div.sk-estimator {\n",
       "  font-family: monospace;\n",
       "  border: 1px dotted var(--sklearn-color-border-box);\n",
       "  border-radius: 0.25em;\n",
       "  box-sizing: border-box;\n",
       "  margin-bottom: 0.5em;\n",
       "  /* unfitted */\n",
       "  background-color: var(--sklearn-color-unfitted-level-0);\n",
       "}\n",
       "\n",
       "#sk-container-id-1 div.sk-estimator.fitted {\n",
       "  /* fitted */\n",
       "  background-color: var(--sklearn-color-fitted-level-0);\n",
       "}\n",
       "\n",
       "/* on hover */\n",
       "#sk-container-id-1 div.sk-estimator:hover {\n",
       "  /* unfitted */\n",
       "  background-color: var(--sklearn-color-unfitted-level-2);\n",
       "}\n",
       "\n",
       "#sk-container-id-1 div.sk-estimator.fitted:hover {\n",
       "  /* fitted */\n",
       "  background-color: var(--sklearn-color-fitted-level-2);\n",
       "}\n",
       "\n",
       "/* Specification for estimator info (e.g. \"i\" and \"?\") */\n",
       "\n",
       "/* Common style for \"i\" and \"?\" */\n",
       "\n",
       ".sk-estimator-doc-link,\n",
       "a:link.sk-estimator-doc-link,\n",
       "a:visited.sk-estimator-doc-link {\n",
       "  float: right;\n",
       "  font-size: smaller;\n",
       "  line-height: 1em;\n",
       "  font-family: monospace;\n",
       "  background-color: var(--sklearn-color-background);\n",
       "  border-radius: 1em;\n",
       "  height: 1em;\n",
       "  width: 1em;\n",
       "  text-decoration: none !important;\n",
       "  margin-left: 1ex;\n",
       "  /* unfitted */\n",
       "  border: var(--sklearn-color-unfitted-level-1) 1pt solid;\n",
       "  color: var(--sklearn-color-unfitted-level-1);\n",
       "}\n",
       "\n",
       ".sk-estimator-doc-link.fitted,\n",
       "a:link.sk-estimator-doc-link.fitted,\n",
       "a:visited.sk-estimator-doc-link.fitted {\n",
       "  /* fitted */\n",
       "  border: var(--sklearn-color-fitted-level-1) 1pt solid;\n",
       "  color: var(--sklearn-color-fitted-level-1);\n",
       "}\n",
       "\n",
       "/* On hover */\n",
       "div.sk-estimator:hover .sk-estimator-doc-link:hover,\n",
       ".sk-estimator-doc-link:hover,\n",
       "div.sk-label-container:hover .sk-estimator-doc-link:hover,\n",
       ".sk-estimator-doc-link:hover {\n",
       "  /* unfitted */\n",
       "  background-color: var(--sklearn-color-unfitted-level-3);\n",
       "  color: var(--sklearn-color-background);\n",
       "  text-decoration: none;\n",
       "}\n",
       "\n",
       "div.sk-estimator.fitted:hover .sk-estimator-doc-link.fitted:hover,\n",
       ".sk-estimator-doc-link.fitted:hover,\n",
       "div.sk-label-container:hover .sk-estimator-doc-link.fitted:hover,\n",
       ".sk-estimator-doc-link.fitted:hover {\n",
       "  /* fitted */\n",
       "  background-color: var(--sklearn-color-fitted-level-3);\n",
       "  color: var(--sklearn-color-background);\n",
       "  text-decoration: none;\n",
       "}\n",
       "\n",
       "/* Span, style for the box shown on hovering the info icon */\n",
       ".sk-estimator-doc-link span {\n",
       "  display: none;\n",
       "  z-index: 9999;\n",
       "  position: relative;\n",
       "  font-weight: normal;\n",
       "  right: .2ex;\n",
       "  padding: .5ex;\n",
       "  margin: .5ex;\n",
       "  width: min-content;\n",
       "  min-width: 20ex;\n",
       "  max-width: 50ex;\n",
       "  color: var(--sklearn-color-text);\n",
       "  box-shadow: 2pt 2pt 4pt #999;\n",
       "  /* unfitted */\n",
       "  background: var(--sklearn-color-unfitted-level-0);\n",
       "  border: .5pt solid var(--sklearn-color-unfitted-level-3);\n",
       "}\n",
       "\n",
       ".sk-estimator-doc-link.fitted span {\n",
       "  /* fitted */\n",
       "  background: var(--sklearn-color-fitted-level-0);\n",
       "  border: var(--sklearn-color-fitted-level-3);\n",
       "}\n",
       "\n",
       ".sk-estimator-doc-link:hover span {\n",
       "  display: block;\n",
       "}\n",
       "\n",
       "/* \"?\"-specific style due to the `<a>` HTML tag */\n",
       "\n",
       "#sk-container-id-1 a.estimator_doc_link {\n",
       "  float: right;\n",
       "  font-size: 1rem;\n",
       "  line-height: 1em;\n",
       "  font-family: monospace;\n",
       "  background-color: var(--sklearn-color-background);\n",
       "  border-radius: 1rem;\n",
       "  height: 1rem;\n",
       "  width: 1rem;\n",
       "  text-decoration: none;\n",
       "  /* unfitted */\n",
       "  color: var(--sklearn-color-unfitted-level-1);\n",
       "  border: var(--sklearn-color-unfitted-level-1) 1pt solid;\n",
       "}\n",
       "\n",
       "#sk-container-id-1 a.estimator_doc_link.fitted {\n",
       "  /* fitted */\n",
       "  border: var(--sklearn-color-fitted-level-1) 1pt solid;\n",
       "  color: var(--sklearn-color-fitted-level-1);\n",
       "}\n",
       "\n",
       "/* On hover */\n",
       "#sk-container-id-1 a.estimator_doc_link:hover {\n",
       "  /* unfitted */\n",
       "  background-color: var(--sklearn-color-unfitted-level-3);\n",
       "  color: var(--sklearn-color-background);\n",
       "  text-decoration: none;\n",
       "}\n",
       "\n",
       "#sk-container-id-1 a.estimator_doc_link.fitted:hover {\n",
       "  /* fitted */\n",
       "  background-color: var(--sklearn-color-fitted-level-3);\n",
       "}\n",
       "</style><div id=\"sk-container-id-1\" class=\"sk-top-container\"><div class=\"sk-text-repr-fallback\"><pre>ColumnTransformer(transformers=[(&#x27;num&#x27;,\n",
       "                                 Pipeline(steps=[(&#x27;scaler&#x27;, StandardScaler())]),\n",
       "                                 [&#x27;Average_Customer_Spending&#x27;, &#x27;Promotions&#x27;,\n",
       "                                  &#x27;Reviews&#x27;, &#x27;Number_of_Customers&#x27;,\n",
       "                                  &#x27;Marketing_Spend&#x27;, &#x27;Menu_Price&#x27;]),\n",
       "                                (&#x27;cat&#x27;,\n",
       "                                 Pipeline(steps=[(&#x27;ohe&#x27;,\n",
       "                                                  OneHotEncoder(handle_unknown=&#x27;ignore&#x27;))]),\n",
       "                                 [&#x27;Cuisine_Type&#x27;])])</pre><b>In a Jupyter environment, please rerun this cell to show the HTML representation or trust the notebook. <br />On GitHub, the HTML representation is unable to render, please try loading this page with nbviewer.org.</b></div><div class=\"sk-container\" hidden><div class=\"sk-item sk-dashed-wrapped\"><div class=\"sk-label-container\"><div class=\"sk-label fitted sk-toggleable\"><input class=\"sk-toggleable__control sk-hidden--visually\" id=\"sk-estimator-id-1\" type=\"checkbox\" ><label for=\"sk-estimator-id-1\" class=\"sk-toggleable__label fitted sk-toggleable__label-arrow fitted\">&nbsp;&nbsp;ColumnTransformer<a class=\"sk-estimator-doc-link fitted\" rel=\"noreferrer\" target=\"_blank\" href=\"https://scikit-learn.org/1.5/modules/generated/sklearn.compose.ColumnTransformer.html\">?<span>Documentation for ColumnTransformer</span></a><span class=\"sk-estimator-doc-link fitted\">i<span>Fitted</span></span></label><div class=\"sk-toggleable__content fitted\"><pre>ColumnTransformer(transformers=[(&#x27;num&#x27;,\n",
       "                                 Pipeline(steps=[(&#x27;scaler&#x27;, StandardScaler())]),\n",
       "                                 [&#x27;Average_Customer_Spending&#x27;, &#x27;Promotions&#x27;,\n",
       "                                  &#x27;Reviews&#x27;, &#x27;Number_of_Customers&#x27;,\n",
       "                                  &#x27;Marketing_Spend&#x27;, &#x27;Menu_Price&#x27;]),\n",
       "                                (&#x27;cat&#x27;,\n",
       "                                 Pipeline(steps=[(&#x27;ohe&#x27;,\n",
       "                                                  OneHotEncoder(handle_unknown=&#x27;ignore&#x27;))]),\n",
       "                                 [&#x27;Cuisine_Type&#x27;])])</pre></div> </div></div><div class=\"sk-parallel\"><div class=\"sk-parallel-item\"><div class=\"sk-item\"><div class=\"sk-label-container\"><div class=\"sk-label fitted sk-toggleable\"><input class=\"sk-toggleable__control sk-hidden--visually\" id=\"sk-estimator-id-2\" type=\"checkbox\" ><label for=\"sk-estimator-id-2\" class=\"sk-toggleable__label fitted sk-toggleable__label-arrow fitted\">num</label><div class=\"sk-toggleable__content fitted\"><pre>[&#x27;Average_Customer_Spending&#x27;, &#x27;Promotions&#x27;, &#x27;Reviews&#x27;, &#x27;Number_of_Customers&#x27;, &#x27;Marketing_Spend&#x27;, &#x27;Menu_Price&#x27;]</pre></div> </div></div><div class=\"sk-serial\"><div class=\"sk-item\"><div class=\"sk-serial\"><div class=\"sk-item\"><div class=\"sk-estimator fitted sk-toggleable\"><input class=\"sk-toggleable__control sk-hidden--visually\" id=\"sk-estimator-id-3\" type=\"checkbox\" ><label for=\"sk-estimator-id-3\" class=\"sk-toggleable__label fitted sk-toggleable__label-arrow fitted\">&nbsp;StandardScaler<a class=\"sk-estimator-doc-link fitted\" rel=\"noreferrer\" target=\"_blank\" href=\"https://scikit-learn.org/1.5/modules/generated/sklearn.preprocessing.StandardScaler.html\">?<span>Documentation for StandardScaler</span></a></label><div class=\"sk-toggleable__content fitted\"><pre>StandardScaler()</pre></div> </div></div></div></div></div></div></div><div class=\"sk-parallel-item\"><div class=\"sk-item\"><div class=\"sk-label-container\"><div class=\"sk-label fitted sk-toggleable\"><input class=\"sk-toggleable__control sk-hidden--visually\" id=\"sk-estimator-id-4\" type=\"checkbox\" ><label for=\"sk-estimator-id-4\" class=\"sk-toggleable__label fitted sk-toggleable__label-arrow fitted\">cat</label><div class=\"sk-toggleable__content fitted\"><pre>[&#x27;Cuisine_Type&#x27;]</pre></div> </div></div><div class=\"sk-serial\"><div class=\"sk-item\"><div class=\"sk-serial\"><div class=\"sk-item\"><div class=\"sk-estimator fitted sk-toggleable\"><input class=\"sk-toggleable__control sk-hidden--visually\" id=\"sk-estimator-id-5\" type=\"checkbox\" ><label for=\"sk-estimator-id-5\" class=\"sk-toggleable__label fitted sk-toggleable__label-arrow fitted\">&nbsp;OneHotEncoder<a class=\"sk-estimator-doc-link fitted\" rel=\"noreferrer\" target=\"_blank\" href=\"https://scikit-learn.org/1.5/modules/generated/sklearn.preprocessing.OneHotEncoder.html\">?<span>Documentation for OneHotEncoder</span></a></label><div class=\"sk-toggleable__content fitted\"><pre>OneHotEncoder(handle_unknown=&#x27;ignore&#x27;)</pre></div> </div></div></div></div></div></div></div></div></div></div></div>"
      ],
      "text/plain": [
       "ColumnTransformer(transformers=[('num',\n",
       "                                 Pipeline(steps=[('scaler', StandardScaler())]),\n",
       "                                 ['Average_Customer_Spending', 'Promotions',\n",
       "                                  'Reviews', 'Number_of_Customers',\n",
       "                                  'Marketing_Spend', 'Menu_Price']),\n",
       "                                ('cat',\n",
       "                                 Pipeline(steps=[('ohe',\n",
       "                                                  OneHotEncoder(handle_unknown='ignore'))]),\n",
       "                                 ['Cuisine_Type'])])"
      ]
     },
     "execution_count": 39,
     "metadata": {},
     "output_type": "execute_result"
    }
   ],
   "source": [
    "preprocessor"
   ]
  },
  {
   "cell_type": "markdown",
   "metadata": {
    "id": "zDunSLQnBmwZ"
   },
   "source": []
  },
  {
   "cell_type": "code",
   "execution_count": 6,
   "metadata": {
    "executionInfo": {
     "elapsed": 11,
     "status": "ok",
     "timestamp": 1734024015640,
     "user": {
      "displayName": "ritik ranjan",
      "userId": "01659122567081095208"
     },
     "user_tz": -330
    },
    "id": "EY9DwLsb7y4e"
   },
   "outputs": [],
   "source": [
    "# importing WandB key\n",
    "#os.environ[\"WANDB_API_KEY\"] = <\"Use your key\">"
   ]
  },
  {
   "cell_type": "markdown",
   "metadata": {
    "id": "XtlsQmPjDqYx"
   },
   "source": [
    "# Model Experiements"
   ]
  },
  {
   "cell_type": "code",
   "execution_count": 35,
   "metadata": {
    "executionInfo": {
     "elapsed": 11,
     "status": "ok",
     "timestamp": 1734024015640,
     "user": {
      "displayName": "ritik ranjan",
      "userId": "01659122567081095208"
     },
     "user_tz": -330
    },
    "id": "0fwXuWMlEEUV"
   },
   "outputs": [],
   "source": [
    "# importing necessary file for model experiement\n",
    "\n",
    "from sklearn.linear_model import LinearRegression\n",
    "from sklearn.tree import DecisionTreeRegressor\n",
    "from sklearn.model_selection import train_test_split, GridSearchCV\n",
    "from sklearn.metrics import r2_score, mean_squared_error\n",
    "from sklearn.model_selection import cross_validate"
   ]
  },
  {
   "cell_type": "markdown",
   "metadata": {
    "id": "99Z7CPLNDzkZ"
   },
   "source": [
    "### Baseline Model: Linear Regression with Standard Scaling"
   ]
  },
  {
   "cell_type": "code",
   "execution_count": 36,
   "metadata": {
    "colab": {
     "base_uri": "https://localhost:8080/",
     "height": 364
    },
    "executionInfo": {
     "elapsed": 13629,
     "status": "ok",
     "timestamp": 1734024029259,
     "user": {
      "displayName": "ritik ranjan",
      "userId": "01659122567081095208"
     },
     "user_tz": -330
    },
    "id": "1pgJetAED4uS",
    "outputId": "031a7306-fc32-4919-bd7c-d7e3974a0c82"
   },
   "outputs": [
    {
     "name": "stderr",
     "output_type": "stream",
     "text": [
      "\u001b[34m\u001b[1mwandb\u001b[0m: Using wandb-core as the SDK backend.  Please refer to https://wandb.me/wandb-core for more information.\n",
      "\u001b[34m\u001b[1mwandb\u001b[0m: Currently logged in as: \u001b[33mritikranjan\u001b[0m (\u001b[33mritikranjan-indian-school-of-business\u001b[0m). Use \u001b[1m`wandb login --relogin`\u001b[0m to force relogin\n"
     ]
    },
    {
     "data": {
      "text/html": [
       "Tracking run with wandb version 0.18.7"
      ],
      "text/plain": [
       "<IPython.core.display.HTML object>"
      ]
     },
     "metadata": {},
     "output_type": "display_data"
    },
    {
     "data": {
      "text/html": [
       "Run data is saved locally in <code>/content/wandb/run-20241212_172021-0i8s1znu</code>"
      ],
      "text/plain": [
       "<IPython.core.display.HTML object>"
      ]
     },
     "metadata": {},
     "output_type": "display_data"
    },
    {
     "data": {
      "text/html": [
       "Syncing run <strong><a href='https://wandb.ai/ritikranjan-indian-school-of-business/mlops_restautant_revenue/runs/0i8s1znu' target=\"_blank\">elated-voice-75</a></strong> to <a href='https://wandb.ai/ritikranjan-indian-school-of-business/mlops_restautant_revenue' target=\"_blank\">Weights & Biases</a> (<a href='https://wandb.me/developer-guide' target=\"_blank\">docs</a>)<br/>"
      ],
      "text/plain": [
       "<IPython.core.display.HTML object>"
      ]
     },
     "metadata": {},
     "output_type": "display_data"
    },
    {
     "data": {
      "text/html": [
       " View project at <a href='https://wandb.ai/ritikranjan-indian-school-of-business/mlops_restautant_revenue' target=\"_blank\">https://wandb.ai/ritikranjan-indian-school-of-business/mlops_restautant_revenue</a>"
      ],
      "text/plain": [
       "<IPython.core.display.HTML object>"
      ]
     },
     "metadata": {},
     "output_type": "display_data"
    },
    {
     "data": {
      "text/html": [
       " View run at <a href='https://wandb.ai/ritikranjan-indian-school-of-business/mlops_restautant_revenue/runs/0i8s1znu' target=\"_blank\">https://wandb.ai/ritikranjan-indian-school-of-business/mlops_restautant_revenue/runs/0i8s1znu</a>"
      ],
      "text/plain": [
       "<IPython.core.display.HTML object>"
      ]
     },
     "metadata": {},
     "output_type": "display_data"
    },
    {
     "name": "stderr",
     "output_type": "stream",
     "text": [
      "\u001b[34m\u001b[1mwandb\u001b[0m: \u001b[33mWARNING\u001b[0m Calling wandb.run.save without any arguments is deprecated.Changes to attributes are automatically persisted.\n"
     ]
    },
    {
     "data": {
      "text/html": [
       "\n",
       "    <style>\n",
       "        .wandb-row {\n",
       "            display: flex;\n",
       "            flex-direction: row;\n",
       "            flex-wrap: wrap;\n",
       "            justify-content: flex-start;\n",
       "            width: 100%;\n",
       "        }\n",
       "        .wandb-col {\n",
       "            display: flex;\n",
       "            flex-direction: column;\n",
       "            flex-basis: 100%;\n",
       "            flex: 1;\n",
       "            padding: 10px;\n",
       "        }\n",
       "    </style>\n",
       "<div class=\"wandb-row\"><div class=\"wandb-col\"><h3>Run history:</h3><br/><table class=\"wandb\"><tr><td>r2</td><td>▁</td></tr><tr><td>rmse</td><td>▁</td></tr></table><br/></div><div class=\"wandb-col\"><h3>Run summary:</h3><br/><table class=\"wandb\"><tr><td>r2</td><td>0.68213</td></tr><tr><td>rmse</td><td>57.74321</td></tr></table><br/></div></div>"
      ],
      "text/plain": [
       "<IPython.core.display.HTML object>"
      ]
     },
     "metadata": {},
     "output_type": "display_data"
    },
    {
     "data": {
      "text/html": [
       " View run <strong style=\"color:#cdcd00\">elated-voice-75</strong> at: <a href='https://wandb.ai/ritikranjan-indian-school-of-business/mlops_restautant_revenue/runs/0i8s1znu' target=\"_blank\">https://wandb.ai/ritikranjan-indian-school-of-business/mlops_restautant_revenue/runs/0i8s1znu</a><br/> View project at: <a href='https://wandb.ai/ritikranjan-indian-school-of-business/mlops_restautant_revenue' target=\"_blank\">https://wandb.ai/ritikranjan-indian-school-of-business/mlops_restautant_revenue</a><br/>Synced 5 W&B file(s), 0 media file(s), 0 artifact file(s) and 0 other file(s)"
      ],
      "text/plain": [
       "<IPython.core.display.HTML object>"
      ]
     },
     "metadata": {},
     "output_type": "display_data"
    },
    {
     "data": {
      "text/html": [
       "Find logs at: <code>./wandb/run-20241212_172021-0i8s1znu/logs</code>"
      ],
      "text/plain": [
       "<IPython.core.display.HTML object>"
      ]
     },
     "metadata": {},
     "output_type": "display_data"
    }
   ],
   "source": [
    "# Define the Linear Regression model\n",
    "linear_reg = LinearRegression()\n",
    "\n",
    "# Create a pipeline that includes preprocessing and the Linear Regression model\n",
    "\n",
    "linear_model = Pipeline(steps=[\n",
    "    ('preprocessor', preprocessor),  # Apply preprocessing (e.g., scaling, encoding)\n",
    "    ('linear_model', linear_reg)     # Use Linear Regression as the model\n",
    "])\n",
    "\n",
    "# Train the pipeline on the training data\n",
    "\n",
    "linear_model.fit(x_train, y_train)\n",
    "\n",
    "# Initialize Weights & Biases (W&B) to track the experiment\n",
    "# Create a new project named 'mlops_restautant_revenue' with specific tags for the experiment\n",
    "wandb.init(project='mlops_restautant_revenue', config=None, tags=['Linear Model', 'baseline', 'OHE Encoding'])\n",
    "\n",
    "# Name the run for easier identification in W&B\n",
    "wandb.run.name = \"LinearModel\"\n",
    "\n",
    "# Evaluate the model on the test set\n",
    "# Calculate the Root Mean Squared Error (RMSE) on the test data\n",
    "rmse = np.sqrt(mean_squared_error(y_test, linear_model.predict(x_test)))\n",
    "\n",
    "# Calculate the R-squared (R²) score on the test data\n",
    "r2 = linear_model.score(x_test, y_test)\n",
    "\n",
    "# Log performance metrics to W&B\n",
    "wandb.log({\n",
    "    \"rmse\": rmse,  # Log RMSE as a key metric\n",
    "    \"r2\": r2       # Log R² as a key metric\n",
    "})\n",
    "\n",
    "#Save the pipeline as an artifact in W&B for versioning\n",
    "wandb.Artifact(\"LinearModel\",  # Name of the artifact\n",
    "               type='model',   # Specify that this artifact is a model\n",
    "               description=None)\n",
    "\n",
    "# Save the artifact and finalize the W&B run\n",
    "wandb.save()  # Save all files related to the artifact\n",
    "wandb.finish()  # Mark the end of the W&B run\n"
   ]
  },
  {
   "cell_type": "markdown",
   "metadata": {
    "id": "t4Hc8FxBlzDW"
   },
   "source": [
    "### Baseline Model: Linear Regression with MinMax Scaling"
   ]
  },
  {
   "cell_type": "code",
   "execution_count": 37,
   "metadata": {
    "executionInfo": {
     "elapsed": 364,
     "status": "ok",
     "timestamp": 1734024129844,
     "user": {
      "displayName": "ritik ranjan",
      "userId": "01659122567081095208"
     },
     "user_tz": -330
    },
    "id": "pjUp28g6kj2w"
   },
   "outputs": [],
   "source": [
    "Min_Max_scaler = MinMaxScaler()\n",
    "\n",
    "## Pipeline for the applying scaling\n",
    "num_transformer_scale = Pipeline(steps=[('MinMax', Min_Max_scaler)])\n",
    "\n",
    "\n",
    "## The complete pipeline for applying the required transformatinons to the respective columns\n",
    "preprocessor_scale = ColumnTransformer(transformers=[('num', num_transformer_scale, num_vars),\n",
    "                                               ('cat', cat_transformer, cat_vars)])"
   ]
  },
  {
   "cell_type": "code",
   "execution_count": 38,
   "metadata": {
    "colab": {
     "base_uri": "https://localhost:8080/",
     "height": 312
    },
    "executionInfo": {
     "elapsed": 7848,
     "status": "ok",
     "timestamp": 1734024145997,
     "user": {
      "displayName": "ritik ranjan",
      "userId": "01659122567081095208"
     },
     "user_tz": -330
    },
    "id": "idIFk1jrmLY_",
    "outputId": "f94872e0-4c7d-4a02-b869-5cc9a06474e0"
   },
   "outputs": [
    {
     "data": {
      "text/html": [
       "Tracking run with wandb version 0.18.7"
      ],
      "text/plain": [
       "<IPython.core.display.HTML object>"
      ]
     },
     "metadata": {},
     "output_type": "display_data"
    },
    {
     "data": {
      "text/html": [
       "Run data is saved locally in <code>/content/wandb/run-20241212_172218-8ovzghna</code>"
      ],
      "text/plain": [
       "<IPython.core.display.HTML object>"
      ]
     },
     "metadata": {},
     "output_type": "display_data"
    },
    {
     "data": {
      "text/html": [
       "Syncing run <strong><a href='https://wandb.ai/ritikranjan-indian-school-of-business/mlops_restautant_revenue/runs/8ovzghna' target=\"_blank\">rare-dust-76</a></strong> to <a href='https://wandb.ai/ritikranjan-indian-school-of-business/mlops_restautant_revenue' target=\"_blank\">Weights & Biases</a> (<a href='https://wandb.me/developer-guide' target=\"_blank\">docs</a>)<br/>"
      ],
      "text/plain": [
       "<IPython.core.display.HTML object>"
      ]
     },
     "metadata": {},
     "output_type": "display_data"
    },
    {
     "data": {
      "text/html": [
       " View project at <a href='https://wandb.ai/ritikranjan-indian-school-of-business/mlops_restautant_revenue' target=\"_blank\">https://wandb.ai/ritikranjan-indian-school-of-business/mlops_restautant_revenue</a>"
      ],
      "text/plain": [
       "<IPython.core.display.HTML object>"
      ]
     },
     "metadata": {},
     "output_type": "display_data"
    },
    {
     "data": {
      "text/html": [
       " View run at <a href='https://wandb.ai/ritikranjan-indian-school-of-business/mlops_restautant_revenue/runs/8ovzghna' target=\"_blank\">https://wandb.ai/ritikranjan-indian-school-of-business/mlops_restautant_revenue/runs/8ovzghna</a>"
      ],
      "text/plain": [
       "<IPython.core.display.HTML object>"
      ]
     },
     "metadata": {},
     "output_type": "display_data"
    },
    {
     "data": {
      "text/html": [
       "\n",
       "    <style>\n",
       "        .wandb-row {\n",
       "            display: flex;\n",
       "            flex-direction: row;\n",
       "            flex-wrap: wrap;\n",
       "            justify-content: flex-start;\n",
       "            width: 100%;\n",
       "        }\n",
       "        .wandb-col {\n",
       "            display: flex;\n",
       "            flex-direction: column;\n",
       "            flex-basis: 100%;\n",
       "            flex: 1;\n",
       "            padding: 10px;\n",
       "        }\n",
       "    </style>\n",
       "<div class=\"wandb-row\"><div class=\"wandb-col\"><h3>Run history:</h3><br/><table class=\"wandb\"><tr><td>r2</td><td>▁</td></tr><tr><td>rmse</td><td>▁</td></tr></table><br/></div><div class=\"wandb-col\"><h3>Run summary:</h3><br/><table class=\"wandb\"><tr><td>r2</td><td>0.68405</td></tr><tr><td>rmse</td><td>57.56839</td></tr></table><br/></div></div>"
      ],
      "text/plain": [
       "<IPython.core.display.HTML object>"
      ]
     },
     "metadata": {},
     "output_type": "display_data"
    },
    {
     "data": {
      "text/html": [
       " View run <strong style=\"color:#cdcd00\">rare-dust-76</strong> at: <a href='https://wandb.ai/ritikranjan-indian-school-of-business/mlops_restautant_revenue/runs/8ovzghna' target=\"_blank\">https://wandb.ai/ritikranjan-indian-school-of-business/mlops_restautant_revenue/runs/8ovzghna</a><br/> View project at: <a href='https://wandb.ai/ritikranjan-indian-school-of-business/mlops_restautant_revenue' target=\"_blank\">https://wandb.ai/ritikranjan-indian-school-of-business/mlops_restautant_revenue</a><br/>Synced 5 W&B file(s), 0 media file(s), 0 artifact file(s) and 0 other file(s)"
      ],
      "text/plain": [
       "<IPython.core.display.HTML object>"
      ]
     },
     "metadata": {},
     "output_type": "display_data"
    },
    {
     "data": {
      "text/html": [
       "Find logs at: <code>./wandb/run-20241212_172218-8ovzghna/logs</code>"
      ],
      "text/plain": [
       "<IPython.core.display.HTML object>"
      ]
     },
     "metadata": {},
     "output_type": "display_data"
    }
   ],
   "source": [
    "# Define the Linear Regression model\n",
    "linear_reg = LinearRegression()\n",
    "\n",
    "# Create a pipeline that includes preprocessing and the Linear Regression model\n",
    "\n",
    "linear_model_Scaled = Pipeline(steps=[\n",
    "    ('preprocessor', preprocessor_scale),  # Apply preprocessing (e.g., scaling, encoding)\n",
    "    ('linear_model', linear_reg)     # Use Linear Regression as the model\n",
    "])\n",
    "\n",
    "# Train the pipeline on the training data\n",
    "\n",
    "linear_model_Scaled.fit(x_train, y_train)\n",
    "\n",
    "# Initialize Weights & Biases (W&B) to track the experiment\n",
    "\n",
    "wandb.init(project='mlops_restautant_revenue', config=None, tags=['Linear Model', 'MinMaxScaling', 'OHE Encoding'])\n",
    "\n",
    "# Name the run for easier identification in W&B\n",
    "wandb.run.name = \"LinearModel_MinMaxScaling\"\n",
    "\n",
    "# Evaluate the model on the test set\n",
    "# Calculate the Root Mean Squared Error (RMSE) on the test data\n",
    "rmse = np.sqrt(mean_squared_error(y_test, linear_model_Scaled.predict(x_test)))\n",
    "\n",
    "# Calculate the R-squared (R²) score on the test data\n",
    "r2 = linear_model_Scaled.score(x_test, y_test)\n",
    "\n",
    "# Log performance metrics to W&B\n",
    "wandb.log({\n",
    "    \"rmse\": rmse,  # Log RMSE as a key metric\n",
    "    \"r2\": r2       # Log R² as a key metric\n",
    "})\n",
    "\n",
    "#Save the pipeline as an artifact in W&B for versioning\n",
    "wandb.Artifact(\"LinearModel_MinMaxScaling\",  # Name of the artifact\n",
    "               type='model',   # Specify that this artifact is a model\n",
    "               description=None)\n",
    "\n",
    "# Save the artifact and finalize the W&B run\n",
    "wandb.save()  # Save all files related to the artifact\n",
    "wandb.finish()  # Mark the end of the W&B run"
   ]
  },
  {
   "cell_type": "markdown",
   "metadata": {
    "id": "bvD2ec9uiUQ_"
   },
   "source": [
    "### Decision tree with depth of 5"
   ]
  },
  {
   "cell_type": "code",
   "execution_count": null,
   "metadata": {
    "colab": {
     "base_uri": "https://localhost:8080/",
     "height": 313
    },
    "executionInfo": {
     "elapsed": 7667,
     "status": "ok",
     "timestamp": 1733947166316,
     "user": {
      "displayName": "ritik ranjan",
      "userId": "01659122567081095208"
     },
     "user_tz": -330
    },
    "id": "f22fzkFjiV4-",
    "outputId": "5a1c6d0c-7eae-4a8e-914e-ce3a0990188f"
   },
   "outputs": [
    {
     "data": {
      "text/html": [
       "Tracking run with wandb version 0.18.7"
      ],
      "text/plain": [
       "<IPython.core.display.HTML object>"
      ]
     },
     "metadata": {},
     "output_type": "display_data"
    },
    {
     "data": {
      "text/html": [
       "Run data is saved locally in <code>/content/wandb/run-20241211_195918-1fzw8spc</code>"
      ],
      "text/plain": [
       "<IPython.core.display.HTML object>"
      ]
     },
     "metadata": {},
     "output_type": "display_data"
    },
    {
     "data": {
      "text/html": [
       "Syncing run <strong><a href='https://wandb.ai/ritikranjan-indian-school-of-business/mlops_restautant_revenue/runs/1fzw8spc' target=\"_blank\">generous-cloud-51</a></strong> to <a href='https://wandb.ai/ritikranjan-indian-school-of-business/mlops_restautant_revenue' target=\"_blank\">Weights & Biases</a> (<a href='https://wandb.me/developer-guide' target=\"_blank\">docs</a>)<br/>"
      ],
      "text/plain": [
       "<IPython.core.display.HTML object>"
      ]
     },
     "metadata": {},
     "output_type": "display_data"
    },
    {
     "data": {
      "text/html": [
       " View project at <a href='https://wandb.ai/ritikranjan-indian-school-of-business/mlops_restautant_revenue' target=\"_blank\">https://wandb.ai/ritikranjan-indian-school-of-business/mlops_restautant_revenue</a>"
      ],
      "text/plain": [
       "<IPython.core.display.HTML object>"
      ]
     },
     "metadata": {},
     "output_type": "display_data"
    },
    {
     "data": {
      "text/html": [
       " View run at <a href='https://wandb.ai/ritikranjan-indian-school-of-business/mlops_restautant_revenue/runs/1fzw8spc' target=\"_blank\">https://wandb.ai/ritikranjan-indian-school-of-business/mlops_restautant_revenue/runs/1fzw8spc</a>"
      ],
      "text/plain": [
       "<IPython.core.display.HTML object>"
      ]
     },
     "metadata": {},
     "output_type": "display_data"
    },
    {
     "data": {
      "text/html": [
       "\n",
       "    <style>\n",
       "        .wandb-row {\n",
       "            display: flex;\n",
       "            flex-direction: row;\n",
       "            flex-wrap: wrap;\n",
       "            justify-content: flex-start;\n",
       "            width: 100%;\n",
       "        }\n",
       "        .wandb-col {\n",
       "            display: flex;\n",
       "            flex-direction: column;\n",
       "            flex-basis: 100%;\n",
       "            flex: 1;\n",
       "            padding: 10px;\n",
       "        }\n",
       "    </style>\n",
       "<div class=\"wandb-row\"><div class=\"wandb-col\"><h3>Run history:</h3><br/><table class=\"wandb\"><tr><td>r2</td><td>▁</td></tr><tr><td>rmse</td><td>▁</td></tr></table><br/></div><div class=\"wandb-col\"><h3>Run summary:</h3><br/><table class=\"wandb\"><tr><td>r2</td><td>0.56432</td></tr><tr><td>rmse</td><td>67.60233</td></tr></table><br/></div></div>"
      ],
      "text/plain": [
       "<IPython.core.display.HTML object>"
      ]
     },
     "metadata": {},
     "output_type": "display_data"
    },
    {
     "data": {
      "text/html": [
       " View run <strong style=\"color:#cdcd00\">generous-cloud-51</strong> at: <a href='https://wandb.ai/ritikranjan-indian-school-of-business/mlops_restautant_revenue/runs/1fzw8spc' target=\"_blank\">https://wandb.ai/ritikranjan-indian-school-of-business/mlops_restautant_revenue/runs/1fzw8spc</a><br/> View project at: <a href='https://wandb.ai/ritikranjan-indian-school-of-business/mlops_restautant_revenue' target=\"_blank\">https://wandb.ai/ritikranjan-indian-school-of-business/mlops_restautant_revenue</a><br/>Synced 5 W&B file(s), 0 media file(s), 0 artifact file(s) and 0 other file(s)"
      ],
      "text/plain": [
       "<IPython.core.display.HTML object>"
      ]
     },
     "metadata": {},
     "output_type": "display_data"
    },
    {
     "data": {
      "text/html": [
       "Find logs at: <code>./wandb/run-20241211_195918-1fzw8spc/logs</code>"
      ],
      "text/plain": [
       "<IPython.core.display.HTML object>"
      ]
     },
     "metadata": {},
     "output_type": "display_data"
    }
   ],
   "source": [
    "# Define the hyperparameters for the Decision Tree model\n",
    "\n",
    "params = {\"max_depth\": 5}\n",
    "\n",
    "# Initialize the Decision Tree Regressor with specified parameters\n",
    "dtree = DecisionTreeRegressor(**params)\n",
    "\n",
    "# Create a pipeline that includes preprocessing and the Decision Tree model\n",
    "\n",
    "dtree_model = Pipeline(steps=[\n",
    "    ('preprocessor', preprocessor),  # Apply preprocessing to the data\n",
    "    ('dt_model', dtree)              # Use Decision Tree as the model\n",
    "])\n",
    "\n",
    "# Train the pipeline on the training data\n",
    "dtree_model.fit(x_train, y_train)\n",
    "\n",
    "# Initialize Weights & Biases (W&B) for experiment tracking\n",
    "\n",
    "wandb.init(project='mlops_restautant_revenue', config=params,\n",
    "           tags=['Decision Tree', 'OHE Encoding'])  # Tags help organize experiments\n",
    "\n",
    "# Name the run for easier identification in W&B\n",
    "wandb.run.name = \"DecisionTree_depth5\"  # This run tracks the Decision Tree with max_depth=10\n",
    "\n",
    "# Evaluate the model on the test data\n",
    "# Calculate Root Mean Squared Error (RMSE) as a measure of prediction error\n",
    "rmse = np.sqrt(mean_squared_error(y_test, dtree_model.predict(x_test)))\n",
    "\n",
    "# Calculate R-squared (R²) score to measure the proportion of variance explained by the model\n",
    "r2 = dtree_model.score(x_test, y_test)\n",
    "\n",
    "# Log evaluation metrics to W&B\n",
    "# Metrics like RMSE and R² are logged for comparison across experiments\n",
    "wandb.log({\n",
    "    \"rmse\": rmse,  # Log the RMSE value\n",
    "    \"r2\": r2       # Log the R² score\n",
    "})\n",
    "\n",
    "# Save the pipeline as a W&B artifact for versioning\n",
    "wandb.Artifact(\"DecisionTree\",  # Name of the artifact\n",
    "               type='model',    # Specify the artifact type as 'model'\n",
    "               description=params)\n",
    "\n",
    "# Step 10: Save all files related to the artifact and finalize the run\n",
    "wandb.save()\n",
    "wandb.finish()\n"
   ]
  },
  {
   "cell_type": "markdown",
   "metadata": {
    "id": "hfik3cjOGero"
   },
   "source": [
    "### Decision tree with depth of 10"
   ]
  },
  {
   "cell_type": "code",
   "execution_count": null,
   "metadata": {
    "colab": {
     "base_uri": "https://localhost:8080/",
     "height": 313
    },
    "executionInfo": {
     "elapsed": 7336,
     "status": "ok",
     "timestamp": 1733947173576,
     "user": {
      "displayName": "ritik ranjan",
      "userId": "01659122567081095208"
     },
     "user_tz": -330
    },
    "id": "wH9_u3O0GX3T",
    "outputId": "10ba79b9-f8de-4039-8949-5ec355463f57"
   },
   "outputs": [
    {
     "data": {
      "text/html": [
       "Tracking run with wandb version 0.18.7"
      ],
      "text/plain": [
       "<IPython.core.display.HTML object>"
      ]
     },
     "metadata": {},
     "output_type": "display_data"
    },
    {
     "data": {
      "text/html": [
       "Run data is saved locally in <code>/content/wandb/run-20241211_195925-yhm4uvfn</code>"
      ],
      "text/plain": [
       "<IPython.core.display.HTML object>"
      ]
     },
     "metadata": {},
     "output_type": "display_data"
    },
    {
     "data": {
      "text/html": [
       "Syncing run <strong><a href='https://wandb.ai/ritikranjan-indian-school-of-business/mlops_restautant_revenue/runs/yhm4uvfn' target=\"_blank\">stoic-fire-52</a></strong> to <a href='https://wandb.ai/ritikranjan-indian-school-of-business/mlops_restautant_revenue' target=\"_blank\">Weights & Biases</a> (<a href='https://wandb.me/developer-guide' target=\"_blank\">docs</a>)<br/>"
      ],
      "text/plain": [
       "<IPython.core.display.HTML object>"
      ]
     },
     "metadata": {},
     "output_type": "display_data"
    },
    {
     "data": {
      "text/html": [
       " View project at <a href='https://wandb.ai/ritikranjan-indian-school-of-business/mlops_restautant_revenue' target=\"_blank\">https://wandb.ai/ritikranjan-indian-school-of-business/mlops_restautant_revenue</a>"
      ],
      "text/plain": [
       "<IPython.core.display.HTML object>"
      ]
     },
     "metadata": {},
     "output_type": "display_data"
    },
    {
     "data": {
      "text/html": [
       " View run at <a href='https://wandb.ai/ritikranjan-indian-school-of-business/mlops_restautant_revenue/runs/yhm4uvfn' target=\"_blank\">https://wandb.ai/ritikranjan-indian-school-of-business/mlops_restautant_revenue/runs/yhm4uvfn</a>"
      ],
      "text/plain": [
       "<IPython.core.display.HTML object>"
      ]
     },
     "metadata": {},
     "output_type": "display_data"
    },
    {
     "data": {
      "text/html": [
       "\n",
       "    <style>\n",
       "        .wandb-row {\n",
       "            display: flex;\n",
       "            flex-direction: row;\n",
       "            flex-wrap: wrap;\n",
       "            justify-content: flex-start;\n",
       "            width: 100%;\n",
       "        }\n",
       "        .wandb-col {\n",
       "            display: flex;\n",
       "            flex-direction: column;\n",
       "            flex-basis: 100%;\n",
       "            flex: 1;\n",
       "            padding: 10px;\n",
       "        }\n",
       "    </style>\n",
       "<div class=\"wandb-row\"><div class=\"wandb-col\"><h3>Run history:</h3><br/><table class=\"wandb\"><tr><td>r2</td><td>▁</td></tr><tr><td>rmse</td><td>▁</td></tr></table><br/></div><div class=\"wandb-col\"><h3>Run summary:</h3><br/><table class=\"wandb\"><tr><td>r2</td><td>0.37837</td></tr><tr><td>rmse</td><td>80.74998</td></tr></table><br/></div></div>"
      ],
      "text/plain": [
       "<IPython.core.display.HTML object>"
      ]
     },
     "metadata": {},
     "output_type": "display_data"
    },
    {
     "data": {
      "text/html": [
       " View run <strong style=\"color:#cdcd00\">stoic-fire-52</strong> at: <a href='https://wandb.ai/ritikranjan-indian-school-of-business/mlops_restautant_revenue/runs/yhm4uvfn' target=\"_blank\">https://wandb.ai/ritikranjan-indian-school-of-business/mlops_restautant_revenue/runs/yhm4uvfn</a><br/> View project at: <a href='https://wandb.ai/ritikranjan-indian-school-of-business/mlops_restautant_revenue' target=\"_blank\">https://wandb.ai/ritikranjan-indian-school-of-business/mlops_restautant_revenue</a><br/>Synced 5 W&B file(s), 0 media file(s), 0 artifact file(s) and 0 other file(s)"
      ],
      "text/plain": [
       "<IPython.core.display.HTML object>"
      ]
     },
     "metadata": {},
     "output_type": "display_data"
    },
    {
     "data": {
      "text/html": [
       "Find logs at: <code>./wandb/run-20241211_195925-yhm4uvfn/logs</code>"
      ],
      "text/plain": [
       "<IPython.core.display.HTML object>"
      ]
     },
     "metadata": {},
     "output_type": "display_data"
    }
   ],
   "source": [
    "# Define the hyperparameters for the Decision Tree model\n",
    "\n",
    "params = {\"max_depth\": 10}\n",
    "\n",
    "# Initialize the Decision Tree Regressor with specified parameters\n",
    "dtree = DecisionTreeRegressor(**params)\n",
    "\n",
    "# Create a pipeline that includes preprocessing and the Decision Tree model\n",
    "\n",
    "dtree_model = Pipeline(steps=[\n",
    "    ('preprocessor', preprocessor),  # Apply preprocessing to the data\n",
    "    ('dt_model', dtree)              # Use Decision Tree as the model\n",
    "])\n",
    "\n",
    "# Train the pipeline on the training data\n",
    "dtree_model.fit(x_train, y_train)\n",
    "\n",
    "# Initialize Weights & Biases (W&B) for experiment tracking\n",
    "\n",
    "wandb.init(project='mlops_restautant_revenue', config=params,\n",
    "           tags=['Decision Tree', 'OHE Encoding'])  # Tags help organize experiments\n",
    "\n",
    "# Name the run for easier identification in W&B\n",
    "wandb.run.name = \"DecisionTree_depth10\"  # This run tracks the Decision Tree with max_depth=10\n",
    "\n",
    "# Evaluate the model on the test data\n",
    "# Calculate Root Mean Squared Error (RMSE) as a measure of prediction error\n",
    "rmse = np.sqrt(mean_squared_error(y_test, dtree_model.predict(x_test)))\n",
    "\n",
    "# Calculate R-squared (R²) score to measure the proportion of variance explained by the model\n",
    "r2 = dtree_model.score(x_test, y_test)\n",
    "\n",
    "# Log evaluation metrics to W&B\n",
    "# Metrics like RMSE and R² are logged for comparison across experiments\n",
    "wandb.log({\n",
    "    \"rmse\": rmse,  # Log the RMSE value\n",
    "    \"r2\": r2       # Log the R² score\n",
    "})\n",
    "\n",
    "# Save the pipeline as a W&B artifact for versioning\n",
    "wandb.Artifact(\"DecisionTree\",  # Name of the artifact\n",
    "               type='model',    # Specify the artifact type as 'model'\n",
    "               description=params)\n",
    "\n",
    "# Step 10: Save all files related to the artifact and finalize the run\n",
    "wandb.save()\n",
    "wandb.finish()\n"
   ]
  },
  {
   "cell_type": "markdown",
   "metadata": {
    "id": "bh5VpNgUHV4Y"
   },
   "source": [
    "### Decision tree with depth of 15"
   ]
  },
  {
   "cell_type": "code",
   "execution_count": null,
   "metadata": {
    "colab": {
     "base_uri": "https://localhost:8080/",
     "height": 313
    },
    "executionInfo": {
     "elapsed": 7376,
     "status": "ok",
     "timestamp": 1733947180883,
     "user": {
      "displayName": "ritik ranjan",
      "userId": "01659122567081095208"
     },
     "user_tz": -330
    },
    "id": "-1-MOPJ6HJAU",
    "outputId": "6d880e5b-dd70-467b-84f0-e3009ec9c1f4"
   },
   "outputs": [
    {
     "data": {
      "text/html": [
       "Tracking run with wandb version 0.18.7"
      ],
      "text/plain": [
       "<IPython.core.display.HTML object>"
      ]
     },
     "metadata": {},
     "output_type": "display_data"
    },
    {
     "data": {
      "text/html": [
       "Run data is saved locally in <code>/content/wandb/run-20241211_195932-fb5b3gke</code>"
      ],
      "text/plain": [
       "<IPython.core.display.HTML object>"
      ]
     },
     "metadata": {},
     "output_type": "display_data"
    },
    {
     "data": {
      "text/html": [
       "Syncing run <strong><a href='https://wandb.ai/ritikranjan-indian-school-of-business/mlops_restautant_revenue/runs/fb5b3gke' target=\"_blank\">polar-darkness-53</a></strong> to <a href='https://wandb.ai/ritikranjan-indian-school-of-business/mlops_restautant_revenue' target=\"_blank\">Weights & Biases</a> (<a href='https://wandb.me/developer-guide' target=\"_blank\">docs</a>)<br/>"
      ],
      "text/plain": [
       "<IPython.core.display.HTML object>"
      ]
     },
     "metadata": {},
     "output_type": "display_data"
    },
    {
     "data": {
      "text/html": [
       " View project at <a href='https://wandb.ai/ritikranjan-indian-school-of-business/mlops_restautant_revenue' target=\"_blank\">https://wandb.ai/ritikranjan-indian-school-of-business/mlops_restautant_revenue</a>"
      ],
      "text/plain": [
       "<IPython.core.display.HTML object>"
      ]
     },
     "metadata": {},
     "output_type": "display_data"
    },
    {
     "data": {
      "text/html": [
       " View run at <a href='https://wandb.ai/ritikranjan-indian-school-of-business/mlops_restautant_revenue/runs/fb5b3gke' target=\"_blank\">https://wandb.ai/ritikranjan-indian-school-of-business/mlops_restautant_revenue/runs/fb5b3gke</a>"
      ],
      "text/plain": [
       "<IPython.core.display.HTML object>"
      ]
     },
     "metadata": {},
     "output_type": "display_data"
    },
    {
     "data": {
      "text/html": [
       "\n",
       "    <style>\n",
       "        .wandb-row {\n",
       "            display: flex;\n",
       "            flex-direction: row;\n",
       "            flex-wrap: wrap;\n",
       "            justify-content: flex-start;\n",
       "            width: 100%;\n",
       "        }\n",
       "        .wandb-col {\n",
       "            display: flex;\n",
       "            flex-direction: column;\n",
       "            flex-basis: 100%;\n",
       "            flex: 1;\n",
       "            padding: 10px;\n",
       "        }\n",
       "    </style>\n",
       "<div class=\"wandb-row\"><div class=\"wandb-col\"><h3>Run history:</h3><br/><table class=\"wandb\"><tr><td>r2</td><td>▁</td></tr><tr><td>rmse</td><td>▁</td></tr></table><br/></div><div class=\"wandb-col\"><h3>Run summary:</h3><br/><table class=\"wandb\"><tr><td>r2</td><td>0.34231</td></tr><tr><td>rmse</td><td>83.05905</td></tr></table><br/></div></div>"
      ],
      "text/plain": [
       "<IPython.core.display.HTML object>"
      ]
     },
     "metadata": {},
     "output_type": "display_data"
    },
    {
     "data": {
      "text/html": [
       " View run <strong style=\"color:#cdcd00\">polar-darkness-53</strong> at: <a href='https://wandb.ai/ritikranjan-indian-school-of-business/mlops_restautant_revenue/runs/fb5b3gke' target=\"_blank\">https://wandb.ai/ritikranjan-indian-school-of-business/mlops_restautant_revenue/runs/fb5b3gke</a><br/> View project at: <a href='https://wandb.ai/ritikranjan-indian-school-of-business/mlops_restautant_revenue' target=\"_blank\">https://wandb.ai/ritikranjan-indian-school-of-business/mlops_restautant_revenue</a><br/>Synced 5 W&B file(s), 0 media file(s), 0 artifact file(s) and 0 other file(s)"
      ],
      "text/plain": [
       "<IPython.core.display.HTML object>"
      ]
     },
     "metadata": {},
     "output_type": "display_data"
    },
    {
     "data": {
      "text/html": [
       "Find logs at: <code>./wandb/run-20241211_195932-fb5b3gke/logs</code>"
      ],
      "text/plain": [
       "<IPython.core.display.HTML object>"
      ]
     },
     "metadata": {},
     "output_type": "display_data"
    }
   ],
   "source": [
    "# Define the hyperparameters for the Decision Tree model\n",
    "\n",
    "params = {\"max_depth\": 15}\n",
    "\n",
    "# Initialize the Decision Tree Regressor with specified parameters\n",
    "dtree = DecisionTreeRegressor(**params)\n",
    "\n",
    "# Create a pipeline that includes preprocessing and the Decision Tree model\n",
    "\n",
    "dtree_model = Pipeline(steps=[\n",
    "    ('preprocessor', preprocessor),  # Apply preprocessing to the data\n",
    "    ('dt_model', dtree)              # Use Decision Tree as the model\n",
    "])\n",
    "\n",
    "# Train the pipeline on the training data\n",
    "dtree_model.fit(x_train, y_train)\n",
    "\n",
    "# Initialize Weights & Biases (W&B) for experiment tracking\n",
    "\n",
    "wandb.init(project='mlops_restautant_revenue', config=params,\n",
    "           tags=['Decision Tree', 'OHE Encoding'])  # Tags help organize experiments\n",
    "\n",
    "# Name the run for easier identification in W&B\n",
    "wandb.run.name = \"DecisionTree_depth15\"  # This run tracks the Decision Tree with max_depth=10\n",
    "\n",
    "# Evaluate the model on the test data\n",
    "# Calculate Root Mean Squared Error (RMSE) as a measure of prediction error\n",
    "rmse = np.sqrt(mean_squared_error(y_test, dtree_model.predict(x_test)))\n",
    "\n",
    "# Calculate R-squared (R²) score to measure the proportion of variance explained by the model\n",
    "r2 = dtree_model.score(x_test, y_test)\n",
    "\n",
    "# Log evaluation metrics to W&B\n",
    "# Metrics like RMSE and R² are logged for comparison across experiments\n",
    "wandb.log({\n",
    "    \"rmse\": rmse,  # Log the RMSE value\n",
    "    \"r2\": r2       # Log the R² score\n",
    "})\n",
    "\n",
    "# Save the pipeline as a W&B artifact for versioning\n",
    "wandb.Artifact(\"DecisionTree\",  # Name of the artifact\n",
    "               type='model',    # Specify the artifact type as 'model'\n",
    "               description=params)\n",
    "\n",
    "# Step 10: Save all files related to the artifact and finalize the run\n",
    "wandb.save()\n",
    "wandb.finish()\n"
   ]
  },
  {
   "cell_type": "markdown",
   "metadata": {
    "id": "5NQ-rYQHhuBg"
   },
   "source": [
    "### Decision tree with depth of 25"
   ]
  },
  {
   "cell_type": "code",
   "execution_count": null,
   "metadata": {
    "colab": {
     "base_uri": "https://localhost:8080/",
     "height": 313
    },
    "executionInfo": {
     "elapsed": 7407,
     "status": "ok",
     "timestamp": 1733947188212,
     "user": {
      "displayName": "ritik ranjan",
      "userId": "01659122567081095208"
     },
     "user_tz": -330
    },
    "id": "FieTOl3lhwdo",
    "outputId": "5dd2c107-b4e5-4514-e2dc-93f431034195"
   },
   "outputs": [
    {
     "data": {
      "text/html": [
       "Tracking run with wandb version 0.18.7"
      ],
      "text/plain": [
       "<IPython.core.display.HTML object>"
      ]
     },
     "metadata": {},
     "output_type": "display_data"
    },
    {
     "data": {
      "text/html": [
       "Run data is saved locally in <code>/content/wandb/run-20241211_195940-mbz3nevs</code>"
      ],
      "text/plain": [
       "<IPython.core.display.HTML object>"
      ]
     },
     "metadata": {},
     "output_type": "display_data"
    },
    {
     "data": {
      "text/html": [
       "Syncing run <strong><a href='https://wandb.ai/ritikranjan-indian-school-of-business/mlops_restautant_revenue/runs/mbz3nevs' target=\"_blank\">polar-field-54</a></strong> to <a href='https://wandb.ai/ritikranjan-indian-school-of-business/mlops_restautant_revenue' target=\"_blank\">Weights & Biases</a> (<a href='https://wandb.me/developer-guide' target=\"_blank\">docs</a>)<br/>"
      ],
      "text/plain": [
       "<IPython.core.display.HTML object>"
      ]
     },
     "metadata": {},
     "output_type": "display_data"
    },
    {
     "data": {
      "text/html": [
       " View project at <a href='https://wandb.ai/ritikranjan-indian-school-of-business/mlops_restautant_revenue' target=\"_blank\">https://wandb.ai/ritikranjan-indian-school-of-business/mlops_restautant_revenue</a>"
      ],
      "text/plain": [
       "<IPython.core.display.HTML object>"
      ]
     },
     "metadata": {},
     "output_type": "display_data"
    },
    {
     "data": {
      "text/html": [
       " View run at <a href='https://wandb.ai/ritikranjan-indian-school-of-business/mlops_restautant_revenue/runs/mbz3nevs' target=\"_blank\">https://wandb.ai/ritikranjan-indian-school-of-business/mlops_restautant_revenue/runs/mbz3nevs</a>"
      ],
      "text/plain": [
       "<IPython.core.display.HTML object>"
      ]
     },
     "metadata": {},
     "output_type": "display_data"
    },
    {
     "data": {
      "text/html": [
       "\n",
       "    <style>\n",
       "        .wandb-row {\n",
       "            display: flex;\n",
       "            flex-direction: row;\n",
       "            flex-wrap: wrap;\n",
       "            justify-content: flex-start;\n",
       "            width: 100%;\n",
       "        }\n",
       "        .wandb-col {\n",
       "            display: flex;\n",
       "            flex-direction: column;\n",
       "            flex-basis: 100%;\n",
       "            flex: 1;\n",
       "            padding: 10px;\n",
       "        }\n",
       "    </style>\n",
       "<div class=\"wandb-row\"><div class=\"wandb-col\"><h3>Run history:</h3><br/><table class=\"wandb\"><tr><td>r2</td><td>▁</td></tr><tr><td>rmse</td><td>▁</td></tr></table><br/></div><div class=\"wandb-col\"><h3>Run summary:</h3><br/><table class=\"wandb\"><tr><td>r2</td><td>0.33978</td></tr><tr><td>rmse</td><td>83.21893</td></tr></table><br/></div></div>"
      ],
      "text/plain": [
       "<IPython.core.display.HTML object>"
      ]
     },
     "metadata": {},
     "output_type": "display_data"
    },
    {
     "data": {
      "text/html": [
       " View run <strong style=\"color:#cdcd00\">polar-field-54</strong> at: <a href='https://wandb.ai/ritikranjan-indian-school-of-business/mlops_restautant_revenue/runs/mbz3nevs' target=\"_blank\">https://wandb.ai/ritikranjan-indian-school-of-business/mlops_restautant_revenue/runs/mbz3nevs</a><br/> View project at: <a href='https://wandb.ai/ritikranjan-indian-school-of-business/mlops_restautant_revenue' target=\"_blank\">https://wandb.ai/ritikranjan-indian-school-of-business/mlops_restautant_revenue</a><br/>Synced 5 W&B file(s), 0 media file(s), 0 artifact file(s) and 0 other file(s)"
      ],
      "text/plain": [
       "<IPython.core.display.HTML object>"
      ]
     },
     "metadata": {},
     "output_type": "display_data"
    },
    {
     "data": {
      "text/html": [
       "Find logs at: <code>./wandb/run-20241211_195940-mbz3nevs/logs</code>"
      ],
      "text/plain": [
       "<IPython.core.display.HTML object>"
      ]
     },
     "metadata": {},
     "output_type": "display_data"
    }
   ],
   "source": [
    "# Define the hyperparameters for the Decision Tree model\n",
    "\n",
    "params = {\"max_depth\": 25}\n",
    "\n",
    "# Initialize the Decision Tree Regressor with specified parameters\n",
    "dtree = DecisionTreeRegressor(**params)\n",
    "\n",
    "# Create a pipeline that includes preprocessing and the Decision Tree model\n",
    "\n",
    "dtree_model = Pipeline(steps=[\n",
    "    ('preprocessor', preprocessor),  # Apply preprocessing to the data\n",
    "    ('dt_model', dtree)              # Use Decision Tree as the model\n",
    "])\n",
    "\n",
    "# Train the pipeline on the training data\n",
    "dtree_model.fit(x_train, y_train)\n",
    "\n",
    "# Initialize Weights & Biases (W&B) for experiment tracking\n",
    "\n",
    "wandb.init(project='mlops_restautant_revenue', config=params,\n",
    "           tags=['Decision Tree', 'OHE Encoding'])  # Tags help organize experiments\n",
    "\n",
    "# Name the run for easier identification in W&B\n",
    "wandb.run.name = \"DecisionTree_depth25\"  # This run tracks the Decision Tree with max_depth=10\n",
    "\n",
    "# Evaluate the model on the test data\n",
    "# Calculate Root Mean Squared Error (RMSE) as a measure of prediction error\n",
    "rmse = np.sqrt(mean_squared_error(y_test, dtree_model.predict(x_test)))\n",
    "\n",
    "# Calculate R-squared (R²) score to measure the proportion of variance explained by the model\n",
    "r2 = dtree_model.score(x_test, y_test)\n",
    "\n",
    "# Log evaluation metrics to W&B\n",
    "# Metrics like RMSE and R² are logged for comparison across experiments\n",
    "wandb.log({\n",
    "    \"rmse\": rmse,  # Log the RMSE value\n",
    "    \"r2\": r2       # Log the R² score\n",
    "})\n",
    "\n",
    "# Save the pipeline as a W&B artifact for versioning\n",
    "wandb.Artifact(\"DecisionTree\",  # Name of the artifact\n",
    "               type='model',    # Specify the artifact type as 'model'\n",
    "               description=params)\n",
    "\n",
    "# Step 10: Save all files related to the artifact and finalize the run\n",
    "wandb.save()\n",
    "wandb.finish()"
   ]
  },
  {
   "cell_type": "markdown",
   "metadata": {
    "id": "_oR3Tv0IfXkg"
   },
   "source": [
    "### Checking the K-fold cross validation for the Linear Model"
   ]
  },
  {
   "cell_type": "markdown",
   "metadata": {
    "id": "CjvkHObBjUcn"
   },
   "source": [
    "* Out of all the experiements done, linear model is giving high r^2 and low rmse values\n",
    "* Checking K-fold validation for the linear model with Standard Scaling"
   ]
  },
  {
   "cell_type": "code",
   "execution_count": null,
   "metadata": {
    "colab": {
     "base_uri": "https://localhost:8080/",
     "height": 313
    },
    "executionInfo": {
     "elapsed": 9004,
     "status": "ok",
     "timestamp": 1733947292776,
     "user": {
      "displayName": "ritik ranjan",
      "userId": "01659122567081095208"
     },
     "user_tz": -330
    },
    "id": "iSMdKLxTF5U7",
    "outputId": "3b0cfa70-806c-4f48-8725-6e173e752ca3"
   },
   "outputs": [
    {
     "data": {
      "text/html": [
       "Tracking run with wandb version 0.18.7"
      ],
      "text/plain": [
       "<IPython.core.display.HTML object>"
      ]
     },
     "metadata": {},
     "output_type": "display_data"
    },
    {
     "data": {
      "text/html": [
       "Run data is saved locally in <code>/content/wandb/run-20241211_200123-qpdwyfh8</code>"
      ],
      "text/plain": [
       "<IPython.core.display.HTML object>"
      ]
     },
     "metadata": {},
     "output_type": "display_data"
    },
    {
     "data": {
      "text/html": [
       "Syncing run <strong><a href='https://wandb.ai/ritikranjan-indian-school-of-business/mlops_restautant_revenue/runs/qpdwyfh8' target=\"_blank\">dutiful-firefly-57</a></strong> to <a href='https://wandb.ai/ritikranjan-indian-school-of-business/mlops_restautant_revenue' target=\"_blank\">Weights & Biases</a> (<a href='https://wandb.me/developer-guide' target=\"_blank\">docs</a>)<br/>"
      ],
      "text/plain": [
       "<IPython.core.display.HTML object>"
      ]
     },
     "metadata": {},
     "output_type": "display_data"
    },
    {
     "data": {
      "text/html": [
       " View project at <a href='https://wandb.ai/ritikranjan-indian-school-of-business/mlops_restautant_revenue' target=\"_blank\">https://wandb.ai/ritikranjan-indian-school-of-business/mlops_restautant_revenue</a>"
      ],
      "text/plain": [
       "<IPython.core.display.HTML object>"
      ]
     },
     "metadata": {},
     "output_type": "display_data"
    },
    {
     "data": {
      "text/html": [
       " View run at <a href='https://wandb.ai/ritikranjan-indian-school-of-business/mlops_restautant_revenue/runs/qpdwyfh8' target=\"_blank\">https://wandb.ai/ritikranjan-indian-school-of-business/mlops_restautant_revenue/runs/qpdwyfh8</a>"
      ],
      "text/plain": [
       "<IPython.core.display.HTML object>"
      ]
     },
     "metadata": {},
     "output_type": "display_data"
    },
    {
     "data": {
      "text/html": [
       "\n",
       "    <style>\n",
       "        .wandb-row {\n",
       "            display: flex;\n",
       "            flex-direction: row;\n",
       "            flex-wrap: wrap;\n",
       "            justify-content: flex-start;\n",
       "            width: 100%;\n",
       "        }\n",
       "        .wandb-col {\n",
       "            display: flex;\n",
       "            flex-direction: column;\n",
       "            flex-basis: 100%;\n",
       "            flex: 1;\n",
       "            padding: 10px;\n",
       "        }\n",
       "    </style>\n",
       "<div class=\"wandb-row\"><div class=\"wandb-col\"><h3>Run history:</h3><br/><table class=\"wandb\"><tr><td>cv5_mean_r2</td><td>▁</td></tr><tr><td>cv5_mean_rmse</td><td>▁</td></tr></table><br/></div><div class=\"wandb-col\"><h3>Run summary:</h3><br/><table class=\"wandb\"><tr><td>cv5_mean_r2</td><td>0.69037</td></tr><tr><td>cv5_mean_rmse</td><td>58.47569</td></tr></table><br/></div></div>"
      ],
      "text/plain": [
       "<IPython.core.display.HTML object>"
      ]
     },
     "metadata": {},
     "output_type": "display_data"
    },
    {
     "data": {
      "text/html": [
       " View run <strong style=\"color:#cdcd00\">dutiful-firefly-57</strong> at: <a href='https://wandb.ai/ritikranjan-indian-school-of-business/mlops_restautant_revenue/runs/qpdwyfh8' target=\"_blank\">https://wandb.ai/ritikranjan-indian-school-of-business/mlops_restautant_revenue/runs/qpdwyfh8</a><br/> View project at: <a href='https://wandb.ai/ritikranjan-indian-school-of-business/mlops_restautant_revenue' target=\"_blank\">https://wandb.ai/ritikranjan-indian-school-of-business/mlops_restautant_revenue</a><br/>Synced 5 W&B file(s), 0 media file(s), 0 artifact file(s) and 0 other file(s)"
      ],
      "text/plain": [
       "<IPython.core.display.HTML object>"
      ]
     },
     "metadata": {},
     "output_type": "display_data"
    },
    {
     "data": {
      "text/html": [
       "Find logs at: <code>./wandb/run-20241211_200123-qpdwyfh8/logs</code>"
      ],
      "text/plain": [
       "<IPython.core.display.HTML object>"
      ]
     },
     "metadata": {},
     "output_type": "display_data"
    }
   ],
   "source": [
    "linear_reg = LinearRegression()\n",
    "\n",
    "linear_model_cv = Pipeline(steps=[('preprocessor', preprocessor),\n",
    "                               ('linear_model', linear_reg)])\n",
    "\n",
    "# Step 2: Perform 5-fold cross-validation\n",
    "cv5_results = cross_validate(\n",
    "    linear_model_cv,\n",
    "    x_train, y_train,\n",
    "    scoring=['neg_mean_squared_error', 'r2'],\n",
    "    cv=5,\n",
    "    return_train_score=True\n",
    ")\n",
    "\n",
    "# Compute the r2 and rmse for cross validation 5\n",
    "cv5_mean_rmse = np.sqrt(-np.mean(cv5_results['test_neg_mean_squared_error']))\n",
    "cv5_mean_r2 = np.mean(cv5_results['test_r2'])\n",
    "\n",
    "wandb.init(project='mlops_restautant_revenue', config=None, tags=['Linear Model', 'cross-validation', 'OHE Encoding'])\n",
    "wandb.run.name = \"Cross_Validation_5\"\n",
    "\n",
    "wandb.log( {\n",
    "            \"cv5_mean_rmse\": cv5_mean_rmse,\n",
    "            \"cv5_mean_r2\": cv5_mean_r2,\n",
    "            } )\n",
    "\n",
    "wandb.Artifact(\"Cross_Validation_5\",\n",
    "               type = 'model',\n",
    "               description = None)\n",
    "\n",
    "wandb.save()\n",
    "wandb.finish()"
   ]
  },
  {
   "cell_type": "markdown",
   "metadata": {
    "id": "6i83WX_lkD_S"
   },
   "source": [
    "* Similar performance across the folds, indicating the model generalizes well during cross-validation."
   ]
  },
  {
   "cell_type": "markdown",
   "metadata": {
    "id": "eo8NdTHO4qnC"
   },
   "source": [
    "### Storing the model into a file"
   ]
  },
  {
   "cell_type": "code",
   "execution_count": null,
   "metadata": {
    "colab": {
     "base_uri": "https://localhost:8080/"
    },
    "executionInfo": {
     "elapsed": 367,
     "status": "ok",
     "timestamp": 1733948168865,
     "user": {
      "displayName": "ritik ranjan",
      "userId": "01659122567081095208"
     },
     "user_tz": -330
    },
    "id": "gePNNM9N4oxI",
    "outputId": "37d2607e-3e9e-4c5c-eebe-372093068ce3"
   },
   "outputs": [
    {
     "data": {
      "text/plain": [
       "['./restaurantmodela/restaurantrevenue.pkl']"
      ]
     },
     "execution_count": 46,
     "metadata": {},
     "output_type": "execute_result"
    }
   ],
   "source": [
    "from joblib import dump\n",
    "\n",
    "MODEL_DIR = \"./restaurantmodela\"\n",
    "\n",
    "os.mkdir(MODEL_DIR)\n",
    "dump(linear_model, MODEL_DIR + \"/\" + 'restaurantrevenue.pkl')"
   ]
  },
  {
   "cell_type": "markdown",
   "metadata": {
    "id": "QX1v48Kx5-VN"
   },
   "source": [
    "### Logging the model artifact in the tracking tools (weights and Biases)"
   ]
  },
  {
   "cell_type": "code",
   "execution_count": null,
   "metadata": {
    "colab": {
     "base_uri": "https://localhost:8080/",
     "height": 104
    },
    "executionInfo": {
     "elapsed": 7128,
     "status": "ok",
     "timestamp": 1733948180323,
     "user": {
      "displayName": "ritik ranjan",
      "userId": "01659122567081095208"
     },
     "user_tz": -330
    },
    "id": "qrJlTOiD0SmG",
    "outputId": "1c4a1430-66c1-4b95-9f8b-8fcbf0593be8"
   },
   "outputs": [
    {
     "data": {
      "text/html": [
       "Tracking run with wandb version 0.18.7"
      ],
      "text/plain": [
       "<IPython.core.display.HTML object>"
      ]
     },
     "metadata": {},
     "output_type": "display_data"
    },
    {
     "data": {
      "text/html": [
       "Run data is saved locally in <code>/content/wandb/run-20241211_201613-5b5v1j4w</code>"
      ],
      "text/plain": [
       "<IPython.core.display.HTML object>"
      ]
     },
     "metadata": {},
     "output_type": "display_data"
    },
    {
     "data": {
      "text/html": [
       "Syncing run <strong><a href='https://wandb.ai/ritikranjan-indian-school-of-business/mlops_restautant_revenue/runs/5b5v1j4w' target=\"_blank\">noble-river-66</a></strong> to <a href='https://wandb.ai/ritikranjan-indian-school-of-business/mlops_restautant_revenue' target=\"_blank\">Weights & Biases</a> (<a href='https://wandb.me/developer-guide' target=\"_blank\">docs</a>)<br/>"
      ],
      "text/plain": [
       "<IPython.core.display.HTML object>"
      ]
     },
     "metadata": {},
     "output_type": "display_data"
    },
    {
     "data": {
      "text/html": [
       " View project at <a href='https://wandb.ai/ritikranjan-indian-school-of-business/mlops_restautant_revenue' target=\"_blank\">https://wandb.ai/ritikranjan-indian-school-of-business/mlops_restautant_revenue</a>"
      ],
      "text/plain": [
       "<IPython.core.display.HTML object>"
      ]
     },
     "metadata": {},
     "output_type": "display_data"
    },
    {
     "data": {
      "text/html": [
       " View run at <a href='https://wandb.ai/ritikranjan-indian-school-of-business/mlops_restautant_revenue/runs/5b5v1j4w' target=\"_blank\">https://wandb.ai/ritikranjan-indian-school-of-business/mlops_restautant_revenue/runs/5b5v1j4w</a>"
      ],
      "text/plain": [
       "<IPython.core.display.HTML object>"
      ]
     },
     "metadata": {},
     "output_type": "display_data"
    }
   ],
   "source": [
    "# Initialize a new W&B run to track the experiment\n",
    "wandb.init(project='mlops_restautant_revenue',\n",
    "           config=None,\n",
    "           tags = ['Final Model'])\n",
    "wandb.run.name = \"FinalModel\""
   ]
  },
  {
   "cell_type": "code",
   "execution_count": null,
   "metadata": {
    "colab": {
     "base_uri": "https://localhost:8080/",
     "height": 104
    },
    "executionInfo": {
     "elapsed": 2382,
     "status": "ok",
     "timestamp": 1733948231849,
     "user": {
      "displayName": "ritik ranjan",
      "userId": "01659122567081095208"
     },
     "user_tz": -330
    },
    "id": "U066M_F96X6v",
    "outputId": "5809374e-921c-436f-8968-02da161b26fe"
   },
   "outputs": [
    {
     "name": "stderr",
     "output_type": "stream",
     "text": [
      "\u001b[34m\u001b[1mwandb\u001b[0m: Adding directory to artifact (./restaurantmodela)... Done. 0.0s\n"
     ]
    },
    {
     "data": {
      "text/html": [
       " View run <strong style=\"color:#cdcd00\">noble-river-66</strong> at: <a href='https://wandb.ai/ritikranjan-indian-school-of-business/mlops_restautant_revenue/runs/5b5v1j4w' target=\"_blank\">https://wandb.ai/ritikranjan-indian-school-of-business/mlops_restautant_revenue/runs/5b5v1j4w</a><br/> View project at: <a href='https://wandb.ai/ritikranjan-indian-school-of-business/mlops_restautant_revenue' target=\"_blank\">https://wandb.ai/ritikranjan-indian-school-of-business/mlops_restautant_revenue</a><br/>Synced 5 W&B file(s), 0 media file(s), 2 artifact file(s) and 0 other file(s)"
      ],
      "text/plain": [
       "<IPython.core.display.HTML object>"
      ]
     },
     "metadata": {},
     "output_type": "display_data"
    },
    {
     "data": {
      "text/html": [
       "Find logs at: <code>./wandb/run-20241211_201613-5b5v1j4w/logs</code>"
      ],
      "text/plain": [
       "<IPython.core.display.HTML object>"
      ]
     },
     "metadata": {},
     "output_type": "display_data"
    }
   ],
   "source": [
    "# Create a new artifact in W&B to store the model\n",
    "model_artifact = wandb.Artifact(\"Linear_Model_restaurantrevenue\",\n",
    "                                type = 'model',\n",
    "                                description = 'Linear Model for used restaurant revenue prediction')\n",
    "# Add the model directory to the artifact\n",
    "model_artifact.add_dir(MODEL_DIR)\n",
    "\n",
    "# Log the artifact to Weights & Biases\n",
    "wandb.log_artifact(model_artifact)\n",
    "wandb.save()\n",
    "wandb.finish()"
   ]
  }
 ],
 "metadata": {
  "colab": {
   "authorship_tag": "ABX9TyNBv9pHaMuKi19K+3g4i8r2",
   "provenance": []
  },
  "kernelspec": {
   "display_name": "Python 3 (ipykernel)",
   "language": "python",
   "name": "python3"
  },
  "language_info": {
   "codemirror_mode": {
    "name": "ipython",
    "version": 3
   },
   "file_extension": ".py",
   "mimetype": "text/x-python",
   "name": "python",
   "nbconvert_exporter": "python",
   "pygments_lexer": "ipython3",
   "version": "3.11.7"
  },
  "widgets": {
   "application/vnd.jupyter.widget-state+json": {
    "0342bd9f249c463886bbea95928af041": {
     "model_module": "@jupyter-widgets/base",
     "model_module_version": "1.2.0",
     "model_name": "LayoutModel",
     "state": {
      "_model_module": "@jupyter-widgets/base",
      "_model_module_version": "1.2.0",
      "_model_name": "LayoutModel",
      "_view_count": null,
      "_view_module": "@jupyter-widgets/base",
      "_view_module_version": "1.2.0",
      "_view_name": "LayoutView",
      "align_content": null,
      "align_items": null,
      "align_self": null,
      "border": null,
      "bottom": null,
      "display": null,
      "flex": null,
      "flex_flow": null,
      "grid_area": null,
      "grid_auto_columns": null,
      "grid_auto_flow": null,
      "grid_auto_rows": null,
      "grid_column": null,
      "grid_gap": null,
      "grid_row": null,
      "grid_template_areas": null,
      "grid_template_columns": null,
      "grid_template_rows": null,
      "height": null,
      "justify_content": null,
      "justify_items": null,
      "left": null,
      "margin": null,
      "max_height": null,
      "max_width": null,
      "min_height": null,
      "min_width": null,
      "object_fit": null,
      "object_position": null,
      "order": null,
      "overflow": null,
      "overflow_x": null,
      "overflow_y": null,
      "padding": null,
      "right": null,
      "top": null,
      "visibility": null,
      "width": null
     }
    },
    "0edff34939304c21b9c51a30dfe97c64": {
     "model_module": "@jupyter-widgets/base",
     "model_module_version": "1.2.0",
     "model_name": "LayoutModel",
     "state": {
      "_model_module": "@jupyter-widgets/base",
      "_model_module_version": "1.2.0",
      "_model_name": "LayoutModel",
      "_view_count": null,
      "_view_module": "@jupyter-widgets/base",
      "_view_module_version": "1.2.0",
      "_view_name": "LayoutView",
      "align_content": null,
      "align_items": null,
      "align_self": null,
      "border": null,
      "bottom": null,
      "display": null,
      "flex": null,
      "flex_flow": null,
      "grid_area": null,
      "grid_auto_columns": null,
      "grid_auto_flow": null,
      "grid_auto_rows": null,
      "grid_column": null,
      "grid_gap": null,
      "grid_row": null,
      "grid_template_areas": null,
      "grid_template_columns": null,
      "grid_template_rows": null,
      "height": null,
      "justify_content": null,
      "justify_items": null,
      "left": null,
      "margin": null,
      "max_height": null,
      "max_width": null,
      "min_height": null,
      "min_width": null,
      "object_fit": null,
      "object_position": null,
      "order": null,
      "overflow": null,
      "overflow_x": null,
      "overflow_y": null,
      "padding": null,
      "right": null,
      "top": null,
      "visibility": null,
      "width": null
     }
    },
    "11a530d8dba84de388cd209bea6f3ed0": {
     "model_module": "@jupyter-widgets/controls",
     "model_module_version": "1.5.0",
     "model_name": "HTMLModel",
     "state": {
      "_dom_classes": [],
      "_model_module": "@jupyter-widgets/controls",
      "_model_module_version": "1.5.0",
      "_model_name": "HTMLModel",
      "_view_count": null,
      "_view_module": "@jupyter-widgets/controls",
      "_view_module_version": "1.5.0",
      "_view_name": "HTMLView",
      "description": "",
      "description_tooltip": null,
      "layout": "IPY_MODEL_ca0fc77495f442fa888f54b781f735de",
      "placeholder": "​",
      "style": "IPY_MODEL_3554df53ab8643b2b09ca2417934ff1c",
      "value": "Summarize dataset: 100%"
     }
    },
    "11cc5c262c1c4acf965faf817cb2e953": {
     "model_module": "@jupyter-widgets/controls",
     "model_module_version": "1.5.0",
     "model_name": "FloatProgressModel",
     "state": {
      "_dom_classes": [],
      "_model_module": "@jupyter-widgets/controls",
      "_model_module_version": "1.5.0",
      "_model_name": "FloatProgressModel",
      "_view_count": null,
      "_view_module": "@jupyter-widgets/controls",
      "_view_module_version": "1.5.0",
      "_view_name": "ProgressView",
      "bar_style": "success",
      "description": "",
      "description_tooltip": null,
      "layout": "IPY_MODEL_eab067f9087344b7ba01631b791488e6",
      "max": 1,
      "min": 0,
      "orientation": "horizontal",
      "style": "IPY_MODEL_e15aff5aa6ae486dad1f9c9455f9ddb9",
      "value": 1
     }
    },
    "12fea60eb4a34b30ae3f9a8ce7697248": {
     "model_module": "@jupyter-widgets/controls",
     "model_module_version": "1.5.0",
     "model_name": "FloatProgressModel",
     "state": {
      "_dom_classes": [],
      "_model_module": "@jupyter-widgets/controls",
      "_model_module_version": "1.5.0",
      "_model_name": "FloatProgressModel",
      "_view_count": null,
      "_view_module": "@jupyter-widgets/controls",
      "_view_module_version": "1.5.0",
      "_view_name": "ProgressView",
      "bar_style": "success",
      "description": "",
      "description_tooltip": null,
      "layout": "IPY_MODEL_a88bebeadff447579eaf67189d415f03",
      "max": 1,
      "min": 0,
      "orientation": "horizontal",
      "style": "IPY_MODEL_ad383d71f4d64536826f1f3d68707e8e",
      "value": 1
     }
    },
    "190e3317ddb741e79fb3a48db0b9d0e5": {
     "model_module": "@jupyter-widgets/controls",
     "model_module_version": "1.5.0",
     "model_name": "HBoxModel",
     "state": {
      "_dom_classes": [],
      "_model_module": "@jupyter-widgets/controls",
      "_model_module_version": "1.5.0",
      "_model_name": "HBoxModel",
      "_view_count": null,
      "_view_module": "@jupyter-widgets/controls",
      "_view_module_version": "1.5.0",
      "_view_name": "HBoxView",
      "box_style": "",
      "children": [
       "IPY_MODEL_66bf0b1b515e4e56ba41729739384136",
       "IPY_MODEL_12fea60eb4a34b30ae3f9a8ce7697248",
       "IPY_MODEL_be94a42d760c4e78b195f5b9142a6717"
      ],
      "layout": "IPY_MODEL_b3282ef41c0344cfbac2c66120536faa"
     }
    },
    "1bd7d91649534f7d9c5a73723e5cc517": {
     "model_module": "@jupyter-widgets/base",
     "model_module_version": "1.2.0",
     "model_name": "LayoutModel",
     "state": {
      "_model_module": "@jupyter-widgets/base",
      "_model_module_version": "1.2.0",
      "_model_name": "LayoutModel",
      "_view_count": null,
      "_view_module": "@jupyter-widgets/base",
      "_view_module_version": "1.2.0",
      "_view_name": "LayoutView",
      "align_content": null,
      "align_items": null,
      "align_self": null,
      "border": null,
      "bottom": null,
      "display": null,
      "flex": null,
      "flex_flow": null,
      "grid_area": null,
      "grid_auto_columns": null,
      "grid_auto_flow": null,
      "grid_auto_rows": null,
      "grid_column": null,
      "grid_gap": null,
      "grid_row": null,
      "grid_template_areas": null,
      "grid_template_columns": null,
      "grid_template_rows": null,
      "height": null,
      "justify_content": null,
      "justify_items": null,
      "left": null,
      "margin": null,
      "max_height": null,
      "max_width": null,
      "min_height": null,
      "min_width": null,
      "object_fit": null,
      "object_position": null,
      "order": null,
      "overflow": null,
      "overflow_x": null,
      "overflow_y": null,
      "padding": null,
      "right": null,
      "top": null,
      "visibility": null,
      "width": null
     }
    },
    "1dadc9a996c540149a82c4d151ca1223": {
     "model_module": "@jupyter-widgets/base",
     "model_module_version": "1.2.0",
     "model_name": "LayoutModel",
     "state": {
      "_model_module": "@jupyter-widgets/base",
      "_model_module_version": "1.2.0",
      "_model_name": "LayoutModel",
      "_view_count": null,
      "_view_module": "@jupyter-widgets/base",
      "_view_module_version": "1.2.0",
      "_view_name": "LayoutView",
      "align_content": null,
      "align_items": null,
      "align_self": null,
      "border": null,
      "bottom": null,
      "display": null,
      "flex": null,
      "flex_flow": null,
      "grid_area": null,
      "grid_auto_columns": null,
      "grid_auto_flow": null,
      "grid_auto_rows": null,
      "grid_column": null,
      "grid_gap": null,
      "grid_row": null,
      "grid_template_areas": null,
      "grid_template_columns": null,
      "grid_template_rows": null,
      "height": null,
      "justify_content": null,
      "justify_items": null,
      "left": null,
      "margin": null,
      "max_height": null,
      "max_width": null,
      "min_height": null,
      "min_width": null,
      "object_fit": null,
      "object_position": null,
      "order": null,
      "overflow": null,
      "overflow_x": null,
      "overflow_y": null,
      "padding": null,
      "right": null,
      "top": null,
      "visibility": null,
      "width": null
     }
    },
    "1f2179f021d24094843c8aa856afc350": {
     "model_module": "@jupyter-widgets/base",
     "model_module_version": "1.2.0",
     "model_name": "LayoutModel",
     "state": {
      "_model_module": "@jupyter-widgets/base",
      "_model_module_version": "1.2.0",
      "_model_name": "LayoutModel",
      "_view_count": null,
      "_view_module": "@jupyter-widgets/base",
      "_view_module_version": "1.2.0",
      "_view_name": "LayoutView",
      "align_content": null,
      "align_items": null,
      "align_self": null,
      "border": null,
      "bottom": null,
      "display": null,
      "flex": null,
      "flex_flow": null,
      "grid_area": null,
      "grid_auto_columns": null,
      "grid_auto_flow": null,
      "grid_auto_rows": null,
      "grid_column": null,
      "grid_gap": null,
      "grid_row": null,
      "grid_template_areas": null,
      "grid_template_columns": null,
      "grid_template_rows": null,
      "height": null,
      "justify_content": null,
      "justify_items": null,
      "left": null,
      "margin": null,
      "max_height": null,
      "max_width": null,
      "min_height": null,
      "min_width": null,
      "object_fit": null,
      "object_position": null,
      "order": null,
      "overflow": null,
      "overflow_x": null,
      "overflow_y": null,
      "padding": null,
      "right": null,
      "top": null,
      "visibility": null,
      "width": null
     }
    },
    "320b97f5373448d78629c2990011f84d": {
     "model_module": "@jupyter-widgets/controls",
     "model_module_version": "1.5.0",
     "model_name": "DescriptionStyleModel",
     "state": {
      "_model_module": "@jupyter-widgets/controls",
      "_model_module_version": "1.5.0",
      "_model_name": "DescriptionStyleModel",
      "_view_count": null,
      "_view_module": "@jupyter-widgets/base",
      "_view_module_version": "1.2.0",
      "_view_name": "StyleView",
      "description_width": ""
     }
    },
    "3554df53ab8643b2b09ca2417934ff1c": {
     "model_module": "@jupyter-widgets/controls",
     "model_module_version": "1.5.0",
     "model_name": "DescriptionStyleModel",
     "state": {
      "_model_module": "@jupyter-widgets/controls",
      "_model_module_version": "1.5.0",
      "_model_name": "DescriptionStyleModel",
      "_view_count": null,
      "_view_module": "@jupyter-widgets/base",
      "_view_module_version": "1.2.0",
      "_view_name": "StyleView",
      "description_width": ""
     }
    },
    "35bf47951154476c8fee4d3deaa02416": {
     "model_module": "@jupyter-widgets/controls",
     "model_module_version": "1.5.0",
     "model_name": "HTMLModel",
     "state": {
      "_dom_classes": [],
      "_model_module": "@jupyter-widgets/controls",
      "_model_module_version": "1.5.0",
      "_model_name": "HTMLModel",
      "_view_count": null,
      "_view_module": "@jupyter-widgets/controls",
      "_view_module_version": "1.5.0",
      "_view_name": "HTMLView",
      "description": "",
      "description_tooltip": null,
      "layout": "IPY_MODEL_0edff34939304c21b9c51a30dfe97c64",
      "placeholder": "​",
      "style": "IPY_MODEL_c349e7ba3e7043c8b53483ef27979870",
      "value": "Generate report structure: 100%"
     }
    },
    "48179fc5fd4047bfab7800f34c6c9870": {
     "model_module": "@jupyter-widgets/base",
     "model_module_version": "1.2.0",
     "model_name": "LayoutModel",
     "state": {
      "_model_module": "@jupyter-widgets/base",
      "_model_module_version": "1.2.0",
      "_model_name": "LayoutModel",
      "_view_count": null,
      "_view_module": "@jupyter-widgets/base",
      "_view_module_version": "1.2.0",
      "_view_name": "LayoutView",
      "align_content": null,
      "align_items": null,
      "align_self": null,
      "border": null,
      "bottom": null,
      "display": null,
      "flex": null,
      "flex_flow": null,
      "grid_area": null,
      "grid_auto_columns": null,
      "grid_auto_flow": null,
      "grid_auto_rows": null,
      "grid_column": null,
      "grid_gap": null,
      "grid_row": null,
      "grid_template_areas": null,
      "grid_template_columns": null,
      "grid_template_rows": null,
      "height": null,
      "justify_content": null,
      "justify_items": null,
      "left": null,
      "margin": null,
      "max_height": null,
      "max_width": null,
      "min_height": null,
      "min_width": null,
      "object_fit": null,
      "object_position": null,
      "order": null,
      "overflow": null,
      "overflow_x": null,
      "overflow_y": null,
      "padding": null,
      "right": null,
      "top": null,
      "visibility": null,
      "width": null
     }
    },
    "528ab3b68c00446191b14d4e831812c2": {
     "model_module": "@jupyter-widgets/base",
     "model_module_version": "1.2.0",
     "model_name": "LayoutModel",
     "state": {
      "_model_module": "@jupyter-widgets/base",
      "_model_module_version": "1.2.0",
      "_model_name": "LayoutModel",
      "_view_count": null,
      "_view_module": "@jupyter-widgets/base",
      "_view_module_version": "1.2.0",
      "_view_name": "LayoutView",
      "align_content": null,
      "align_items": null,
      "align_self": null,
      "border": null,
      "bottom": null,
      "display": null,
      "flex": null,
      "flex_flow": null,
      "grid_area": null,
      "grid_auto_columns": null,
      "grid_auto_flow": null,
      "grid_auto_rows": null,
      "grid_column": null,
      "grid_gap": null,
      "grid_row": null,
      "grid_template_areas": null,
      "grid_template_columns": null,
      "grid_template_rows": null,
      "height": null,
      "justify_content": null,
      "justify_items": null,
      "left": null,
      "margin": null,
      "max_height": null,
      "max_width": null,
      "min_height": null,
      "min_width": null,
      "object_fit": null,
      "object_position": null,
      "order": null,
      "overflow": null,
      "overflow_x": null,
      "overflow_y": null,
      "padding": null,
      "right": null,
      "top": null,
      "visibility": null,
      "width": null
     }
    },
    "55385a38416246dba331df393279aecc": {
     "model_module": "@jupyter-widgets/controls",
     "model_module_version": "1.5.0",
     "model_name": "HTMLModel",
     "state": {
      "_dom_classes": [],
      "_model_module": "@jupyter-widgets/controls",
      "_model_module_version": "1.5.0",
      "_model_name": "HTMLModel",
      "_view_count": null,
      "_view_module": "@jupyter-widgets/controls",
      "_view_module_version": "1.5.0",
      "_view_name": "HTMLView",
      "description": "",
      "description_tooltip": null,
      "layout": "IPY_MODEL_adb8343103f942fab9ca12ff06b01f66",
      "placeholder": "​",
      "style": "IPY_MODEL_9351954dc84f4195bb4f7a545c203e2c",
      "value": " 1/1 [00:09&lt;00:00,  9.10s/it]"
     }
    },
    "557a45003b1d4467bf535d379211fbf9": {
     "model_module": "@jupyter-widgets/base",
     "model_module_version": "1.2.0",
     "model_name": "LayoutModel",
     "state": {
      "_model_module": "@jupyter-widgets/base",
      "_model_module_version": "1.2.0",
      "_model_name": "LayoutModel",
      "_view_count": null,
      "_view_module": "@jupyter-widgets/base",
      "_view_module_version": "1.2.0",
      "_view_name": "LayoutView",
      "align_content": null,
      "align_items": null,
      "align_self": null,
      "border": null,
      "bottom": null,
      "display": null,
      "flex": null,
      "flex_flow": null,
      "grid_area": null,
      "grid_auto_columns": null,
      "grid_auto_flow": null,
      "grid_auto_rows": null,
      "grid_column": null,
      "grid_gap": null,
      "grid_row": null,
      "grid_template_areas": null,
      "grid_template_columns": null,
      "grid_template_rows": null,
      "height": null,
      "justify_content": null,
      "justify_items": null,
      "left": null,
      "margin": null,
      "max_height": null,
      "max_width": null,
      "min_height": null,
      "min_width": null,
      "object_fit": null,
      "object_position": null,
      "order": null,
      "overflow": null,
      "overflow_x": null,
      "overflow_y": null,
      "padding": null,
      "right": null,
      "top": null,
      "visibility": null,
      "width": null
     }
    },
    "66bf0b1b515e4e56ba41729739384136": {
     "model_module": "@jupyter-widgets/controls",
     "model_module_version": "1.5.0",
     "model_name": "HTMLModel",
     "state": {
      "_dom_classes": [],
      "_model_module": "@jupyter-widgets/controls",
      "_model_module_version": "1.5.0",
      "_model_name": "HTMLModel",
      "_view_count": null,
      "_view_module": "@jupyter-widgets/controls",
      "_view_module_version": "1.5.0",
      "_view_name": "HTMLView",
      "description": "",
      "description_tooltip": null,
      "layout": "IPY_MODEL_e1070b1246cc47cf8a92df0b791305a7",
      "placeholder": "​",
      "style": "IPY_MODEL_dfa2f85c804640fb93eff948d62a08ab",
      "value": "Export report to file: 100%"
     }
    },
    "7fe231569afa4e7690d5a59a93ccc871": {
     "model_module": "@jupyter-widgets/controls",
     "model_module_version": "1.5.0",
     "model_name": "HBoxModel",
     "state": {
      "_dom_classes": [],
      "_model_module": "@jupyter-widgets/controls",
      "_model_module_version": "1.5.0",
      "_model_name": "HBoxModel",
      "_view_count": null,
      "_view_module": "@jupyter-widgets/controls",
      "_view_module_version": "1.5.0",
      "_view_name": "HBoxView",
      "box_style": "",
      "children": [
       "IPY_MODEL_11a530d8dba84de388cd209bea6f3ed0",
       "IPY_MODEL_e58010d3b4fe43b59712837559112d15",
       "IPY_MODEL_d347b136009844feb535ff92c3f6562a"
      ],
      "layout": "IPY_MODEL_557a45003b1d4467bf535d379211fbf9"
     }
    },
    "840e951a592c49ddaf28d5353591592e": {
     "model_module": "@jupyter-widgets/controls",
     "model_module_version": "1.5.0",
     "model_name": "DescriptionStyleModel",
     "state": {
      "_model_module": "@jupyter-widgets/controls",
      "_model_module_version": "1.5.0",
      "_model_name": "DescriptionStyleModel",
      "_view_count": null,
      "_view_module": "@jupyter-widgets/base",
      "_view_module_version": "1.2.0",
      "_view_name": "StyleView",
      "description_width": ""
     }
    },
    "910b8e9ed7b4441c8bcbd5eeb3249010": {
     "model_module": "@jupyter-widgets/controls",
     "model_module_version": "1.5.0",
     "model_name": "DescriptionStyleModel",
     "state": {
      "_model_module": "@jupyter-widgets/controls",
      "_model_module_version": "1.5.0",
      "_model_name": "DescriptionStyleModel",
      "_view_count": null,
      "_view_module": "@jupyter-widgets/base",
      "_view_module_version": "1.2.0",
      "_view_name": "StyleView",
      "description_width": ""
     }
    },
    "9351954dc84f4195bb4f7a545c203e2c": {
     "model_module": "@jupyter-widgets/controls",
     "model_module_version": "1.5.0",
     "model_name": "DescriptionStyleModel",
     "state": {
      "_model_module": "@jupyter-widgets/controls",
      "_model_module_version": "1.5.0",
      "_model_name": "DescriptionStyleModel",
      "_view_count": null,
      "_view_module": "@jupyter-widgets/base",
      "_view_module_version": "1.2.0",
      "_view_name": "StyleView",
      "description_width": ""
     }
    },
    "94d15a8522804ba586ed04ca07af62d3": {
     "model_module": "@jupyter-widgets/controls",
     "model_module_version": "1.5.0",
     "model_name": "ProgressStyleModel",
     "state": {
      "_model_module": "@jupyter-widgets/controls",
      "_model_module_version": "1.5.0",
      "_model_name": "ProgressStyleModel",
      "_view_count": null,
      "_view_module": "@jupyter-widgets/base",
      "_view_module_version": "1.2.0",
      "_view_name": "StyleView",
      "bar_color": null,
      "description_width": ""
     }
    },
    "976e0bea81f5499992d62d7ee035af2d": {
     "model_module": "@jupyter-widgets/controls",
     "model_module_version": "1.5.0",
     "model_name": "HBoxModel",
     "state": {
      "_dom_classes": [],
      "_model_module": "@jupyter-widgets/controls",
      "_model_module_version": "1.5.0",
      "_model_name": "HBoxModel",
      "_view_count": null,
      "_view_module": "@jupyter-widgets/controls",
      "_view_module_version": "1.5.0",
      "_view_name": "HBoxView",
      "box_style": "",
      "children": [
       "IPY_MODEL_35bf47951154476c8fee4d3deaa02416",
       "IPY_MODEL_ba0169390ac24dc58e4d6b9e82fe15fa",
       "IPY_MODEL_55385a38416246dba331df393279aecc"
      ],
      "layout": "IPY_MODEL_48179fc5fd4047bfab7800f34c6c9870"
     }
    },
    "a88bebeadff447579eaf67189d415f03": {
     "model_module": "@jupyter-widgets/base",
     "model_module_version": "1.2.0",
     "model_name": "LayoutModel",
     "state": {
      "_model_module": "@jupyter-widgets/base",
      "_model_module_version": "1.2.0",
      "_model_name": "LayoutModel",
      "_view_count": null,
      "_view_module": "@jupyter-widgets/base",
      "_view_module_version": "1.2.0",
      "_view_name": "LayoutView",
      "align_content": null,
      "align_items": null,
      "align_self": null,
      "border": null,
      "bottom": null,
      "display": null,
      "flex": null,
      "flex_flow": null,
      "grid_area": null,
      "grid_auto_columns": null,
      "grid_auto_flow": null,
      "grid_auto_rows": null,
      "grid_column": null,
      "grid_gap": null,
      "grid_row": null,
      "grid_template_areas": null,
      "grid_template_columns": null,
      "grid_template_rows": null,
      "height": null,
      "justify_content": null,
      "justify_items": null,
      "left": null,
      "margin": null,
      "max_height": null,
      "max_width": null,
      "min_height": null,
      "min_width": null,
      "object_fit": null,
      "object_position": null,
      "order": null,
      "overflow": null,
      "overflow_x": null,
      "overflow_y": null,
      "padding": null,
      "right": null,
      "top": null,
      "visibility": null,
      "width": null
     }
    },
    "ad383d71f4d64536826f1f3d68707e8e": {
     "model_module": "@jupyter-widgets/controls",
     "model_module_version": "1.5.0",
     "model_name": "ProgressStyleModel",
     "state": {
      "_model_module": "@jupyter-widgets/controls",
      "_model_module_version": "1.5.0",
      "_model_name": "ProgressStyleModel",
      "_view_count": null,
      "_view_module": "@jupyter-widgets/base",
      "_view_module_version": "1.2.0",
      "_view_name": "StyleView",
      "bar_color": null,
      "description_width": ""
     }
    },
    "adb8343103f942fab9ca12ff06b01f66": {
     "model_module": "@jupyter-widgets/base",
     "model_module_version": "1.2.0",
     "model_name": "LayoutModel",
     "state": {
      "_model_module": "@jupyter-widgets/base",
      "_model_module_version": "1.2.0",
      "_model_name": "LayoutModel",
      "_view_count": null,
      "_view_module": "@jupyter-widgets/base",
      "_view_module_version": "1.2.0",
      "_view_name": "LayoutView",
      "align_content": null,
      "align_items": null,
      "align_self": null,
      "border": null,
      "bottom": null,
      "display": null,
      "flex": null,
      "flex_flow": null,
      "grid_area": null,
      "grid_auto_columns": null,
      "grid_auto_flow": null,
      "grid_auto_rows": null,
      "grid_column": null,
      "grid_gap": null,
      "grid_row": null,
      "grid_template_areas": null,
      "grid_template_columns": null,
      "grid_template_rows": null,
      "height": null,
      "justify_content": null,
      "justify_items": null,
      "left": null,
      "margin": null,
      "max_height": null,
      "max_width": null,
      "min_height": null,
      "min_width": null,
      "object_fit": null,
      "object_position": null,
      "order": null,
      "overflow": null,
      "overflow_x": null,
      "overflow_y": null,
      "padding": null,
      "right": null,
      "top": null,
      "visibility": null,
      "width": null
     }
    },
    "b1ec9c8c965443aa9dc2c14f956e3fd8": {
     "model_module": "@jupyter-widgets/controls",
     "model_module_version": "1.5.0",
     "model_name": "DescriptionStyleModel",
     "state": {
      "_model_module": "@jupyter-widgets/controls",
      "_model_module_version": "1.5.0",
      "_model_name": "DescriptionStyleModel",
      "_view_count": null,
      "_view_module": "@jupyter-widgets/base",
      "_view_module_version": "1.2.0",
      "_view_name": "StyleView",
      "description_width": ""
     }
    },
    "b3282ef41c0344cfbac2c66120536faa": {
     "model_module": "@jupyter-widgets/base",
     "model_module_version": "1.2.0",
     "model_name": "LayoutModel",
     "state": {
      "_model_module": "@jupyter-widgets/base",
      "_model_module_version": "1.2.0",
      "_model_name": "LayoutModel",
      "_view_count": null,
      "_view_module": "@jupyter-widgets/base",
      "_view_module_version": "1.2.0",
      "_view_name": "LayoutView",
      "align_content": null,
      "align_items": null,
      "align_self": null,
      "border": null,
      "bottom": null,
      "display": null,
      "flex": null,
      "flex_flow": null,
      "grid_area": null,
      "grid_auto_columns": null,
      "grid_auto_flow": null,
      "grid_auto_rows": null,
      "grid_column": null,
      "grid_gap": null,
      "grid_row": null,
      "grid_template_areas": null,
      "grid_template_columns": null,
      "grid_template_rows": null,
      "height": null,
      "justify_content": null,
      "justify_items": null,
      "left": null,
      "margin": null,
      "max_height": null,
      "max_width": null,
      "min_height": null,
      "min_width": null,
      "object_fit": null,
      "object_position": null,
      "order": null,
      "overflow": null,
      "overflow_x": null,
      "overflow_y": null,
      "padding": null,
      "right": null,
      "top": null,
      "visibility": null,
      "width": null
     }
    },
    "b468c9a7301f4ce1b3654b4e3754c72b": {
     "model_module": "@jupyter-widgets/controls",
     "model_module_version": "1.5.0",
     "model_name": "HTMLModel",
     "state": {
      "_dom_classes": [],
      "_model_module": "@jupyter-widgets/controls",
      "_model_module_version": "1.5.0",
      "_model_name": "HTMLModel",
      "_view_count": null,
      "_view_module": "@jupyter-widgets/controls",
      "_view_module_version": "1.5.0",
      "_view_name": "HTMLView",
      "description": "",
      "description_tooltip": null,
      "layout": "IPY_MODEL_e66e2c8e96a44449be5e1001b85b75bb",
      "placeholder": "​",
      "style": "IPY_MODEL_320b97f5373448d78629c2990011f84d",
      "value": "Render HTML: 100%"
     }
    },
    "ba0169390ac24dc58e4d6b9e82fe15fa": {
     "model_module": "@jupyter-widgets/controls",
     "model_module_version": "1.5.0",
     "model_name": "FloatProgressModel",
     "state": {
      "_dom_classes": [],
      "_model_module": "@jupyter-widgets/controls",
      "_model_module_version": "1.5.0",
      "_model_name": "FloatProgressModel",
      "_view_count": null,
      "_view_module": "@jupyter-widgets/controls",
      "_view_module_version": "1.5.0",
      "_view_name": "ProgressView",
      "bar_style": "success",
      "description": "",
      "description_tooltip": null,
      "layout": "IPY_MODEL_cb388cf87e3749b78fb3284dc8c4d957",
      "max": 1,
      "min": 0,
      "orientation": "horizontal",
      "style": "IPY_MODEL_94d15a8522804ba586ed04ca07af62d3",
      "value": 1
     }
    },
    "ba0da16763614e91a980c7096afd98d2": {
     "model_module": "@jupyter-widgets/controls",
     "model_module_version": "1.5.0",
     "model_name": "HTMLModel",
     "state": {
      "_dom_classes": [],
      "_model_module": "@jupyter-widgets/controls",
      "_model_module_version": "1.5.0",
      "_model_name": "HTMLModel",
      "_view_count": null,
      "_view_module": "@jupyter-widgets/controls",
      "_view_module_version": "1.5.0",
      "_view_name": "HTMLView",
      "description": "",
      "description_tooltip": null,
      "layout": "IPY_MODEL_1bd7d91649534f7d9c5a73723e5cc517",
      "placeholder": "​",
      "style": "IPY_MODEL_b1ec9c8c965443aa9dc2c14f956e3fd8",
      "value": " 1/1 [00:02&lt;00:00,  2.68s/it]"
     }
    },
    "be94a42d760c4e78b195f5b9142a6717": {
     "model_module": "@jupyter-widgets/controls",
     "model_module_version": "1.5.0",
     "model_name": "HTMLModel",
     "state": {
      "_dom_classes": [],
      "_model_module": "@jupyter-widgets/controls",
      "_model_module_version": "1.5.0",
      "_model_name": "HTMLModel",
      "_view_count": null,
      "_view_module": "@jupyter-widgets/controls",
      "_view_module_version": "1.5.0",
      "_view_name": "HTMLView",
      "description": "",
      "description_tooltip": null,
      "layout": "IPY_MODEL_1f2179f021d24094843c8aa856afc350",
      "placeholder": "​",
      "style": "IPY_MODEL_910b8e9ed7b4441c8bcbd5eeb3249010",
      "value": " 1/1 [00:00&lt;00:00, 33.37it/s]"
     }
    },
    "c349e7ba3e7043c8b53483ef27979870": {
     "model_module": "@jupyter-widgets/controls",
     "model_module_version": "1.5.0",
     "model_name": "DescriptionStyleModel",
     "state": {
      "_model_module": "@jupyter-widgets/controls",
      "_model_module_version": "1.5.0",
      "_model_name": "DescriptionStyleModel",
      "_view_count": null,
      "_view_module": "@jupyter-widgets/base",
      "_view_module_version": "1.2.0",
      "_view_name": "StyleView",
      "description_width": ""
     }
    },
    "ca0fc77495f442fa888f54b781f735de": {
     "model_module": "@jupyter-widgets/base",
     "model_module_version": "1.2.0",
     "model_name": "LayoutModel",
     "state": {
      "_model_module": "@jupyter-widgets/base",
      "_model_module_version": "1.2.0",
      "_model_name": "LayoutModel",
      "_view_count": null,
      "_view_module": "@jupyter-widgets/base",
      "_view_module_version": "1.2.0",
      "_view_name": "LayoutView",
      "align_content": null,
      "align_items": null,
      "align_self": null,
      "border": null,
      "bottom": null,
      "display": null,
      "flex": null,
      "flex_flow": null,
      "grid_area": null,
      "grid_auto_columns": null,
      "grid_auto_flow": null,
      "grid_auto_rows": null,
      "grid_column": null,
      "grid_gap": null,
      "grid_row": null,
      "grid_template_areas": null,
      "grid_template_columns": null,
      "grid_template_rows": null,
      "height": null,
      "justify_content": null,
      "justify_items": null,
      "left": null,
      "margin": null,
      "max_height": null,
      "max_width": null,
      "min_height": null,
      "min_width": null,
      "object_fit": null,
      "object_position": null,
      "order": null,
      "overflow": null,
      "overflow_x": null,
      "overflow_y": null,
      "padding": null,
      "right": null,
      "top": null,
      "visibility": null,
      "width": null
     }
    },
    "cb388cf87e3749b78fb3284dc8c4d957": {
     "model_module": "@jupyter-widgets/base",
     "model_module_version": "1.2.0",
     "model_name": "LayoutModel",
     "state": {
      "_model_module": "@jupyter-widgets/base",
      "_model_module_version": "1.2.0",
      "_model_name": "LayoutModel",
      "_view_count": null,
      "_view_module": "@jupyter-widgets/base",
      "_view_module_version": "1.2.0",
      "_view_name": "LayoutView",
      "align_content": null,
      "align_items": null,
      "align_self": null,
      "border": null,
      "bottom": null,
      "display": null,
      "flex": null,
      "flex_flow": null,
      "grid_area": null,
      "grid_auto_columns": null,
      "grid_auto_flow": null,
      "grid_auto_rows": null,
      "grid_column": null,
      "grid_gap": null,
      "grid_row": null,
      "grid_template_areas": null,
      "grid_template_columns": null,
      "grid_template_rows": null,
      "height": null,
      "justify_content": null,
      "justify_items": null,
      "left": null,
      "margin": null,
      "max_height": null,
      "max_width": null,
      "min_height": null,
      "min_width": null,
      "object_fit": null,
      "object_position": null,
      "order": null,
      "overflow": null,
      "overflow_x": null,
      "overflow_y": null,
      "padding": null,
      "right": null,
      "top": null,
      "visibility": null,
      "width": null
     }
    },
    "d347b136009844feb535ff92c3f6562a": {
     "model_module": "@jupyter-widgets/controls",
     "model_module_version": "1.5.0",
     "model_name": "HTMLModel",
     "state": {
      "_dom_classes": [],
      "_model_module": "@jupyter-widgets/controls",
      "_model_module_version": "1.5.0",
      "_model_name": "HTMLModel",
      "_view_count": null,
      "_view_module": "@jupyter-widgets/controls",
      "_view_module_version": "1.5.0",
      "_view_name": "HTMLView",
      "description": "",
      "description_tooltip": null,
      "layout": "IPY_MODEL_528ab3b68c00446191b14d4e831812c2",
      "placeholder": "​",
      "style": "IPY_MODEL_840e951a592c49ddaf28d5353591592e",
      "value": " 53/53 [00:26&lt;00:00,  3.26it/s, Completed]"
     }
    },
    "d558c002cb98434ab0d6d03c8a67a5dd": {
     "model_module": "@jupyter-widgets/controls",
     "model_module_version": "1.5.0",
     "model_name": "HBoxModel",
     "state": {
      "_dom_classes": [],
      "_model_module": "@jupyter-widgets/controls",
      "_model_module_version": "1.5.0",
      "_model_name": "HBoxModel",
      "_view_count": null,
      "_view_module": "@jupyter-widgets/controls",
      "_view_module_version": "1.5.0",
      "_view_name": "HBoxView",
      "box_style": "",
      "children": [
       "IPY_MODEL_b468c9a7301f4ce1b3654b4e3754c72b",
       "IPY_MODEL_11cc5c262c1c4acf965faf817cb2e953",
       "IPY_MODEL_ba0da16763614e91a980c7096afd98d2"
      ],
      "layout": "IPY_MODEL_0342bd9f249c463886bbea95928af041"
     }
    },
    "dfa2f85c804640fb93eff948d62a08ab": {
     "model_module": "@jupyter-widgets/controls",
     "model_module_version": "1.5.0",
     "model_name": "DescriptionStyleModel",
     "state": {
      "_model_module": "@jupyter-widgets/controls",
      "_model_module_version": "1.5.0",
      "_model_name": "DescriptionStyleModel",
      "_view_count": null,
      "_view_module": "@jupyter-widgets/base",
      "_view_module_version": "1.2.0",
      "_view_name": "StyleView",
      "description_width": ""
     }
    },
    "e1070b1246cc47cf8a92df0b791305a7": {
     "model_module": "@jupyter-widgets/base",
     "model_module_version": "1.2.0",
     "model_name": "LayoutModel",
     "state": {
      "_model_module": "@jupyter-widgets/base",
      "_model_module_version": "1.2.0",
      "_model_name": "LayoutModel",
      "_view_count": null,
      "_view_module": "@jupyter-widgets/base",
      "_view_module_version": "1.2.0",
      "_view_name": "LayoutView",
      "align_content": null,
      "align_items": null,
      "align_self": null,
      "border": null,
      "bottom": null,
      "display": null,
      "flex": null,
      "flex_flow": null,
      "grid_area": null,
      "grid_auto_columns": null,
      "grid_auto_flow": null,
      "grid_auto_rows": null,
      "grid_column": null,
      "grid_gap": null,
      "grid_row": null,
      "grid_template_areas": null,
      "grid_template_columns": null,
      "grid_template_rows": null,
      "height": null,
      "justify_content": null,
      "justify_items": null,
      "left": null,
      "margin": null,
      "max_height": null,
      "max_width": null,
      "min_height": null,
      "min_width": null,
      "object_fit": null,
      "object_position": null,
      "order": null,
      "overflow": null,
      "overflow_x": null,
      "overflow_y": null,
      "padding": null,
      "right": null,
      "top": null,
      "visibility": null,
      "width": null
     }
    },
    "e15aff5aa6ae486dad1f9c9455f9ddb9": {
     "model_module": "@jupyter-widgets/controls",
     "model_module_version": "1.5.0",
     "model_name": "ProgressStyleModel",
     "state": {
      "_model_module": "@jupyter-widgets/controls",
      "_model_module_version": "1.5.0",
      "_model_name": "ProgressStyleModel",
      "_view_count": null,
      "_view_module": "@jupyter-widgets/base",
      "_view_module_version": "1.2.0",
      "_view_name": "StyleView",
      "bar_color": null,
      "description_width": ""
     }
    },
    "e58010d3b4fe43b59712837559112d15": {
     "model_module": "@jupyter-widgets/controls",
     "model_module_version": "1.5.0",
     "model_name": "FloatProgressModel",
     "state": {
      "_dom_classes": [],
      "_model_module": "@jupyter-widgets/controls",
      "_model_module_version": "1.5.0",
      "_model_name": "FloatProgressModel",
      "_view_count": null,
      "_view_module": "@jupyter-widgets/controls",
      "_view_module_version": "1.5.0",
      "_view_name": "ProgressView",
      "bar_style": "success",
      "description": "",
      "description_tooltip": null,
      "layout": "IPY_MODEL_1dadc9a996c540149a82c4d151ca1223",
      "max": 5,
      "min": 0,
      "orientation": "horizontal",
      "style": "IPY_MODEL_f102deea4df745058c28db58cc54961c",
      "value": 5
     }
    },
    "e66e2c8e96a44449be5e1001b85b75bb": {
     "model_module": "@jupyter-widgets/base",
     "model_module_version": "1.2.0",
     "model_name": "LayoutModel",
     "state": {
      "_model_module": "@jupyter-widgets/base",
      "_model_module_version": "1.2.0",
      "_model_name": "LayoutModel",
      "_view_count": null,
      "_view_module": "@jupyter-widgets/base",
      "_view_module_version": "1.2.0",
      "_view_name": "LayoutView",
      "align_content": null,
      "align_items": null,
      "align_self": null,
      "border": null,
      "bottom": null,
      "display": null,
      "flex": null,
      "flex_flow": null,
      "grid_area": null,
      "grid_auto_columns": null,
      "grid_auto_flow": null,
      "grid_auto_rows": null,
      "grid_column": null,
      "grid_gap": null,
      "grid_row": null,
      "grid_template_areas": null,
      "grid_template_columns": null,
      "grid_template_rows": null,
      "height": null,
      "justify_content": null,
      "justify_items": null,
      "left": null,
      "margin": null,
      "max_height": null,
      "max_width": null,
      "min_height": null,
      "min_width": null,
      "object_fit": null,
      "object_position": null,
      "order": null,
      "overflow": null,
      "overflow_x": null,
      "overflow_y": null,
      "padding": null,
      "right": null,
      "top": null,
      "visibility": null,
      "width": null
     }
    },
    "eab067f9087344b7ba01631b791488e6": {
     "model_module": "@jupyter-widgets/base",
     "model_module_version": "1.2.0",
     "model_name": "LayoutModel",
     "state": {
      "_model_module": "@jupyter-widgets/base",
      "_model_module_version": "1.2.0",
      "_model_name": "LayoutModel",
      "_view_count": null,
      "_view_module": "@jupyter-widgets/base",
      "_view_module_version": "1.2.0",
      "_view_name": "LayoutView",
      "align_content": null,
      "align_items": null,
      "align_self": null,
      "border": null,
      "bottom": null,
      "display": null,
      "flex": null,
      "flex_flow": null,
      "grid_area": null,
      "grid_auto_columns": null,
      "grid_auto_flow": null,
      "grid_auto_rows": null,
      "grid_column": null,
      "grid_gap": null,
      "grid_row": null,
      "grid_template_areas": null,
      "grid_template_columns": null,
      "grid_template_rows": null,
      "height": null,
      "justify_content": null,
      "justify_items": null,
      "left": null,
      "margin": null,
      "max_height": null,
      "max_width": null,
      "min_height": null,
      "min_width": null,
      "object_fit": null,
      "object_position": null,
      "order": null,
      "overflow": null,
      "overflow_x": null,
      "overflow_y": null,
      "padding": null,
      "right": null,
      "top": null,
      "visibility": null,
      "width": null
     }
    },
    "f102deea4df745058c28db58cc54961c": {
     "model_module": "@jupyter-widgets/controls",
     "model_module_version": "1.5.0",
     "model_name": "ProgressStyleModel",
     "state": {
      "_model_module": "@jupyter-widgets/controls",
      "_model_module_version": "1.5.0",
      "_model_name": "ProgressStyleModel",
      "_view_count": null,
      "_view_module": "@jupyter-widgets/base",
      "_view_module_version": "1.2.0",
      "_view_name": "StyleView",
      "bar_color": null,
      "description_width": ""
     }
    }
   }
  }
 },
 "nbformat": 4,
 "nbformat_minor": 4
}
